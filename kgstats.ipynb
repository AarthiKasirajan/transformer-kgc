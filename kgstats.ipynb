{
 "cells": [
  {
   "cell_type": "code",
   "execution_count": 3,
   "id": "d5903a1c",
   "metadata": {},
   "outputs": [],
   "source": [
    "from tqdm import tqdm\n",
    "import pickle\n",
    "\n",
    "def readTriples(fname):\n",
    "    f = open(fname, 'r')\n",
    "    triples = []\n",
    "    for line in f:\n",
    "        line = line.strip().split('\\t')\n",
    "        if len(line) == 3:\n",
    "            triples.append(line)\n",
    "        else:\n",
    "            print(line)\n",
    "    return triples"
   ]
  },
  {
   "cell_type": "code",
   "execution_count": 4,
   "id": "3061eb37",
   "metadata": {},
   "outputs": [],
   "source": [
    "folder = '/scratche/home/apoorv/repos/probe_kge/data/codex-m'\n",
    "splits = ['train', 'valid', 'test']\n",
    "data = {}\n",
    "for s in splits:\n",
    "    fname = folder + '/' + s + '.txt'\n",
    "    data[s] = readTriples(fname)\n"
   ]
  },
  {
   "cell_type": "code",
   "execution_count": 5,
   "id": "d9d9d26a",
   "metadata": {},
   "outputs": [
    {
     "data": {
      "text/plain": [
       "185584"
      ]
     },
     "execution_count": 5,
     "metadata": {},
     "output_type": "execute_result"
    }
   ],
   "source": [
    "len(data['train'])"
   ]
  },
  {
   "cell_type": "code",
   "execution_count": 16,
   "id": "ea4e67a9",
   "metadata": {},
   "outputs": [],
   "source": [
    "from collections import defaultdict\n",
    "def get_sp_dict(triples):\n",
    "    sp_dict = defaultdict(list)\n",
    "    for t in triples:\n",
    "        sp = (t[2], t[1])\n",
    "        sp_dict[sp].append(t[0])\n",
    "    return sp_dict"
   ]
  },
  {
   "cell_type": "code",
   "execution_count": 17,
   "id": "8bad5fc8",
   "metadata": {},
   "outputs": [],
   "source": [
    "sp_train = get_sp_dict(data['train'])"
   ]
  },
  {
   "cell_type": "code",
   "execution_count": 18,
   "id": "59c06088",
   "metadata": {},
   "outputs": [
    {
     "data": {
      "text/plain": [
       "(185584, 18.696755994358252)"
      ]
     },
     "execution_count": 18,
     "metadata": {},
     "output_type": "execute_result"
    }
   ],
   "source": [
    "avg = 0\n",
    "for k, v in sp_train.items():\n",
    "    avg += len(v)\n",
    "avg, avg/len(sp_train)"
   ]
  },
  {
   "cell_type": "code",
   "execution_count": 19,
   "id": "f67eed30",
   "metadata": {},
   "outputs": [
    {
     "data": {
      "text/plain": [
       "(17859944, 887.6270563093285)"
      ]
     },
     "execution_count": 19,
     "metadata": {},
     "output_type": "execute_result"
    }
   ],
   "source": [
    "avg = 0\n",
    "for t in data['test']:\n",
    "    avg += len(sp_train[(t[2], t[1])])\n",
    "avg, avg/len(data['test'])"
   ]
  },
  {
   "cell_type": "code",
   "execution_count": null,
   "id": "1e302b89",
   "metadata": {},
   "outputs": [],
   "source": []
  }
 ],
 "metadata": {
  "kernelspec": {
   "display_name": "Python 3",
   "language": "python",
   "name": "python3"
  },
  "language_info": {
   "codemirror_mode": {
    "name": "ipython",
    "version": 3
   },
   "file_extension": ".py",
   "mimetype": "text/x-python",
   "name": "python",
   "nbconvert_exporter": "python",
   "pygments_lexer": "ipython3",
   "version": "3.8.8"
  }
 },
 "nbformat": 4,
 "nbformat_minor": 5
}
