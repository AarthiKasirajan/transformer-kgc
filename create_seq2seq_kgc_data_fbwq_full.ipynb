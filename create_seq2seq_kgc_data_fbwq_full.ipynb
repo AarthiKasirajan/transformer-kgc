{
 "cells": [
  {
   "cell_type": "code",
   "execution_count": 70,
   "id": "6294b12f",
   "metadata": {},
   "outputs": [],
   "source": [
    "import os\n",
    "import pickle\n",
    "from tqdm import tqdm\n",
    "import sentencepiece as spm"
   ]
  },
  {
   "cell_type": "code",
   "execution_count": 71,
   "id": "66554ebd",
   "metadata": {},
   "outputs": [
    {
     "name": "stdout",
     "output_type": "stream",
     "text": [
      "dataset.yaml\t\t\t    relations_all.dict\r\n",
      "entities.dict\t\t\t    relations.dict\r\n",
      "entity_ids.del\t\t\t    test.del\r\n",
      "entity_ids.del-True-t-False.pckl    test.del-t.pckl\r\n",
      "entity_ids.del-True-t-True.pckl     test.txt\r\n",
      "index-test_po_to_s.pckl\t\t    test_without_unseen.del\r\n",
      "index-test_sp_to_o.pckl\t\t    train.del\r\n",
      "index-train_po_to_s.pckl\t    train.del-t.pckl\r\n",
      "index-train_sp_to_o.pckl\t    train_sample.del\r\n",
      "index-valid_po_to_s.pckl\t    train.txt\r\n",
      "index-valid_sp_to_o.pckl\t    valid.del\r\n",
      "pruning_train.txt\t\t    valid.del-t.pckl\r\n",
      "relation_ids.del\t\t    valid.txt\r\n",
      "relation_ids.del-True-t-False.pckl  valid_without_unseen.del\r\n",
      "relation_ids.del-True-t-True.pckl\r\n"
     ]
    }
   ],
   "source": [
    "source_folder = '/scratche/home/apoorv/EmbedKGQA/data/fbwq_full'\n",
    "! ls {source_folder}"
   ]
  },
  {
   "cell_type": "code",
   "execution_count": 72,
   "id": "7d72b5aa",
   "metadata": {},
   "outputs": [],
   "source": [
    "fname = 'entities.dict'\n",
    "entities = []\n",
    "for line in open(os.path.join(source_folder, fname)):\n",
    "    line = line.strip().split('\\t')\n",
    "    entities.append(line[0])\n",
    "    \n",
    "fname = 'relations.dict'\n",
    "relations = []\n",
    "for line in open(os.path.join(source_folder, fname)):\n",
    "    line = line.strip().split('\\t')\n",
    "    relations.append(line[0])"
   ]
  },
  {
   "cell_type": "code",
   "execution_count": 73,
   "id": "59e18046",
   "metadata": {},
   "outputs": [],
   "source": [
    "def readTriples(fname):\n",
    "    f = open(fname)\n",
    "    triples = []\n",
    "    for line in f:\n",
    "        if line[-1] == '\\n':\n",
    "            line = line[:-1]\n",
    "        triples.append(line.split('\\t'))\n",
    "    f.close()\n",
    "    return triples"
   ]
  },
  {
   "cell_type": "code",
   "execution_count": 74,
   "id": "aa327398",
   "metadata": {},
   "outputs": [],
   "source": [
    "# load half data\n",
    "data = {}\n",
    "splits = ['train', 'test', 'valid']\n",
    "for split in splits:\n",
    "    fname = os.path.join(source_folder, split + '.txt')\n",
    "    data[split] = readTriples(fname)"
   ]
  },
  {
   "cell_type": "code",
   "execution_count": 75,
   "id": "da7e6850",
   "metadata": {},
   "outputs": [
    {
     "data": {
      "text/plain": [
       "['m.02sy14', 'people.person.nationality', 'm.09c7w0']"
      ]
     },
     "execution_count": 75,
     "metadata": {},
     "output_type": "execute_result"
    }
   ],
   "source": [
    "data['train'][5000]"
   ]
  },
  {
   "cell_type": "code",
   "execution_count": 76,
   "id": "410ead09",
   "metadata": {},
   "outputs": [],
   "source": [
    "from unidecode import unidecode\n",
    "# lowering everything\n",
    "\n",
    "def normalizeRelation(rel):\n",
    "#     rel = rel.replace('_', ' ')\n",
    "    rel = unidecode(rel)\n",
    "    rel = rel.split('.')[-1]\n",
    "    rel = rel.replace('_', ' ')\n",
    "    rel = rel.lower()\n",
    "    return rel\n",
    "\n",
    "def normalizeEntity(ent):\n",
    "    ent = unidecode(ent)\n",
    "    ent = ent.lower()\n",
    "    return ent\n",
    "\n",
    "def getBestName(names, max_words = 5):\n",
    "    best_name = names[0]\n",
    "    for name in names:\n",
    "        if name.endswith('@en'):\n",
    "            best_name = name\n",
    "    name = best_name.replace('\"', '')\n",
    "    name = name.split('@')[0]\n",
    "    name = normalizeEntity(name)\n",
    "#     name = name[:max_len]\n",
    "    name = ' '.join(name.split()[:max_words])\n",
    "    return name\n",
    "\n",
    "def getBestDescription(descriptions, max_description_words=8):\n",
    "    best_desc = descriptions[0]\n",
    "    for desc in descriptions:\n",
    "        if desc.endswith('@en'):\n",
    "            best_desc = desc\n",
    "    desc = best_desc\n",
    "    desc = (''.join(desc.split('@')[:-1])).replace('\"', '')\n",
    "    desc = ' '.join(desc.split()[:max_description_words])\n",
    "    # unidecode stuff\n",
    "    desc = normalizeEntity(desc)\n",
    "    return desc\n",
    "\n",
    "def addDescriptionToName(name, desc):\n",
    "    desc = desc.replace(name, 'it')\n",
    "    desc = desc.replace('it is a ', '')\n",
    "    desc = desc.replace('it was a ', '')\n",
    "    desc = desc.replace('it was an ', '')\n",
    "    desc = desc.replace('it is an ', '')\n",
    "    desc = desc.replace('it is the ', '')\n",
    "    desc = desc.replace('it was the ', '')\n",
    "    desc = desc.replace('.', '')\n",
    "    name = name + ' (' + desc + ')'\n",
    "    return name\n",
    "\n",
    "def truncateWords(name, num_words):\n",
    "    name = name.split()[:num_words]\n",
    "    name = ' '.join(name)\n",
    "    return name"
   ]
  },
  {
   "cell_type": "code",
   "execution_count": 89,
   "id": "452d89a7",
   "metadata": {},
   "outputs": [],
   "source": [
    "import pickle\n",
    "from tqdm import tqdm\n",
    "aliases_dict = {}\n",
    "count = 0\n",
    "fname = '/scratche/home/apoorv/freebase/ent_identifiers_fbwq_full.pickle'\n",
    "x = pickle.load(open(fname, 'rb'))\n",
    "descriptions = {}"
   ]
  },
  {
   "cell_type": "code",
   "execution_count": 90,
   "id": "e3f2d7b2",
   "metadata": {},
   "outputs": [
    {
     "name": "stderr",
     "output_type": "stream",
     "text": [
      "100%|██████████| 1886683/1886683 [00:10<00:00, 182391.86it/s]\n"
     ]
    }
   ],
   "source": [
    "max_name_words = 12\n",
    "for ent in tqdm(entities):\n",
    "    if ent not in x:\n",
    "        aliases_dict[ent] = getBestName([ent]) # to unidecode basically\n",
    "        count += 1\n",
    "        continue\n",
    "    reldict = x[ent]\n",
    "    if 'type.object.name' in reldict.keys():\n",
    "        names = reldict['type.object.name']\n",
    "        name = getBestName(names, 7)\n",
    "        aliases_dict[ent] = name\n",
    "    elif 'common.topic.description' in reldict.keys():\n",
    "        descs = reldict['common.topic.description']\n",
    "        name = getBestName(descs)\n",
    "        aliases_dict[ent] = name\n",
    "    elif 'common.topic.alias' in reldict.keys():\n",
    "        als = reldict['common.topic.alias']\n",
    "        name = getBestName(als)\n",
    "        aliases_dict[ent] = name\n",
    "    else:\n",
    "        aliases_dict[ent] = getBestName([ent])\n",
    "        count += 1\n",
    "    if 'common.topic.description' in reldict.keys():\n",
    "        descriptions[ent] = reldict['common.topic.description']"
   ]
  },
  {
   "cell_type": "code",
   "execution_count": 91,
   "id": "08915c83",
   "metadata": {},
   "outputs": [
    {
     "data": {
      "text/plain": [
       "'The Door is a 2009 drama-mystery film directed by Anno Saul.'"
      ]
     },
     "execution_count": 91,
     "metadata": {},
     "output_type": "execute_result"
    }
   ],
   "source": [
    "(''.join(descriptions['m.0bdtd0y'][0].split('@')[:-1])).replace('\"', '')"
   ]
  },
  {
   "cell_type": "code",
   "execution_count": 92,
   "id": "eae422b6",
   "metadata": {},
   "outputs": [
    {
     "data": {
      "text/plain": [
       "466751"
      ]
     },
     "execution_count": 92,
     "metadata": {},
     "output_type": "execute_result"
    }
   ],
   "source": [
    "i = 0\n",
    "count = 0\n",
    "for k, v in aliases_dict.items():\n",
    "    if v.startswith('g.') or v.startswith('m.'):\n",
    "        count += 1\n",
    "count"
   ]
  },
  {
   "cell_type": "code",
   "execution_count": 93,
   "id": "efeeeca4",
   "metadata": {},
   "outputs": [
    {
     "name": "stderr",
     "output_type": "stream",
     "text": [
      " 30%|██▉       | 557526/1886681 [00:00<00:00, 1689028.14it/s]"
     ]
    },
    {
     "name": "stdout",
     "output_type": "stream",
     "text": [
      "m.023bt5d\n",
      "m.0246ldz\n",
      "m.0246mrw\n",
      "m.0246qhf\n",
      "m.0246vd7\n"
     ]
    },
    {
     "name": "stderr",
     "output_type": "stream",
     "text": [
      " 82%|████████▏ | 1556138/1886681 [00:00<00:00, 2252154.82it/s]"
     ]
    },
    {
     "name": "stdout",
     "output_type": "stream",
     "text": [
      "m.0_sbf9\n",
      "m.0dp4kzg\n",
      "m.0ffmx61\n",
      "m.0fvgt68\n",
      "m.0g91jfv\n",
      "m.0gdd814\n",
      "m.0gfrrbr\n",
      "m.0pd1m03\n"
     ]
    },
    {
     "name": "stderr",
     "output_type": "stream",
     "text": [
      "100%|██████████| 1886681/1886681 [00:00<00:00, 2145602.25it/s]"
     ]
    },
    {
     "name": "stdout",
     "output_type": "stream",
     "text": [
      "m.0v7pt9\n",
      "m.0vfxz6\n",
      "m.0w3xy1\n",
      "m.0xgp1rf\n"
     ]
    },
    {
     "name": "stderr",
     "output_type": "stream",
     "text": [
      "\n"
     ]
    }
   ],
   "source": [
    "for k, v in tqdm(aliases_dict.items()):\n",
    "    if v == 'andante':\n",
    "        print(k)"
   ]
  },
  {
   "cell_type": "code",
   "execution_count": 94,
   "id": "361312d7",
   "metadata": {},
   "outputs": [],
   "source": [
    "relation_map = {}\n",
    "for rel in relations:\n",
    "    rel_processed = normalizeRelation(rel)\n",
    "    relation_map[rel] = rel_processed"
   ]
  },
  {
   "cell_type": "code",
   "execution_count": 95,
   "id": "a54a2a13",
   "metadata": {},
   "outputs": [],
   "source": [
    "entity_map = {}\n",
    "for ent in entities:\n",
    "    entity_map[ent] = aliases_dict[ent]"
   ]
  },
  {
   "cell_type": "code",
   "execution_count": 96,
   "id": "201f67c3",
   "metadata": {},
   "outputs": [
    {
     "data": {
      "text/plain": [
       "(1144, 920)"
      ]
     },
     "execution_count": 96,
     "metadata": {},
     "output_type": "execute_result"
    }
   ],
   "source": [
    "len(relation_map), len(set(relation_map.values()))"
   ]
  },
  {
   "cell_type": "code",
   "execution_count": 97,
   "id": "3ef1c681",
   "metadata": {},
   "outputs": [
    {
     "data": {
      "text/plain": [
       "(1886681, 1708331)"
      ]
     },
     "execution_count": 97,
     "metadata": {},
     "output_type": "execute_result"
    }
   ],
   "source": [
    "len(entity_map), len(set(entity_map.values()))"
   ]
  },
  {
   "cell_type": "code",
   "execution_count": 98,
   "id": "03affe38",
   "metadata": {},
   "outputs": [],
   "source": [
    "# don't care about uniqueness, since application is KGQA\n",
    "# and not KGC\n",
    "def getUniqueMap(init_map):\n",
    "    out_map = {}\n",
    "    aliases_done_reverse_dict = {}\n",
    "    max_description_words = 8\n",
    "    \n",
    "    for key, value in init_map.items():\n",
    "        if value not in out_map:\n",
    "            aliases_done_reverse_dict[value] = key\n",
    "        else:\n",
    "            if key in descriptions:\n",
    "                desc = getBestDescription(descriptions[key], max_description_words)\n",
    "                # remove name from description, since it will be repeated?\n",
    "                value = addDescriptionToName(value, desc)\n",
    "        out_map[key] = value\n",
    "        \n",
    "    return out_map\n",
    "\n",
    "def mapTriple(triple, ent_map, rel_map):\n",
    "    t = triple\n",
    "    if t[0] not in ent_map or t[2] not in ent_map:\n",
    "        print(t)\n",
    "        return t\n",
    "    \n",
    "    new_triple = [ent_map[t[0]], rel_map[t[1]], ent_map[t[2]]]\n",
    "    return new_triple"
   ]
  },
  {
   "cell_type": "code",
   "execution_count": 99,
   "id": "720a2a53",
   "metadata": {},
   "outputs": [],
   "source": [
    "uniq_ent_map = getUniqueMap(entity_map)"
   ]
  },
  {
   "cell_type": "code",
   "execution_count": 100,
   "id": "315fdfc2",
   "metadata": {},
   "outputs": [
    {
     "data": {
      "text/plain": [
       "'nastavnik'"
      ]
     },
     "execution_count": 100,
     "metadata": {},
     "output_type": "execute_result"
    }
   ],
   "source": [
    "entity_map['\"Nastavnik\"@h']"
   ]
  },
  {
   "cell_type": "code",
   "execution_count": 101,
   "id": "1e84e918",
   "metadata": {},
   "outputs": [
    {
     "name": "stdout",
     "output_type": "stream",
     "text": [
      "['g.113qbnjlk', 'country', 'socialist federal republic of yugoslavia']\n",
      "['g.119pgc86w', 'country', 'east germany']\n",
      "['g.119pgkfwp', 'country', 'germany']\n",
      "['g.11_p4_gjd', 'position s', 'midfielder']\n",
      "['g.11_p4_gjd', 'nationality', 'morocco']\n",
      "['g.11_pl46ml', 'country', 'turkey']\n",
      "['g.11b60s4p1_', 'country', 'germany']\n",
      "['g.11b62_430s', 'country', 'sweden']\n",
      "['g.11b66j1qpc', 'containedby', 'massachusetts']\n",
      "['g.11b66j1qpc', 'time zones', 'eastern time zone']\n",
      "['g.11b6b4217d', 'nationality', 'poland']\n",
      "['g.11b6b4217d', 'position s', 'midfielder']\n",
      "['g.11b6bbz4lt', 'country', 'japan']\n",
      "['g.11b6fx5vr2', 'containedby', 'italy']\n",
      "['g.11b6fx5vr2', 'containedby', 'calabria']\n",
      "['g.11b6g27zwp', 'containedby', 'calabria']\n",
      "['g.11b6g27zwp', 'containedby', 'italy']\n",
      "['g.11b6g6_pv1', 'nationality', 'portugal']\n",
      "['g.11b6g6_pv1', 'position s', 'midfielder']\n",
      "['g.11b6g6qf3x', 'containedby', 'calabria']\n",
      "['g.11b6g6qf3x', 'containedby', 'italy']\n",
      "['g.11b6g7g4sw', 'containedby', 'calabria']\n",
      "['g.11b6g7g4sw', 'containedby', 'italy']\n",
      "['g.11b6g8_55z', 'containedby', 'calabria']\n",
      "['g.11b6g8_55z', 'containedby', 'italy']\n",
      "['g.11b6gb743v', 'containedby', 'calabria']\n",
      "['g.11b6gb743v', 'containedby', 'italy']\n",
      "['g.11b6gcvqcq', 'containedby', 'lazio']\n",
      "['g.11b6gcvqcq', 'containedby', 'italy']\n",
      "['g.11b6gdwlvs', 'containedby', 'italy']\n",
      "['g.11b6gdwlvs', 'containedby', 'lazio']\n",
      "['g.11b6gdwlvs', 'containedby', 'province of rome']\n",
      "['g.11b6gfc2vl', 'containedby', 'italy']\n",
      "['g.11b6gfc2vl', 'containedby', 'lazio']\n",
      "['g.11b6gfnc92', 'containedby', 'calabria']\n",
      "['g.11b6gfnc92', 'containedby', 'italy']\n",
      "['g.11b6gggv27', 'containedby', 'italy']\n",
      "['g.11b6gggv27', 'containedby', 'lazio']\n",
      "['g.11b6ggkw99', 'containedby', 'lazio']\n",
      "['g.11b6ggkw99', 'containedby', 'italy']\n",
      "['g.11b6ggm18l', 'containedby', 'italy']\n",
      "['g.11b6ggm18l', 'containedby', 'lazio']\n",
      "['g.11b6gh2wrq', 'containedby', 'province of varese']\n",
      "['g.11b6gh2wrq', 'containedby', 'italy']\n",
      "['g.11b6gh2wtg', 'containedby', 'lazio']\n",
      "['g.11b6gh2wtg', 'containedby', 'italy']\n",
      "['g.11b6gh4c96', 'containedby', 'province of varese']\n",
      "['g.11b6gh4c96', 'containedby', 'italy']\n",
      "['g.11b6ghlzlx', 'containedby', 'italy']\n",
      "['g.11b6ghlzlx', 'containedby', 'lazio']\n",
      "['g.11b6gk98c1', 'containedby', 'lazio']\n",
      "['g.11b6gk98c1', 'containedby', 'italy']\n",
      "['g.11b6gm72nk', 'containedby', 'lazio']\n",
      "['g.11b6gm72nk', 'containedby', 'italy']\n",
      "['madunnella', 'country', 'italy']\n",
      "['taiberson', 'position s', 'forward']\n",
      "['taiberson', 'nationality', 'brazil']\n",
      "['jose maria y maria jose: una pareja', 'genre', 'drama']\n",
      "['jose maria y maria jose: una pareja', 'country', 'argentina']\n",
      "['g.11b6zl92vz', 'country', 'austria']\n",
      "['rachel', 'genre', 'drama']\n",
      "['rachel', 'country', 'france']\n",
      "['g.11b77pmp46', 'film', 'london road']\n",
      "['g.11b77pmp46', 'actor', 'tom hardy']\n",
      "['g.11b7_m1tgy', 'role', 'guitar']\n",
      "['g.11b7_m1tgy', 'role', 'vocals']\n",
      "['g.11b7_m3pxb', 'role', 'guitar']\n",
      "['g.11b7_m3pxb', 'role', 'vocals']\n",
      "['g.11b7_m49ct', 'role', 'bass guitar']\n",
      "['g.11b7_m49ct', 'role', 'vocals']\n",
      "['g.11b7_ms8r3', 'role', 'vocals']\n",
      "['flying biscuit', 'cuisine', 'american food']\n",
      "['flying biscuit', 'cuisine', 'bakery']\n",
      "['pierre erwan guillaume', 'profession', 'film director']\n",
      "['pierre erwan guillaume', 'profession', 'screenwriter']\n",
      "['g.11b7yszd59', 'country', 'united states of america']\n",
      "['g.11b81rq5px', 'role', 'vocals']\n",
      "['g.11b81s7mks', 'role', 'vocals']\n",
      "['g.11b81s7mks', 'role', 'drums']\n",
      "['g.11b82179gq', 'role', 'vocals']\n",
      "['g.11b82179gq', 'role', 'harmonica']\n",
      "['g.11b8228rjj', 'role', 'drums']\n",
      "['g.11b8228rjj', 'role', 'vocals']\n",
      "['g.11b8228rjj', 'role', 'bass guitar']\n",
      "['g.11b8228rjj', 'role', 'keyboard']\n",
      "['g.11b822h_t5', 'role', 'guitar']\n",
      "['g.11b822h_t5', 'role', 'vocals']\n",
      "['g.11b87qnj86', 'role', 'bass guitar']\n",
      "['g.11b87qnj86', 'role', 'guitar']\n",
      "['g.11b88dgpmj', 'role', 'clarinet']\n",
      "['g.11b88dgpmj', 'role', 'guitar']\n",
      "['g.11b88hjb1s', 'country', 'united states of america']\n",
      "['g.11bc71mzp1', 'country', 'turkey']\n",
      "['g.11btwg580f', 'role', 'vocals']\n",
      "['g.11btwg580f', 'role', 'guitar']\n",
      "['g.11btzwkwxz', 'role', 'vocals']\n",
      "['g.11btzwkwxz', 'role', 'harmonica']\n",
      "['g.11btzwwlz2', 'role', 'piano']\n",
      "['g.11btzwwlz2', 'role', 'vocals']\n",
      "['g.11btzx3dz8', 'role', 'vocals']\n",
      "['g.11btzx3dz8', 'role', 'piano']\n",
      "['g.11btzxk79c', 'country', 'united states of america']\n",
      "['g.11btzxvpwt', 'role', 'guitar']\n",
      "['g.11btzxvpwt', 'role', 'vocals']\n",
      "['g.11bv1mpk2m', 'role', 'vocals']\n",
      "['g.11bv1mpk2m', 'role', 'guitar']\n",
      "['g.11bv1mrffy', 'role', 'vocals']\n",
      "['g.11bv1mrffy', 'role', 'keyboard']\n",
      "['g.11bv1mrffy', 'role', 'percussion']\n",
      "['g.11bv3025nj', 'country', 'united states of america']\n",
      "['g.11bv38d1ys', 'role', 'drums']\n",
      "['g.11bv38d1ys', 'role', 'flute']\n",
      "['g.11bv5vgtjz', 'role', 'vocals']\n",
      "['g.11bv5vgtjz', 'role', 'guitar']\n",
      "['g.11bykbfwvg', 'role', 'piano']\n",
      "['g.11bykbfwvg', 'role', 'vocals']\n",
      "['g.11byp127gt', 'role', 'vocals']\n",
      "['g.11byp127gt', 'role', 'guitar']\n",
      "['g.11bypkfk9p', 'role', 'guitar']\n",
      "['g.11bypkfk9p', 'role', 'keyboard']\n",
      "['g.11c3js8yqq', 'role', 'vocals']\n",
      "['g.11c3jv4f0g', 'role', 'guitar']\n",
      "['g.11c3jv4f0g', 'role', 'vocals']\n",
      "['g.11c3jvfd7w', 'role', 'vocals']\n",
      "['g.11c3k1wcm7', 'role', 'vocals']\n",
      "['g.11c3k1wcm7', 'role', 'piano']\n",
      "['g.11c3k24ppk', 'role', 'trumpet']\n",
      "['g.11c3k24ppk', 'role', 'trombone']\n",
      "['g.11c3k59hy5', 'role', 'vocals']\n",
      "['g.11cfjm560', 'country', 'turkey']\n",
      "['g.11dyh_ldm', 'country', 'sweden']\n",
      "['g.11dykjsf2', 'country', 'sweden']\n",
      "['g.11dykjsvl', 'profession', 'actor']\n",
      "['g.11dykjsvl', 'profession', 'singer']\n",
      "['g.11dyksxwb', 'country', 'sweden']\n",
      "['g.11dylftgt', 'country', 'sweden']\n",
      "['allan nilsson', 'nationality', 'sweden']\n",
      "['allan nilsson', 'profession', 'actor']\n",
      "['g.11ksg7mth', 'nationality', 'france']\n",
      "['g.11ksg7mth', 'position s', 'forward']\n",
      "['g.11ksgn33v', 'country', 'germany']\n",
      "['g.11ksgwpjb', 'country', 'turkey']\n",
      "['g.11mvrnvvc', 'language family', 'turkic languages']\n",
      "['g.11mvrnvvc', 'language family', 'altaic languages']\n",
      "['g.11r7pxfhz', 'country', 'turkey']\n",
      "['margit schaumaker', 'nationality', 'germany']\n",
      "['margit schaumaker', 'place of birth', 'berlin']\n",
      "['margit schaumaker', 'profession', 'actor']\n",
      "['the diligent batman', 'country', 'russia']\n",
      "['tokyo heaven', 'genre', 'drama']\n",
      "['tokyo heaven', 'country', 'japan']\n",
      "['rene bezard', 'place of birth', 'le mans']\n",
      "['rene bezard', 'profession', 'film producer']\n",
      "['rene bezard', 'nationality', 'france']\n",
      "['g.11x9802s4', 'country', 'germany']\n",
      "['g.1203nnn_t', 'country', 'czech republic']\n",
      "['g.120_l_d8', 'nationality', 'poland']\n",
      "['g.120_l_d8', 'art forms', 'sculpture']\n",
      "['g.120jqvdh', 'country', 'india']\n",
      "['g.120l2t7m', 'country', 'france']\n",
      "['michael wollitz', 'position s', 'midfielder']\n",
      "['michael wollitz', 'nationality', 'germany']\n",
      "['g.120m0rln', 'nationality', 'austria']\n",
      "['g.120m0rln', 'profession', 'politician']\n",
      "['g.120nqfz4', 'nationality', 'lithuania']\n",
      "['g.120nqfz4', 'position s', 'midfielder']\n",
      "['g.120qcwk3', 'position s', 'midfielder']\n",
      "['g.120qcwk3', 'nationality', 'sweden']\n",
      "['g.120vhfvz', 'language family', 'turkic languages']\n",
      "['g.120vhfvz', 'language family', 'altaic languages']\n",
      "['g.120xp7c8', 'country', 'united states of america']\n",
      "['g.120yljj8', 'country', 'indonesia']\n",
      "['nunzio favia', 'nationality', 'italy']\n",
      "['nunzio favia', 'profession', 'musician']\n",
      "['g.120yxbbv', 'country', 'germany']\n",
      "['mayu fukunoue', 'profession', 'actor']\n",
      "['mayu fukunoue', 'place of birth', 'tokyo']\n",
      "['mayu fukunoue', 'nationality', 'japan']\n",
      "['g.120z6dck', 'country', 'united states of america']\n",
      "['g.120z6nxm', 'country', 'indonesia']\n",
      "['g.121316gr', 'country', 'soviet union']\n",
      "['paul rottger', 'nationality', 'netherlands']\n",
      "['paul rottger', 'profession', 'actor']\n",
      "['g.1214s1bv', 'containedby', 'tokyo']\n",
      "['g.1214s1bv', 'time zones', 'japan time zone']\n",
      "['g.121562qb', 'country', 'germany']\n",
      "['g.1215630t', 'country', 'east germany']\n",
      "['g.1215plxb', 'position s', 'midfielder']\n",
      "['g.1215plxb', 'nationality', 'france']\n",
      "['even de tissot', 'nationality', 'france']\n",
      "['even de tissot', 'profession', 'musician']\n",
      "['even de tissot', 'profession', 'film score composer']\n",
      "['yukiko makioka', 'profession', 'novelist']\n",
      "['yukiko makioka', 'nationality', 'japan']\n",
      "['yukiko makioka', 'place of birth', 'tokyo']\n",
      "['g.1218dbw7', 'country', 'italy']\n",
      "['g.1218dbw7', 'country', 'france']\n",
      "['g.1218rk9c', 'country', 'germany']\n",
      "['g.1218xkzh', 'language family', 'italic languages']\n",
      "['g.1218xkzh', 'language family', 'indo-european languages']\n",
      "['gian luigi rizzi', 'nationality', 'italy']\n",
      "['gian luigi rizzi', 'profession', 'musician']\n",
      "['gunter schlipper', 'position s', 'midfielder']\n",
      "['gunter schlipper', 'nationality', 'germany']\n",
      "['educator', 'name', 'shikssk']\n",
      "['educator', 'name', 'nastavnik']\n",
      "['educator', 'notable types', 'profession']\n",
      "['educator', 'name', 'pedagogas']\n",
      "['educator', 'name', 'pedagog']\n",
      "['educator', 'name', 'mdrws']\n",
      "['educator', 'name', 'shikssk']\n",
      "['educator', 'name', 'nastavnik']\n",
      "['educator', 'name', 'pedagogas']\n",
      "['educator', 'name', 'pedagog']\n",
      "['educator', 'name', 'mdrws']\n",
      "['educator', 'name', 'mdrws']\n",
      "['educator', 'name', 'pedagogas']\n",
      "['educator', 'name', 'pedagog']\n",
      "['educator', 'name', 'nastavnik']\n",
      "['educator', 'name', 'shikssk']\n",
      "['g.121bw96x', 'country', 'finland']\n",
      "['duelo em glory city', 'country', 'germany']\n",
      "['g.121d1hlj', 'country', 'tunisia']\n",
      "['g.121dc9c4', 'country', 'east germany']\n",
      "['g.121dcz8h', 'position s', 'midfielder']\n",
      "['g.121dcz8h', 'position s', 'forward']\n",
      "['g.121dpm5c', 'country', 'india']\n",
      "['dietrich rusche', 'nationality', 'germany']\n",
      "['dietrich rusche', 'place of birth', 'berlin']\n",
      "['g.121g7b9_', 'position s', 'midfielder']\n",
      "['g.121g7b9_', 'nationality', 'france']\n",
      "['g.121j21nm', 'place of birth', 'sydney']\n",
      "['g.121j21nm', 'nationality', 'australia']\n",
      "['julie wiggen', 'nationality', 'norway']\n",
      "['julie wiggen', 'profession', 'actor']\n",
      "['julie wiggen', 'place of birth', 'norway']\n",
      "['g.121n938l', 'nationality', 'finland']\n",
      "['g.121n938l', 'position s', 'midfielder']\n",
      "['g.121p1981', 'position s', 'midfielder']\n",
      "['g.121p1981', 'nationality', 'latvia']\n",
      "['g.121pk42r', 'country', 'italy']\n",
      "['g.121pk42r', 'country', 'spain']\n",
      "['antonio sanchez-barbudo', 'nationality', 'spain']\n",
      "['antonio sanchez-barbudo', 'place of birth', 'madrid']\n",
      "['g.121s42zt', 'nationality', 'france']\n",
      "['g.121s42zt', 'position s', 'midfielder']\n",
      "['g.121sx8x5', 'country', 'germany']\n",
      "['simon & schuster building', 'containedby', 'new york city']\n",
      "['simon & schuster building', 'containedby', 'united states of america']\n",
      "['eivind sander', 'profession', 'actor']\n",
      "['eivind sander', 'nationality', 'norway']\n",
      "['eivind sander', 'place of birth', 'norway']\n",
      "['g.121vxcl3', 'country', 'germany']\n",
      "['marisa colomber', 'profession', 'actor']\n",
      "['marisa colomber', 'nationality', 'italy']\n",
      "['g.121x727c', 'time zones', 'japan time zone']\n",
      "['g.121x727c', 'containedby', 'tokyo']\n",
      "['hadith college of tehran', 'containedby', 'tehran']\n",
      "['hadith college of tehran', 'containedby', 'iran']\n",
      "['hadith college of tehran', 'notable types', 'college/university']\n",
      "['g.121yswxh', 'nationality', 'poland']\n",
      "['g.121yswxh', 'art forms', 'sculpture']\n",
      "['rei asami', 'profession', 'actor']\n",
      "['rei asami', 'nationality', 'japan']\n",
      "['g.121zcrz_', 'genre', 'pop music']\n",
      "['g.121zcrz_', 'genre', 'country']\n",
      "['g.121zjq3m', 'profession', 'screenwriter']\n",
      "['g.121zjq3m', 'profession', 'actor']\n",
      "['g.122091xd', 'country', 'italy']\n",
      "['rogerio jacques', 'nationality', 'portugal']\n",
      "['rogerio jacques', 'place of birth', 'portugal']\n",
      "['rogerio jacques', 'profession', 'actor']\n",
      "['g.1222cbgv', 'country', 'united states of america']\n",
      "['maurice frydland', 'place of birth', 'france']\n",
      "['maurice frydland', 'profession', 'screenwriter']\n",
      "['maurice frydland', 'profession', 'actor']\n",
      "['maurice frydland', 'nationality', 'france']\n",
      "['g.1223qby8', 'country', 'germany']\n",
      "['g.1224tdkz', 'country', 'indonesia']\n",
      "['g.1225qdd1', 'country', 'italy']\n",
      "['g.122691ny', 'country', 'united states of america']\n",
      "['and love returned', 'country', 'egypt']\n",
      "['g.1227ctc7', 'country', 'indonesia']\n",
      "['g.1227jqtr', 'country', 'finland']\n",
      "['holy year', 'country', 'france']\n",
      "['holy year', 'country', 'italy']\n",
      "['deuntem salitul', 'place of birth', 'bangkok']\n",
      "['deuntem salitul', 'profession', 'actor']\n",
      "['deuntem salitul', 'nationality', 'thailand']\n",
      "['country comfort', 'composer', 'elton john']\n",
      "['g.1229dk0n', 'country', 'germany']\n",
      "['magdalena stupkiewicz-dobosz', 'nationality', 'poland']\n",
      "['magdalena stupkiewicz-dobosz', 'profession', 'singer-songwriter']\n",
      "['g.122dkt7j', 'nationality', 'france']\n",
      "['g.122dkt7j', 'position s', 'forward']\n",
      "['g.122gwfbx', 'position s', 'forward']\n",
      "['g.122gwfbx', 'nationality', 'germany']\n",
      "['g.122gwfbx', 'place of death', 'madrid']\n",
      "['g.122h0hq0', 'position s', 'forward']\n",
      "['g.122h0hq0', 'nationality', 'spain']\n",
      "['g.122h6mmf', 'country', 'finland']\n",
      "['g.122h6nw4', 'nationality', 'italy']\n",
      "['g.122h6nw4', 'ethnicity', 'italian people']\n",
      "['miltinho', 'profession', 'singer']\n",
      "['miltinho', 'nationality', 'brazil']\n",
      "['miltinho', 'profession', 'musician']\n",
      "['g.122k6539', 'containedby', 'tokyo']\n",
      "['g.122k6539', 'time zones', 'japan time zone']\n",
      "['louise conte', 'profession', 'actor']\n",
      "['louise conte', 'nationality', 'france']\n",
      "['g.122kzkk8', 'country', 'france']\n",
      "['g.122kzkk8', 'country', 'united kingdom']\n",
      "['g.122kzkk8', 'country', 'italy']\n",
      "['g.122kzkk8', 'country', 'spain']\n",
      "['g.122kzkk8', 'country', 'austria']\n",
      "['g.122kzkk8', 'country', 'south africa']\n",
      "['dmitry protzko', 'profession', 'guitarist']\n",
      "['dmitry protzko', 'nationality', 'russia']\n",
      "['dmitry protzko', 'profession', 'musician']\n",
      "['dmitry protzko', 'profession', 'songwriter']\n",
      "['dmitry protzko', 'place of birth', 'moscow']\n",
      "['g.122lvrj6', 'art forms', 'painting']\n",
      "['g.122lvrj6', 'art forms', 'drawing']\n",
      "['jamais avant le mariage', 'country', 'france']\n",
      "['g.122nc5r8', 'country', 'malaysia']\n",
      "['g.122qgbgm', 'language family', 'west germanic languages']\n",
      "['g.122qgbgm', 'language family', 'indo-european languages']\n",
      "['g.122qgbgm', 'language family', 'germanic languages']\n",
      "[\"angelo d'alessandro\", 'nationality', 'italy']\n",
      "[\"angelo d'alessandro\", 'profession', 'film director']\n",
      "[\"angelo d'alessandro\", 'place of death', 'rome']\n",
      "[\"angelo d'alessandro\", 'profession', 'screenwriter']\n",
      "['g.122sgt3z', 'country', 'yugoslavia']\n",
      "['g.122t1pzz', 'country', 'soviet union']\n",
      "['g.122tcnch', 'position s', 'forward']\n",
      "['g.122tcnch', 'nationality', 'france']\n",
      "['alfred drabits', 'position s', 'forward']\n",
      "['alfred drabits', 'nationality', 'austria']\n",
      "['g.122wt78l', 'country', 'sweden']\n",
      "['g.122wtvx8', 'country', 'netherlands']\n",
      "['g.122x8f_f', 'country', 'sweden']\n",
      "['jack hamel', 'nationality', 'netherlands']\n",
      "['jack hamel', 'profession', 'actor']\n",
      "['g.122z2plc', 'nationality', 'spain']\n",
      "['g.122z2plc', 'art forms', 'painting']\n",
      "['stefan ambrosius', 'nationality', 'germany']\n",
      "['stefan ambrosius', 'profession', 'musician']\n",
      "['g.12307d56', 'country', 'india']\n",
      "['g.1231417d', 'country', 'finland']\n",
      "['lisa feulner', 'nationality', 'germany']\n",
      "['lisa feulner', 'position s', 'midfielder']\n",
      "['g.1232p85d', 'country', 'united kingdom']\n",
      "['g.1233lkvm', 'country', 'nazi germany']\n",
      "[\"l'homme aux yeux d'argent\", 'country', 'france']\n",
      "['g.1236gznj', 'nationality', 'france']\n",
      "['g.1236gznj', 'position s', 'forward']\n",
      "['g.1238mbzd', 'country', 'germany']\n",
      "['g.1238mbzd', 'country', 'nazi germany']\n",
      "['pream busala-khamvong', 'nationality', 'thailand']\n",
      "['pream busala-khamvong', 'profession', 'actor']\n",
      "['pream busala-khamvong', 'profession', 'businessperson']\n",
      "['g.123976yg', 'country', 'malaysia']\n",
      "['g.1239_dmx', 'containedby', 'croatia']\n",
      "['g.1239_dmx', 'body of water', 'adriatic sea']\n",
      "['kalin arsov', 'nationality', 'bulgaria']\n",
      "['kalin arsov', 'profession', 'actor']\n",
      "['g.123dm914m', 'nationality', 'spain']\n",
      "['g.123dm914m', 'position s', 'midfielder']\n",
      "['jose lopez-rey', 'nationality', 'spain']\n",
      "['jose lopez-rey', 'notable types', 'author']\n",
      "['jose lopez-rey', 'nationality', 'united states of america']\n",
      "['jose lopez-rey', 'place of birth', 'madrid']\n",
      "['g.125556xqy', 'object', 'novelist']\n",
      "['g.125556xqy', 'notable object', 'novelist']\n",
      "['g.1255rzx_r', 'object', 'drama']\n",
      "['g.1255rzx_r', 'notable object', 'drama']\n",
      "['g.1256bxbvv', 'object', 'actor']\n",
      "['g.1256bxbvv', 'notable object', 'actor']\n",
      "['g.1256d9hqv', 'notable object', 'ice hockey']\n",
      "['g.1256d9hqv', 'object', 'ice hockey']\n",
      "['g.1256pgndm', 'notable object', 'fantasy']\n",
      "['g.1256pgndm', 'object', 'fantasy']\n",
      "['g.1256qv7h7', 'object', 'painting']\n",
      "['g.1256qv7h7', 'notable object', 'painting']\n",
      "['g.1256r9km6', 'object', 'model']\n",
      "['g.1256r9km6', 'notable object', 'model']\n",
      "['g.12572kslf', 'notable object', 'actor']\n",
      "['g.12572kslf', 'object', 'actor']\n",
      "['g.1257549fw', 'notable object', 'actor']\n",
      "['g.1257549fw', 'object', 'actor']\n",
      "['g.1257wxp6r', 'object', 'organization founder']\n",
      "['g.1257wxp6r', 'notable object', 'organization founder']\n",
      "['g.1258ql4bm', 'notable object', 'presenter']\n",
      "['g.1258ql4bm', 'object', 'presenter']\n",
      "['g.1258v87yy', 'notable object', 'traditional pop music']\n",
      "['g.1258v87yy', 'object', 'traditional pop music']\n",
      "['g.1259g2g9b', 'object', 'singer-songwriter']\n",
      "['g.1259g2g9b', 'notable object', 'singer-songwriter']\n",
      "['g.1259gdb5p', 'notable object', 'football']\n",
      "['g.1259gdb5p', 'object', 'football']\n",
      "['g.1259mgjd3', 'notable object', 'actor']\n",
      "['g.1259mgjd3', 'object', 'actor']\n",
      "['g.1259p31t7', 'object', 'college/university']\n",
      "['g.1259p31t7', 'notable object', 'college/university']\n",
      "['g.1259pws0b', 'notable object', 'inventor']\n",
      "['g.1259pws0b', 'object', 'inventor']\n",
      "['g.125ck6w45', 'notable object', 'writer']\n",
      "['g.125ck6w45', 'object', 'writer']\n",
      "['g.125d4xfc9', 'notable object', 'drama']\n",
      "['g.125d4xfc9', 'object', 'drama']\n",
      "['g.125d8f59s', 'object', 'fiction']\n",
      "['g.125d8f59s', 'notable object', 'fiction']\n",
      "['g.125dwc37n', 'notable object', 'baroque music']\n",
      "['g.125dwc37n', 'object', 'baroque music']\n",
      "['g.125fy1r9_', 'notable object', 'actor']\n",
      "['g.125fy1r9_', 'object', 'actor']\n",
      "['g.125gvcg2s', 'object', 'explorer']\n",
      "['g.125gvcg2s', 'notable object', 'explorer']\n",
      "['g.125gzt7py', 'object', 'writer']\n",
      "['g.125gzt7py', 'notable object', 'writer']\n",
      "['g.125h3j1r7', 'notable object', 'drama']\n",
      "['g.125h3j1r7', 'object', 'drama']\n",
      "['g.125h6qf21', 'notable object', 'fantasy']\n",
      "['g.125h6qf21', 'object', 'fantasy']\n",
      "['g.125n2x2wx', 'country', 'east germany']\n",
      "['g.126tmm2z4', 'notable object', 'science fiction']\n",
      "['g.126tmm2z4', 'object', 'science fiction']\n",
      "['g.12bfg2ttc', 'country', 'germany']\n",
      "['viktor nordin', 'place of birth', 'stockholm']\n",
      "['viktor nordin', 'nationality', 'sweden']\n",
      "['g.12dpx3gf1', 'country', 'finland']\n",
      "['g.12lqjq5qh', 'country', 'sweden']\n",
      "['g.12mkyc1jy', 'country', 'sweden']\n",
      "['too beautiful to die', 'country', 'italy']\n",
      "['g.12pgd57hd', 'genre', 'jazz']\n",
      "['g.12pgd57hd', 'genre', 'funk']\n",
      "['g.12pgd57hd', 'genre', 'disco']\n",
      "['g.12qhk_kfs', 'country', 'iran']\n",
      "['g.12qhkbwm0', 'country', 'iran']\n",
      "['g.12qhkcp7d', 'country', 'iran']\n",
      "['g.12qhkm9mh', 'country', 'iran']\n",
      "['herbert dirmoser', 'place of birth', 'vienna']\n",
      "['herbert dirmoser', 'profession', 'actor']\n",
      "['herbert dirmoser', 'nationality', 'austria']\n",
      "['the humans', 'country', 'iran']\n",
      "['g.12qhkxzlz', 'country', 'iran']\n",
      "['g.12qhl04k4', 'country', 'iran']\n",
      "['g.12vzpnb1p', 'country', 'germany']\n",
      "['g.12z654chz', 'country', 'denmark']\n",
      "['g.155prl3q', 'country', 'turkey']\n",
      "['g.155qftbx', 'profession', 'singer']\n",
      "['g.155qftbx', 'profession', 'actor']\n",
      "['han ying', 'nationality', 'china']\n",
      "['han ying', 'profession', 'actor']\n",
      "['g.15dqb8tw', 'country', 'iran']\n",
      "['g.1hb_gwvcq', 'nationality', 'france']\n",
      "['g.1hb_gwvcq', 'position s', 'forward']\n",
      "['g.1hbpwz5g_', 'position s', 'forward']\n",
      "['g.1hbpwz5g_', 'position s', 'midfielder']\n",
      "['g.1hc0h29l0', 'country', 'iran']\n",
      "['g.1hc0hbsjn', 'country', 'indonesia']\n",
      "['paul knaplund', 'nationality', 'norway']\n",
      "['paul knaplund', 'nationality', 'united states of america']\n",
      "['paul knaplund', 'notable types', 'author']\n",
      "['g.1hh_p7fng', 'country', 'sweden']\n",
      "['g.1hl3gfxbn', 'country', 'united states of america']\n",
      "['g.1pxxp1f65', 'place of birth', 'netherlands']\n",
      "['g.1pxxp1f65', 'position s', 'forward']\n",
      "['g.1pz2tp2tg', 'country', 'ukraine']\n",
      "['g.1pz2tt8sr', 'country', 'ukraine']\n",
      "['g.1pznmmm19', 'country', 'germany']\n",
      "['g.1pzpdby48', 'place of death', 'paris']\n",
      "['g.1pzpdby48', 'nationality', 'france']\n",
      "['g.1pzpdgvqp', 'country', 'spain']\n",
      "['g.1q2xhkdpp', 'nationality', 'germany']\n",
      "['g.1q2xhkdpp', 'position s', 'midfielder']\n",
      "['g.1q54w581j', 'country', 'ukraine']\n",
      "['the divergent series: allegiant - part 1', 'country', 'united states of america']\n",
      "['g.1q5bffz5d', 'religion', 'buddhism']\n",
      "['g.1q5bffz5d', 'religion', 'orthodox christianity']\n",
      "['g.1q5bstvk4', 'country', 'italy']\n",
      "['g.1q5z0hsx8', 'country', 'germany']\n",
      "['huijie ge', 'nationality', 'china']\n",
      "['huijie ge', 'profession', 'model']\n",
      "['g.1q6l93lg4', 'country', 'united states of america']\n",
      "['g.1s056gg16', 'country', 'weimar republic']\n",
      "['g.1s05ptmwy', 'country', 'italy']\n",
      "['600 fairbanks court', 'containedby', 'chicago']\n",
      "['600 fairbanks court', 'containedby', 'united states of america']\n",
      "['the portuguese nun', 'country', 'france']\n",
      "['the portuguese nun', 'genre', 'drama']\n",
      "['the portuguese nun', 'country', 'portugal']\n",
      "['g.1ydxpz00q', 'country', 'germany']\n",
      "['g.1yg57nsjw', 'object', 'actor']\n",
      "['g.1yg57nsjw', 'notable object', 'actor']\n",
      "['jon sherman', 'profession', 'screenwriter']\n",
      "['jon sherman', 'profession', 'film director']\n",
      "['g.1yjg7xb3d', 'position s', 'midfielder']\n",
      "['g.1yjg7xb3d', 'nationality', 'slovakia']\n",
      "['g.1ylhlf8tg', 'country', 'hungary']\n"
     ]
    }
   ],
   "source": [
    "for id in range(500):\n",
    "    print(mapTriple(data['train'][id], uniq_ent_map, relation_map))"
   ]
  },
  {
   "cell_type": "code",
   "execution_count": 102,
   "id": "2afb2faf",
   "metadata": {},
   "outputs": [],
   "source": [
    "import pickle\n",
    "fname = '../freebase/webqsp_aliases_from_questions.pickle'\n",
    "webqsp_aliases = pickle.load(open(fname, 'rb'))"
   ]
  },
  {
   "cell_type": "code",
   "execution_count": 103,
   "id": "48ac2815",
   "metadata": {},
   "outputs": [
    {
     "data": {
      "text/plain": [
       "6069"
      ]
     },
     "execution_count": 103,
     "metadata": {},
     "output_type": "execute_result"
    }
   ],
   "source": [
    "count = 0\n",
    "for key, value in webqsp_aliases.items():\n",
    "    if key in uniq_ent_map:\n",
    "        val_from_map = uniq_ent_map[key]\n",
    "        value = normalizeEntity(value)\n",
    "        # TODO: randomly chose 12 words\n",
    "        value = truncateWords(value, 12)\n",
    "        if value != val_from_map:\n",
    "            count += 1\n",
    "            uniq_ent_map[key] = value\n",
    "#             print(key, '*', value, '*', val_from_map)\n",
    "count      "
   ]
  },
  {
   "cell_type": "code",
   "execution_count": 104,
   "id": "55b0059b",
   "metadata": {},
   "outputs": [
    {
     "data": {
      "text/plain": [
       "5780246"
      ]
     },
     "execution_count": 104,
     "metadata": {},
     "output_type": "execute_result"
    }
   ],
   "source": [
    "len(data['train'])"
   ]
  },
  {
   "cell_type": "code",
   "execution_count": 105,
   "id": "09507964",
   "metadata": {},
   "outputs": [],
   "source": [
    "# save maps\n",
    "import pickle\n",
    "fname = 'data/fbwq_full/ent_map_fbwq_full.pickle'\n",
    "pickle.dump(uniq_ent_map, open(fname, 'wb'))\n",
    "fname = 'data/fbwq_full/rel_map_fbwq_full.pickle'\n",
    "pickle.dump(relation_map, open(fname, 'wb'))"
   ]
  },
  {
   "cell_type": "code",
   "execution_count": 106,
   "id": "dec20bbe",
   "metadata": {},
   "outputs": [
    {
     "name": "stdout",
     "output_type": "stream",
     "text": [
      "['m.0gdtw1r', 'type.object.name', ' Never Can Say Goodbye\"@e']\n",
      "['m.02x8n1n', 'type.object.name', ' Bester Nebendarsteller\"@d']\n",
      "['m.010xh2s4', 'type.object.name', ' Stay\"@e']\n",
      "['m.09sdmz', 'type.object.name', ' Bester Nebendarsteller\"@d']\n",
      "['g.11b821q1dm', 'type.object.name', ' Acte IV, scène 2. Un appartement dans le château\"@f']\n",
      "['g.11b821q1dm', 'type.object.name', ' Acte IV, scène 2. Un appartement dans le château\"@f']\n",
      "['g.11b821q1dm', 'type.object.name', ' Acte IV, scène 2. Un appartement dans le château\"@f']\n",
      "['m.0_hs1gl', 'type.object.name', ' II. Kyrie\"@l']\n",
      "['m.0zl21_0', 'type.object.name', ' KV deest: Canon\"@l']\n",
      "['m.018cgg4', 'type.object.name', ' No Limit\"@e']\n",
      "['m.0zjbtss', 'type.object.name', ' no. 3 in E-flat major, K. 509: German Dance & Trio\"@e']\n",
      "['m.0rk7n_b', 'type.object.name', ' Into the Mystic\"@e']\n",
      "['m.0gqy2', 'type.object.name', ' Bester Nebendarsteller\"@d']\n",
      "['m.0nljcpm', 'type.object.name', ' Into the Mystic\"@e']\n",
      "['m.0_hrz7g', 'type.object.name', ' Acte IV, scène 2. Un appartement dans le château\"@f']\n",
      "['m.019bzhk', 'type.object.name', ' No Limit\"@e']\n",
      "['m.0zl_fdg', 'type.object.name', ' no. 3 in E-flat major, K. 509: German Dance & Trio\"@e']\n",
      "['m.0nlf5rz', 'type.object.name', ' Stay\"@e']\n",
      "['m.0_hzrc3', 'type.object.name', ' II. Kyrie\"@l']\n",
      "['m.0dt_ptv', 'type.object.name', ' Never Can Say Goodbye\"@e']\n",
      "['m.0zkjv_w', 'type.object.name', ' KV deest: Canon\"@l']\n",
      "['m.0t_fzw', 'type.object.name', ' Stay\"@e']\n"
     ]
    }
   ],
   "source": [
    "out_folder = '/scratche/home/apoorv/transformer-kgc/data/fbwq_full'\n",
    "splits = ['train', 'test', 'valid']\n",
    "\n",
    "count = 0\n",
    "for split in splits:\n",
    "    fname = os.path.join(out_folder, split + '.txt')\n",
    "    f = open(fname, 'w')\n",
    "    triples = data[split]\n",
    "    for t in triples:\n",
    "        \n",
    "        t = mapTriple(t, uniq_ent_map, relation_map)\n",
    "        # only save those that DO NOT start with m. or g.\n",
    "        # we can do that since aim is KGQA not KGC\n",
    "        head, relation, tail = t\n",
    "        if head.startswith('m.') or head.startswith('g.'):\n",
    "            count += 1\n",
    "            continue\n",
    "        if tail.startswith('m.') or tail.startswith('g.'):\n",
    "            count += 1\n",
    "            continue\n",
    "        input = 'predict tail: {0} | {1} |'.format(head, relation)\n",
    "        output = '{}'.format(tail)\n",
    "        f.write(input + '\\t' + output + '\\n')\n",
    "        \n",
    "        input = 'predict head: {0} | {1} |'.format(tail, relation)\n",
    "        output = '{}'.format(head)\n",
    "        f.write(input + '\\t' + output + '\\n')\n",
    "    f.close()"
   ]
  },
  {
   "cell_type": "code",
   "execution_count": 107,
   "id": "9c498634",
   "metadata": {},
   "outputs": [
    {
     "data": {
      "text/plain": [
       "1019066"
      ]
     },
     "execution_count": 107,
     "metadata": {},
     "output_type": "execute_result"
    }
   ],
   "source": [
    "count"
   ]
  },
  {
   "cell_type": "code",
   "execution_count": 108,
   "id": "483eab98",
   "metadata": {},
   "outputs": [],
   "source": [
    "# create entity_strings.txt which is needed in evaluation code\n",
    "strings_file_name = 'entity_strings.txt'\n",
    "f = open(os.path.join(out_folder, strings_file_name), 'w')\n",
    "ents_uniq = set(uniq_ent_map.values())\n",
    "for e in ents_uniq:\n",
    "    f.write(e + '\\n')\n",
    "f.close()"
   ]
  },
  {
   "cell_type": "code",
   "execution_count": 99,
   "id": "92b98056",
   "metadata": {},
   "outputs": [],
   "source": [
    "# webqsp qa \n",
    "# def readQALines(fname):\n",
    "#     f = open(fname)\n",
    "#     questions = []\n",
    "#     for line in f:\n",
    "#         line = line.strip().split('\\t')\n",
    "#         q = line[0]\n",
    "#         lhs = q.split('[')[0]\n",
    "#         rhs = q.split(']')[1]\n",
    "#         only_question = lhs + 'NE' + rhs\n",
    "#         only_question = normalizeEntity(only_question)\n",
    "# #         q = q.replace('[', '')\n",
    "# #         q = q.replace(']', '')\n",
    "# #         q = normalizeEntity(q)\n",
    "#         questions.append(only_question)\n",
    "#     return questions\n",
    "        \n",
    "# def writeLines(lines, fname):\n",
    "#     f = open(fname, 'w')\n",
    "#     for line in lines:\n",
    "#         f.write(line + '\\n')\n"
   ]
  },
  {
   "cell_type": "code",
   "execution_count": 122,
   "id": "7c0446cc",
   "metadata": {},
   "outputs": [],
   "source": []
  },
  {
   "cell_type": "code",
   "execution_count": 103,
   "id": "b9f40016",
   "metadata": {},
   "outputs": [
    {
     "data": {
      "text/plain": [
       "'what character did natalie portman play in star wars NE'"
      ]
     },
     "execution_count": 103,
     "metadata": {},
     "output_type": "execute_result"
    }
   ],
   "source": []
  },
  {
   "cell_type": "code",
   "execution_count": 81,
   "id": "7cd8116f",
   "metadata": {},
   "outputs": [],
   "source": [
    "# fname = 'data/MetaQA/full_qa.txt'\n",
    "# questions = readQALines(fname)\n",
    "# questions = list(set(questions))"
   ]
  },
  {
   "cell_type": "code",
   "execution_count": 82,
   "id": "31ccafbc",
   "metadata": {},
   "outputs": [],
   "source": [
    "# fname = 'data/MetaQA/only_questions_text.txt'\n",
    "# writeLines(questions, fname)"
   ]
  },
  {
   "cell_type": "code",
   "execution_count": 138,
   "id": "8a8e6782",
   "metadata": {},
   "outputs": [],
   "source": [
    "vocab_size = 30000\n",
    "sp = spm.SentencePieceTrainer.train(input='data/fbwq_half/train.txt', \n",
    "                                    model_prefix='fbwq_with_pad', vocab_size=vocab_size, \n",
    "                                    pad_id=3,\n",
    "#                                     character_coverage=1.0,\n",
    "#                                user_defined_symbols=['predict',\n",
    "#                                                     'head',\n",
    "#                                                     'tail',\n",
    "#                                                     '|'],\n",
    "#                                     normalization_rule_name='identity',\n",
    "                              )"
   ]
  },
  {
   "cell_type": "code",
   "execution_count": 139,
   "id": "c2256ddf",
   "metadata": {},
   "outputs": [],
   "source": [
    "# sp = spm.SentencePieceProcessor(model_file='data/sentencepiece/metaqa_with_pad.model')\n",
    "sp = spm.SentencePieceProcessor(model_file='fbwq_with_pad.model')"
   ]
  },
  {
   "cell_type": "code",
   "execution_count": 38,
   "id": "8e3aa571",
   "metadata": {},
   "outputs": [
    {
     "data": {
      "text/plain": [
       "0"
      ]
     },
     "execution_count": 38,
     "metadata": {},
     "output_type": "execute_result"
    }
   ],
   "source": [
    "# sp['Obama']"
   ]
  },
  {
   "cell_type": "code",
   "execution_count": 151,
   "id": "ba0b22e2",
   "metadata": {},
   "outputs": [
    {
     "data": {
      "text/plain": [
       "'how old'"
      ]
     },
     "execution_count": 151,
     "metadata": {},
     "output_type": "execute_result"
    }
   ],
   "source": [
    "sp.decode(sp.encode('how old'))"
   ]
  },
  {
   "cell_type": "code",
   "execution_count": 192,
   "id": "2c83c7a2",
   "metadata": {},
   "outputs": [
    {
     "data": {
      "text/plain": [
       "[5, 0, 12497, 0]"
      ]
     },
     "execution_count": 192,
     "metadata": {},
     "output_type": "execute_result"
    }
   ],
   "source": [
    "sp.encode('<pad>')"
   ]
  },
  {
   "cell_type": "code",
   "execution_count": 195,
   "id": "dc8aa35e",
   "metadata": {},
   "outputs": [
    {
     "data": {
      "text/plain": [
       "2"
      ]
     },
     "execution_count": 195,
     "metadata": {},
     "output_type": "execute_result"
    }
   ],
   "source": [
    "sp['</s>']"
   ]
  },
  {
   "cell_type": "code",
   "execution_count": 193,
   "id": "0b28dd64",
   "metadata": {},
   "outputs": [
    {
     "data": {
      "text/plain": [
       "'<pad>'"
      ]
     },
     "execution_count": 193,
     "metadata": {},
     "output_type": "execute_result"
    }
   ],
   "source": [
    "sp.id_to_piece(3)"
   ]
  },
  {
   "cell_type": "code",
   "execution_count": 176,
   "id": "30733281",
   "metadata": {},
   "outputs": [
    {
     "name": "stderr",
     "output_type": "stream",
     "text": [
      "100%|██████████| 1712213/1712213 [00:18<00:00, 91029.72it/s] \n"
     ]
    },
    {
     "data": {
      "text/plain": [
       "0"
      ]
     },
     "execution_count": 176,
     "metadata": {},
     "output_type": "execute_result"
    }
   ],
   "source": [
    "lengths = []\n",
    "count = 0\n",
    "for e in tqdm(ents_uniq):\n",
    "    encoded = sp.encode(e)\n",
    "    l = len(encoded)\n",
    "    if l > 500:\n",
    "        print(e,l)\n",
    "        l = 20\n",
    "        count += 1\n",
    "    lengths.append(l)\n",
    "count"
   ]
  },
  {
   "cell_type": "code",
   "execution_count": 177,
   "id": "8055bc10",
   "metadata": {
    "scrolled": false
   },
   "outputs": [
    {
     "data": {
      "text/plain": [
       "Text(0.5, 0, 'Tokenized lengths')"
      ]
     },
     "execution_count": 177,
     "metadata": {},
     "output_type": "execute_result"
    },
    {
     "data": {
      "image/png": "[encoded data removed]",
      "text/plain": [
       "<Figure size 432x288 with 1 Axes>"
      ]
     },
     "metadata": {
      "needs_background": "light"
     },
     "output_type": "display_data"
    }
   ],
   "source": [
    "import matplotlib.pyplot as plt \n",
    "\n",
    "import numpy as np \n",
    "\n",
    "%matplotlib inline\n",
    "\n",
    "# x = np.random.normal(size = 1000) \n",
    "x = lengths\n",
    "plt.hist(x, bins=30) \n",
    "\n",
    "plt.ylabel('Num entities');\n",
    "plt.xlabel('Tokenized lengths')"
   ]
  },
  {
   "cell_type": "code",
   "execution_count": 190,
   "id": "afd66461",
   "metadata": {},
   "outputs": [
    {
     "name": "stderr",
     "output_type": "stream",
     "text": [
      "100%|██████████| 1068/1068 [00:00<00:00, 41292.34it/s]"
     ]
    },
    {
     "name": "stdout",
     "output_type": "stream",
     "text": [
      "astronomical objects discovered\n",
      "astronomical objects discovered reverse\n",
      "sewage treatment plant\n",
      "sewage treatment plant reverse\n",
      "infidelity perpetrator reverse\n",
      "substance abuse reverse\n",
      "lifetime batting statistics reverse\n",
      "sponsored by reverse\n",
      "substance abuse problems reverse\n",
      "appears in these fictional universes reverse\n",
      "jurisdiction of office reverse\n",
      "body this is a component of reverse\n",
      "politicians in this party reverse\n",
      "websites owned reverse\n",
      "tropical cyclone season reverse\n",
      "olympics hosted reverse\n",
      "types of places of worship reverse\n",
      "athletic performances reverse\n",
      "mode of transportation reverse\n",
      "appeared in tv episodes reverse\n",
      "episodes appeared in reverse\n"
     ]
    },
    {
     "name": "stderr",
     "output_type": "stream",
     "text": [
      "\n"
     ]
    },
    {
     "data": {
      "text/plain": [
       "21"
      ]
     },
     "execution_count": 190,
     "metadata": {},
     "output_type": "execute_result"
    }
   ],
   "source": [
    "lengths = []\n",
    "count = 0\n",
    "for e in tqdm(relations):\n",
    "    encoded = sp.encode(relation_map[e])\n",
    "    l = len(encoded)\n",
    "    if l > 10:\n",
    "        print(relation_map[e])\n",
    "        count +=1\n",
    "    lengths.append(l)\n",
    "count"
   ]
  },
  {
   "cell_type": "code",
   "execution_count": 186,
   "id": "b5462fd9",
   "metadata": {},
   "outputs": [
    {
     "data": {
      "text/plain": [
       "Text(0.5, 0, 'Tokenized lengths')"
      ]
     },
     "execution_count": 186,
     "metadata": {},
     "output_type": "execute_result"
    },
    {
     "data": {
      "image/png": "[encoded data removed]",
      "text/plain": [
       "<Figure size 432x288 with 1 Axes>"
      ]
     },
     "metadata": {
      "needs_background": "light"
     },
     "output_type": "display_data"
    }
   ],
   "source": [
    "import matplotlib.pyplot as plt \n",
    "\n",
    "import numpy as np \n",
    "\n",
    "%matplotlib inline\n",
    "\n",
    "# x = np.random.normal(size = 1000) \n",
    "x = lengths\n",
    "plt.hist(x, bins=30) \n",
    "\n",
    "plt.ylabel('Num entities');\n",
    "plt.xlabel('Tokenized lengths')"
   ]
  },
  {
   "cell_type": "code",
   "execution_count": 191,
   "id": "51a339bd",
   "metadata": {},
   "outputs": [
    {
     "data": {
      "text/plain": [
       "[167, 10, 96]"
      ]
     },
     "execution_count": 191,
     "metadata": {},
     "output_type": "execute_result"
    }
   ],
   "source": [
    "sp.encode('plays for')"
   ]
  },
  {
   "cell_type": "code",
   "execution_count": 104,
   "id": "be1d15cf",
   "metadata": {},
   "outputs": [
    {
     "data": {
      "text/plain": [
       "1880592"
      ]
     },
     "execution_count": 104,
     "metadata": {},
     "output_type": "execute_result"
    }
   ],
   "source": [
    "len(uniq_ent_map)"
   ]
  },
  {
   "cell_type": "code",
   "execution_count": 143,
   "id": "023dc021",
   "metadata": {},
   "outputs": [],
   "source": [
    "def replaceEntities(line, aliases_dict):\n",
    "    line = line.strip().split('\\t')\n",
    "    q = line[0]\n",
    "    # sometimes no answer\n",
    "    if len(line) > 1:\n",
    "        answers= line[1].split('|')\n",
    "    else:\n",
    "        answers = []    \n",
    "    lhs = q.split('[')[0]\n",
    "    rhs = q.split(']')[1]\n",
    "    head_id = q.split('[')[1].split(']')[0]\n",
    "    if head_id in aliases_dict:\n",
    "        head_text = aliases_dict[head_id]\n",
    "    else:\n",
    "        head_text = head_id\n",
    "        print(head_text + ' not found')\n",
    "    answers_text = []\n",
    "    for a in answers:\n",
    "        if a in aliases_dict:\n",
    "            answers_text.append(aliases_dict[a])\n",
    "        else:\n",
    "            answers_text.append(a)\n",
    "    answers_string = '|'.join(answers_text)\n",
    "    \n",
    "    out = '{lhs}[{head}]{rhs}\\t{ans}'.format(\n",
    "        lhs=lhs,\n",
    "        rhs=rhs,\n",
    "        head = head_text,\n",
    "        ans = answers_string\n",
    "    )\n",
    "    return out\n",
    "        \n",
    "def readLines(fname):\n",
    "    f = open(fname)\n",
    "    lines = []\n",
    "    for line in f:\n",
    "        lines.append(line.rstrip())\n",
    "    f.close()\n",
    "    return lines\n",
    "\n",
    "def writeLines(lines, fname):\n",
    "    f = open(fname, 'w')\n",
    "    for line in lines:\n",
    "        f.write(line + '\\n')\n",
    "    f.close()"
   ]
  },
  {
   "cell_type": "code",
   "execution_count": 137,
   "id": "f67a0b09",
   "metadata": {},
   "outputs": [],
   "source": [
    "# need to make qa data as well, since entity aliases need to be used\n",
    "# and not just entity ids as answers\n",
    "fname = '/scratche/home/apoorv/EmbedKGQA/data/QA_data/WebQuestionsSP/qa_test_webqsp_fixed.txt'\n",
    "questions = readLines(fname)\n"
   ]
  },
  {
   "cell_type": "code",
   "execution_count": 138,
   "id": "53a73429",
   "metadata": {},
   "outputs": [
    {
     "data": {
      "text/plain": [
       "'what did james k polk do before he was president [m.042f1]\\tm.02_bcst|m.04x_n9q|m.0cgqx'"
      ]
     },
     "execution_count": 138,
     "metadata": {},
     "output_type": "execute_result"
    }
   ],
   "source": [
    "questions[1]"
   ]
  },
  {
   "cell_type": "code",
   "execution_count": 144,
   "id": "62983ae2",
   "metadata": {},
   "outputs": [
    {
     "name": "stdout",
     "output_type": "stream",
     "text": [
      "m.02vkmj9 not found\n"
     ]
    }
   ],
   "source": [
    "lines_with_entities = [replaceEntities(q, uniq_ent_map) for q in questions]"
   ]
  },
  {
   "cell_type": "code",
   "execution_count": 145,
   "id": "dd205992",
   "metadata": {},
   "outputs": [
    {
     "data": {
      "text/plain": [
       "1639"
      ]
     },
     "execution_count": 145,
     "metadata": {},
     "output_type": "execute_result"
    }
   ],
   "source": [
    "len(lines_with_entities)"
   ]
  },
  {
   "cell_type": "code",
   "execution_count": 146,
   "id": "1372b3d0",
   "metadata": {},
   "outputs": [
    {
     "data": {
      "text/plain": [
       "['what does jamaican people speak [Jamaica 1]\\tJamaican English|Jamaican Creole English Langua|Jamaican English',\n",
       " 'what did james k polk do before he was president [James K. Polk]\\tUnited States Representative|Governor of Tennessee|Speaker of the United States H',\n",
       " 'who plays ken barlow in coronation street [Coronation Street]\\tWilliam Roache',\n",
       " 'where is jamarcus russell from [JaMarcus Russell]\\tMobile 0',\n",
       " 'where was george washington carver from [George Washington Carver]\\tDiamond 8',\n",
       " 'what else did ben franklin invent [Benjamin Franklin]\\tLightning rod|Bifocals|Glass harmonica|Franklin stove',\n",
       " 'who was richard nixon married to [Richard Nixon]\\tPat Nixon',\n",
       " 'who is governor of ohio 2011 [Ohio 2]\\tJohn Kasich|Return J. Meigs, Jr.|Ted Strickland',\n",
       " 'who was vice president after kennedy died [John F. Kennedy 0]\\tLyndon B. Johnson 1',\n",
       " 'where is the fukushima daiichi nuclear plant located [Fukushima Daiichi Nuclear Powe]\\tJapan 1|Okuma']"
      ]
     },
     "execution_count": 146,
     "metadata": {},
     "output_type": "execute_result"
    }
   ],
   "source": [
    "lines_with_entities[:10]"
   ]
  },
  {
   "cell_type": "code",
   "execution_count": 148,
   "id": "dc01e9dd",
   "metadata": {},
   "outputs": [],
   "source": [
    "fname = 'data/fbwq_half/qa_valid_1hop.txt'\n",
    "writeLines(lines_with_entities, fname)"
   ]
  },
  {
   "cell_type": "code",
   "execution_count": null,
   "id": "a3bed453",
   "metadata": {},
   "outputs": [],
   "source": []
  }
 ],
 "metadata": {
  "kernelspec": {
   "display_name": "Python 3",
   "language": "python",
   "name": "python3"
  },
  "language_info": {
   "codemirror_mode": {
    "name": "ipython",
    "version": 3
   },
   "file_extension": ".py",
   "mimetype": "text/x-python",
   "name": "python",
   "nbconvert_exporter": "python",
   "pygments_lexer": "ipython3",
   "version": "3.7.9"
  }
 },
 "nbformat": 4,
 "nbformat_minor": 5
}
