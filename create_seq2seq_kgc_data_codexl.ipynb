{
 "cells": [
  {
   "cell_type": "code",
   "execution_count": 1,
   "id": "6294b12f",
   "metadata": {},
   "outputs": [],
   "source": [
    "import os\n",
    "import pickle\n",
    "from tqdm import tqdm\n",
    "import sentencepiece as spm"
   ]
  },
  {
   "cell_type": "code",
   "execution_count": 3,
   "id": "66554ebd",
   "metadata": {},
   "outputs": [
    {
     "name": "stdout",
     "output_type": "stream",
     "text": [
      "dataset.yaml\t  test.txt\t\t   train.txt\r\n",
      "entity_ids.del\t  test_without_unseen.del  valid.del\r\n",
      "relation_ids.del  train.del\t\t   valid.txt\r\n",
      "test.del\t  train_sample.del\t   valid_without_unseen.del\r\n"
     ]
    }
   ],
   "source": [
    "source_folder = '/scratche/home/apoorv/repos/probe_kge/data/codex-l'\n",
    "! ls {source_folder}"
   ]
  },
  {
   "cell_type": "code",
   "execution_count": 5,
   "id": "59e18046",
   "metadata": {},
   "outputs": [],
   "source": [
    "def readTriples(fname):\n",
    "    f = open(fname)\n",
    "    triples = []\n",
    "    for line in f:\n",
    "        if line[-1] == '\\n':\n",
    "            line = line[:-1]\n",
    "        triples.append(line.split('\\t'))\n",
    "    f.close()\n",
    "    return triples"
   ]
  },
  {
   "cell_type": "code",
   "execution_count": 6,
   "id": "aa327398",
   "metadata": {},
   "outputs": [],
   "source": [
    "# load half data\n",
    "data = {}\n",
    "splits = ['train', 'test', 'valid']\n",
    "for split in splits:\n",
    "    fname = os.path.join(source_folder, split + '.txt')\n",
    "    data[split] = readTriples(fname)"
   ]
  },
  {
   "cell_type": "code",
   "execution_count": 7,
   "id": "da7e6850",
   "metadata": {},
   "outputs": [
    {
     "data": {
      "text/plain": [
       "['Q1057418', 'P106', 'Q36180']"
      ]
     },
     "execution_count": 7,
     "metadata": {},
     "output_type": "execute_result"
    }
   ],
   "source": [
    "data['train'][5000]"
   ]
  },
  {
   "cell_type": "code",
   "execution_count": 8,
   "id": "410ead09",
   "metadata": {},
   "outputs": [],
   "source": [
    "aliases_dict = {}\n",
    "fname = 'data/codex_aliases.txt'\n",
    "f = open(fname, 'r')\n",
    "for line in f:\n",
    "    line = line.rstrip().split('\\t')\n",
    "    aliases_dict[line[0]] = line[1]\n",
    "f.close()"
   ]
  },
  {
   "cell_type": "code",
   "execution_count": 9,
   "id": "cfc5c4f2",
   "metadata": {},
   "outputs": [
    {
     "data": {
      "text/plain": [
       "78022"
      ]
     },
     "execution_count": 9,
     "metadata": {},
     "output_type": "execute_result"
    }
   ],
   "source": [
    "len(aliases_dict)"
   ]
  },
  {
   "cell_type": "code",
   "execution_count": 10,
   "id": "9df0713c",
   "metadata": {},
   "outputs": [],
   "source": [
    "def mapTriple(t, aliases_dict):\n",
    "    out = [aliases_dict[x] for x in t]\n",
    "    return out"
   ]
  },
  {
   "cell_type": "code",
   "execution_count": 11,
   "id": "1e84e918",
   "metadata": {},
   "outputs": [
    {
     "name": "stdout",
     "output_type": "stream",
     "text": [
      "['gianfranco chiarini', 'country of citizenship', 'italy']\n",
      "['padua', 'country', 'austrian empire']\n",
      "['ad-rock', 'occupation', 'songwriter']\n",
      "['vladislav khodasevich', 'occupation', 'literary studies']\n",
      "['leslie brooks', 'place of birth', 'lincoln 0']\n",
      "['zofia jaroszewska', 'occupation', 'film actor']\n",
      "['klaus lowitsch', 'occupation', 'actor']\n",
      "['zahra kazemi', 'occupation', 'reporter']\n",
      "['karl wilhelm ramler', 'occupation', 'writer']\n",
      "['mahmud tarzi', 'place of birth', 'ghazni']\n",
      "['franklin raines', 'member of political party', 'democratic party']\n",
      "['boris velichkovsky', 'country of citizenship', 'soviet union']\n",
      "['georg kronawitter', 'occupation', 'politician']\n",
      "['lajos hollo', 'educated at', 'eotvos lorand university']\n",
      "['the lord of the rings: the return of the king', 'genre', 'film based on novels']\n",
      "['101 dalmatians: the series', 'genre', 'comedic tv series']\n",
      "['jean-baptiste alphonse karr', 'place of birth', 'paris']\n",
      "['anas schakfeh', 'occupation', 'religious leader']\n",
      "['gina janssen', 'occupation', 'actor']\n",
      "['martial outlaw', 'genre', 'crime film']\n",
      "['jordan', 'member of', 'african union - united nations hybrid operation in darfur']\n",
      "['juan andreu almazan', 'occupation', 'businessperson']\n",
      "['ulrichshorn', 'located in the administrative terroritorial entity', 'canton of valais']\n",
      "['sid grauman', 'occupation', 'film actor']\n",
      "['subhash chandra bose', 'languages spoken, written, or signed', 'bengali']\n",
      "['krefeld', 'country', 'germany']\n",
      "['gregory xiv', 'country of citizenship', 'papal states']\n",
      "['theo lehmann', 'religion', 'lutheranism']\n",
      "['gregory x', 'country of citizenship', 'papal states']\n",
      "['jan carpentier', 'instrument', 'voice']\n",
      "['christopher i of denmark', 'sibling', 'abel of denmark']\n",
      "['alexander bard', 'languages spoken, written, or signed', 'english']\n",
      "['max einhorn', 'country of citizenship', 'united states of america']\n",
      "['josef scheungraber', 'place of death', 'ottobrunn']\n",
      "['robert-alexander bohnke', 'languages spoken, written, or signed', 'german']\n",
      "['leonide massine', 'place of birth', 'moscow']\n",
      "['vladimir lebedev', 'occupation', 'scientist']\n",
      "['gian maria gros-pietro', 'occupation', 'businessperson']\n",
      "['lavizzara', 'shares border with', 'sonogno']\n",
      "['edward bernays', 'place of birth', 'vienna']\n",
      "['ingrid bergman', 'spouse', 'roberto rossellini']\n",
      "['illarion semjonovitsj sventsitskiy', 'place of burial', 'lychakiv cemetery']\n",
      "['black swan', 'cast member', 'janet montgomery']\n",
      "['ladi geisler', 'occupation', 'jazz guitarist']\n",
      "['david naccache', 'languages spoken, written, or signed', 'hebrew']\n",
      "['heinrich von staden', 'languages spoken, written, or signed', 'german']\n",
      "['danny pieters', 'place of birth', 'uccle']\n",
      "['sion', 'country', 'switzerland']\n",
      "['robert s. kerr', 'place of birth', 'ada']\n",
      "['roger cicero', 'occupation', 'musician']\n",
      "['ebi', 'record label', 'caltex records']\n",
      "['charles de gaulle', 'educated at', 'college stanislas de paris']\n",
      "['necrobutcher', 'record label', 'deathlike silence productions']\n",
      "['sunny', 'member of', \"girls' generation\"]\n",
      "['mikhail zoshchenko', 'country of citizenship', 'russian empire']\n",
      "['alexander danilovich menshikov', 'place of birth', 'moscow']\n",
      "['cyprian lelek', 'country of citizenship', 'german empire']\n",
      "['kalman toth', 'place of death', 'budapest']\n",
      "['chorzow', 'country', 'german empire']\n",
      "['kurt tucholsky', 'country of citizenship', 'germany']\n",
      "['karl dedecius', 'member of', 'deutsche akademie fur sprache und dichtung']\n",
      "['jean marais', 'educated at', 'lycee condorcet']\n",
      "['karl hermann bitter', 'country of citizenship', 'kingdom of prussia']\n",
      "['harold wilson', 'place of death', 'london']\n",
      "['weimar republic', 'shares border with', 'free city of danzig']\n",
      "['wendy cope', 'field of work', 'poetry']\n",
      "['philip agee', 'occupation', 'entrepreneur']\n",
      "['jay-z', 'country of citizenship', 'united states of america']\n",
      "['brittney skye', 'place of birth', 'los angeles']\n",
      "['esko aho', 'member of', 'royal swedish academy of engineering sciences']\n",
      "['stephanie beacham', 'occupation', 'stage actor']\n",
      "['hans kung', 'occupation', 'cleric']\n",
      "['alexander knaifel', 'occupation', 'musician']\n",
      "['gwen john', 'occupation', 'drawer']\n",
      "['wayne white', 'occupation', 'cartoonist']\n",
      "['heinz piontek', 'country of citizenship', 'germany']\n",
      "['jorge vergara', 'languages spoken, written, or signed', 'spanish']\n",
      "['walter bruch', 'country of citizenship', 'germany']\n",
      "['vaclav laurin', 'occupation', 'engineer']\n",
      "['david helfand', 'educated at', 'amherst college']\n",
      "['monchaltorf', 'country', 'switzerland']\n",
      "['wen yunsong', 'educated at', 'kellogg school of management']\n",
      "['moniek toebosch', 'employer', 'gerrit rietveld academie']\n",
      "['hugh hefner', 'occupation', 'journalist']\n",
      "['erwin carle', 'languages spoken, written, or signed', 'german']\n",
      "['maxime vuillaume', 'occupation', 'journalist']\n",
      "['f.w. bernstein', 'languages spoken, written, or signed', 'german']\n",
      "['gerard berry', 'employer', 'college de france']\n",
      "['julia leischik', 'occupation', 'journalist']\n",
      "['der herrscher', 'cast member', 'herbert hubner']\n",
      "['david vogel', 'country of citizenship', 'austria']\n",
      "['pizhou', 'located in the administrative terroritorial entity', 'wang jingwei regime']\n",
      "['kalman katona', 'place of birth', 'pecs']\n",
      "['bente kahan', 'place of birth', 'oslo']\n",
      "['andre citroen', 'educated at', 'lycee condorcet']\n",
      "['ko tanimura', 'educated at', 'osaka university']\n",
      "['dean deleo', 'place of birth', 'newark']\n",
      "['jean drucker', 'occupation', 'businessperson']\n",
      "['anna karenina', 'cast member', 'pip torrens']\n",
      "['rudolf bahro', 'place of death', 'berlin']\n",
      "['gottfried wilhelm leibniz', 'influenced by', 'confucius']\n",
      "['god forbid', 'location of formation', 'east brunswick']\n",
      "['joe hisaishi', 'occupation', 'music director']\n",
      "['malcolm iii of scotland', 'place of birth', 'scotland']\n",
      "['ken casey', 'occupation', 'musician']\n",
      "['birmingham 0', 'country', 'united kingdom']\n",
      "['daniel spielman', 'occupation', 'computer scientist']\n",
      "['liberia', 'shares border with', 'guinea']\n",
      "['the bourne supremacy', 'genre', 'thriller film']\n",
      "['nikolaus ehlen', 'country of citizenship', 'germany']\n",
      "['ruperto long', 'member of political party', 'national party']\n",
      "['sunderland', 'country', 'united kingdom']\n",
      "['franz tost', 'occupation', 'engineer']\n",
      "['andy razaf', 'occupation', 'songwriter']\n",
      "['gustav heinse', 'country of citizenship', 'austria']\n",
      "['arvid holmberg', 'occupation', 'artistic gymnast']\n",
      "['gustav von schonberg', 'occupation', 'politician']\n",
      "['mika antic', 'occupation', 'film director']\n",
      "['jennifer miller', 'employer', 'california institute of the arts']\n",
      "['nica noelle', 'country of citizenship', 'united states of america']\n",
      "['laura dern', 'occupation', 'film actor']\n",
      "['alek wek', 'occupation', 'supermodel']\n",
      "['bruce chatwin', 'occupation', 'author']\n",
      "['sweet november', 'genre', 'comedy film']\n",
      "['nineteen eighty-four', 'cast member', 'john hurt']\n",
      "['louisa', 'cast member', 'charles coburn']\n",
      "['the year of getting to know us', 'genre', 'comedy film']\n",
      "['marcel schwander', 'country of citizenship', 'switzerland']\n",
      "['richey edwards', 'country of citizenship', 'united kingdom']\n",
      "['jacques doniol-valcroze', 'country of citizenship', 'france']\n",
      "['dorothy dandridge', 'country of citizenship', 'united states of america']\n",
      "['jim morrison', 'occupation', 'singer']\n",
      "['robert pehrson', 'country of citizenship', 'norway']\n",
      "['bartolome mitre', 'country of citizenship', 'argentina']\n",
      "['colombia', 'diplomatic relation', 'australia']\n",
      "['yury martynenko', 'country of citizenship', 'soviet union']\n",
      "['laura schlessinger', 'place of birth', 'brooklyn']\n",
      "['clive dunn', 'place of birth', 'london']\n",
      "['epica', 'genre', 'symphonic metal']\n",
      "['william godwin', 'field of work', 'political philosophy']\n",
      "['666 - traue keinem, mit dem du schlafst!', 'cast member', 'mariella ahrens']\n",
      "['helen mccloy', 'occupation', 'journalist']\n",
      "['ferdinand schleicher', 'country of citizenship', 'germany']\n",
      "['alan alda', 'occupation', 'writer']\n",
      "['paul wessel', 'occupation', 'politician']\n",
      "['john crichton-stuart, 3rd marquess of bute', 'religion', 'catholicism']\n",
      "['martinair', 'location of formation', 'amsterdam']\n",
      "['coolio', 'instrument', 'voice']\n",
      "['peter schiff', 'occupation', 'investor']\n",
      "['felix von eckardt', 'languages spoken, written, or signed', 'german']\n",
      "['peter benchley', 'educated at', 'phillips exeter academy']\n",
      "[\"shcherban' olexander nazarovych\", 'country of citizenship', 'russian empire']\n",
      "['luigi brizzolara', 'occupation', 'visual artist']\n",
      "['cademario', 'located in the administrative terroritorial entity', 'ticino']\n",
      "['ricardo lagos', 'occupation', 'economist']\n",
      "['james sallis', 'occupation', 'writer']\n",
      "['mans zelmerlow', 'record label', 'warner music group']\n",
      "['iuliu winkler', 'occupation', 'politician']\n",
      "['garnet baltimore', 'country of citizenship', 'united states of america']\n",
      "['leopoldo calvo-sotelo', 'cause of death', 'cardiac arrest']\n",
      "['ernst daniel adami', 'occupation', 'author']\n",
      "['milla jovovich', 'languages spoken, written, or signed', 'serbian']\n",
      "[\"bernard renau d'elicagaray\", 'occupation', 'engineer']\n",
      "['count basie', 'occupation', 'songwriter']\n",
      "['yelena brusilova', 'place of birth', 'saint petersburg']\n",
      "['nahed ojjeh', 'occupation', 'businessperson']\n",
      "['michael georg conrad', 'member of political party', \"german people's party 0\"]\n",
      "['endre kukorelly', 'occupation', 'politician']\n",
      "['dalmacio velez sarsfield', 'occupation', 'journalist']\n",
      "['the second time', 'country of origin', 'france']\n",
      "['2001: a space travesty', 'country of origin', 'germany']\n",
      "['tim rice-oxley', 'residence', 'battle']\n",
      "['s. v. farforovskii', 'country of citizenship', 'russian empire']\n",
      "['arno holz', 'place of birth', 'ketrzyn']\n",
      "['john dee', 'country of citizenship', 'united kingdom']\n",
      "['yuri', 'record label', 'avex group']\n",
      "['igor ashmanov', 'occupation', 'businessperson']\n",
      "['pavel krasheninnikov', 'employer', 'ural state law university']\n",
      "['thomas bohlke', 'languages spoken, written, or signed', 'german']\n",
      "['gordy', 'genre', 'comedy-drama']\n",
      "['lobel schottlander', 'country of citizenship', 'germany']\n",
      "['narvel felts', 'instrument', 'guitar']\n",
      "['nehemiah perry', 'member of political party', 'democratic party']\n",
      "['james rizzi', 'occupation', 'artist']\n",
      "['sean connery', 'spouse', 'diane cilento']\n",
      "['grigore gafencu', 'country of citizenship', 'romania']\n",
      "['david horowitz', 'member of political party', 'republican party']\n",
      "['dan-air', 'airline hub', 'manchester airport']\n",
      "['rose mcgowan', 'instrument', 'voice']\n",
      "['lukas ammann', 'cause of death', 'surgical complications']\n",
      "['alberto guani', 'occupation', 'diplomat']\n",
      "['billie hughes', 'record label', 'epic']\n",
      "['united states of america', 'shares border with', 'panama']\n",
      "['borgnone', 'official language', 'italian']\n",
      "['aaron diaz', 'occupation', 'actor']\n",
      "['jan wornar', 'languages spoken, written, or signed', 'upper sorbian']\n",
      "['abraham louis girardet', 'occupation', 'painter']\n",
      "['jesus gil', 'country of citizenship', 'spain']\n",
      "['pavlo chubynsky', 'occupation', 'jurist']\n",
      "['franz xaver bronner', 'country of citizenship', 'germany']\n",
      "['hagen mountain range', 'country', 'germany']\n",
      "['craig mclachlan', 'occupation', 'film actor']\n",
      "['richard wright', 'genre', 'art rock']\n",
      "['semmy schilt', 'occupation', 'kickboxer']\n",
      "['maria anna of bavaria', 'occupation', 'monarch']\n",
      "['prince wilhelm-karl of prussia', 'country of citizenship', 'germany']\n",
      "['jean-victor poncelet', 'occupation', 'physicist']\n",
      "['mehrdad abedi', 'educated at', 'imperial college london']\n",
      "['semyon budyonny', 'place of burial', 'kremlin wall necropolis']\n",
      "['glenmor', 'languages spoken, written, or signed', 'breton']\n",
      "['george eliot', 'occupation', 'novelist']\n",
      "['die hard 2', 'cast member', 'vondie curtis-hall']\n",
      "['getting even with dad', 'narrative location', 'san francisco']\n",
      "['woodrow wilson', 'member of political party', 'democratic party']\n",
      "['alberto alcocer', 'languages spoken, written, or signed', 'spanish']\n",
      "['kevin martin', 'place of birth', 'elgin']\n",
      "['paddy moloney', 'country of citizenship', 'ireland']\n",
      "['vuk karadzic', 'country of citizenship', 'principality of serbia']\n",
      "['georges dor', 'occupation', 'journalist']\n",
      "['pinocchio', 'cast member', 'topher grace']\n",
      "['michael applebaum', 'occupation', 'politician']\n",
      "['sergey akhapov', 'country of citizenship', 'soviet union']\n",
      "['pavel yablochkov', 'occupation', 'engineer']\n",
      "['slovakia', 'capital', 'bratislava']\n",
      "['telman ismailov', 'residence', 'turkey']\n",
      "['allen drury', 'genre', 'novel']\n",
      "['alexander belyayev', 'occupation', 'reporter']\n",
      "['wettswil am albis', 'official language', 'german']\n",
      "['giovanni cicali', 'occupation', 'scientist']\n",
      "['gelterkinden', 'shares border with', 'thurnen']\n",
      "['lev gumilyov', 'place of birth', 'saint petersburg']\n",
      "['ta kung pao', 'country of origin', 'republic of china (1912-1949)']\n",
      "['casey anderson', 'ethnic group', 'african americans']\n",
      "['cevdet sunay', 'place of birth', 'trabzon']\n",
      "['robert shelton', 'occupation', 'music critic']\n",
      "['taryn power', 'occupation', 'socialite']\n",
      "['helga pedersen', 'country of citizenship', 'norway']\n",
      "['raimon carrasco', 'member of sports team', 'fc barcelona']\n",
      "['the talented mr. ripley', 'cast member', 'matt damon']\n",
      "['jean leclerc', 'occupation', 'journalist']\n",
      "['janet mcteer', 'occupation', 'stage actor']\n",
      "['nora van der flier', 'place of death', 'scheveningen']\n",
      "['august cieszkowski', 'country of citizenship', 'russian empire']\n",
      "['antonio molina', 'languages spoken, written, or signed', 'spanish']\n",
      "['aleksandr bondarko', 'place of burial', 'serafimovskoe cemetery']\n",
      "['kamil krofta', 'occupation', 'politician']\n",
      "['geoffrey of monmouth', 'occupation', 'poet']\n",
      "['georgia anne muldrow', 'record label', 'stones throw records']\n",
      "['helena paparizou', 'occupation', 'composer']\n",
      "['perceval landon', 'occupation', 'journalist']\n",
      "['wallace shawn', 'educated at', 'harvard university']\n",
      "['zinedine soualem', 'occupation', 'actor']\n",
      "['peter delano', 'genre', 'jazz']\n",
      "['paula abdul', 'occupation', 'choreographer']\n",
      "['charles duke', 'occupation', 'test pilot']\n",
      "['the air i breathe', 'cast member', 'clark gregg']\n",
      "['in the valley of elah', 'genre', 'crime film']\n",
      "['chris metzen', 'occupation', 'voice actor']\n",
      "['huey lewis and the news', 'genre', 'hard rock']\n",
      "['wolfgang hilbig', 'genre', 'novel']\n",
      "['nigeria', 'diplomatic relation', 'australia']\n",
      "['russell gilbrook', 'genre', 'progressive rock']\n",
      "['dizzy reed', 'member of', \"guns n' roses\"]\n",
      "['sebastien tellier', 'occupation', 'singer']\n",
      "['le charivari', 'language of work or name', 'french']\n",
      "['zeno', 'time period', 'roman empire']\n",
      "['ernst wilhelm bohle', 'educated at', 'university of cologne']\n",
      "['paul de chapeaurouge', 'place of birth', 'hamburg']\n",
      "['hans peter jorgen julius thomsen', 'member of', 'royal swedish academy of sciences']\n",
      "['karl august wetjen', 'place of birth', 'hanover']\n",
      "['adeline records', 'headquarters location', 'oakland']\n",
      "['thailand', 'member of', 'international hydrographic organization']\n",
      "['vladilen vinogradov', 'country of citizenship', 'russia']\n",
      "['wole soyinka', 'occupation', 'translator']\n",
      "['vaclav hampl', 'occupation', 'university teacher']\n",
      "['jacknife', 'cast member', 'ed harris']\n",
      "['rahsaan barber', 'instrument', 'saxophone']\n",
      "['shall we dance?', 'cast member', 'mya']\n",
      "['robert recorde', 'place of death', 'london borough of southwark']\n",
      "['jazze pha', 'country of citizenship', 'united states of america']\n",
      "['malaysia', 'diplomatic relation', 'tunisia']\n",
      "['jared harris', 'occupation', 'film director']\n",
      "['francis xavier weninger', 'occupation', 'writer']\n",
      "['nikolai grube', 'languages spoken, written, or signed', 'german']\n",
      "['josep irla i bosch', 'occupation', 'politician']\n",
      "['naim frasheri', 'occupation', 'poet']\n",
      "['herbert wehner', 'occupation', 'politician']\n",
      "['stefan aust', 'country of citizenship', 'germany']\n",
      "['salomon lerner ghitis', 'country of citizenship', 'peru']\n",
      "['lee won-geun', 'occupation', 'television actor']\n",
      "['elena altieri', 'occupation', 'actor']\n",
      "['daniel goeudevert', 'country of citizenship', 'france']\n",
      "['frankmusik', 'occupation', 'beatboxer']\n",
      "['robert richardson', 'child', 'kanchan wali-richardson']\n",
      "['chris martin', 'instrument', 'harmonica']\n",
      "['filippo sassetti', 'occupation', 'businessperson']\n",
      "['mal evans', 'cause of death', 'ballistic trauma']\n",
      "['yossi beilin', 'occupation', 'journalist']\n",
      "['indiana jones and the temple of doom', 'genre', 'treasure hunt film']\n",
      "['vitold zagorodnyuk', 'country of citizenship', 'soviet union']\n",
      "['reverend gary davis', 'instrument', 'harmonica']\n",
      "['viktor sergeyev', 'occupation', 'scientist']\n",
      "['geirr lystrup', 'occupation', 'composer']\n",
      "['kajetan abgarowicz', 'occupation', 'journalist']\n",
      "['john tyler', 'occupation', 'politician']\n",
      "['charles bukowski', 'place of death', 'san pedro']\n",
      "['the martian chronicles', 'cast member', 'rock hudson']\n",
      "['arvydas juozaitis', 'sport', 'swimming']\n",
      "['holger hiller', 'country of citizenship', 'germany']\n",
      "['paul shaffer', 'occupation', 'pianist']\n",
      "['ferdinand von bredow', 'country of citizenship', 'germany']\n",
      "['thomas bareiss', 'country of citizenship', 'germany']\n",
      "['rick wills', 'occupation', 'musician']\n",
      "['andre blondel', 'country of citizenship', 'france']\n",
      "['glasses malone', 'occupation', 'drug trafficker']\n",
      "['tila tequila', 'occupation', 'blogger']\n",
      "['roberto blanco', 'languages spoken, written, or signed', 'german']\n",
      "['karl-heinz gerstner', 'country of citizenship', 'german democratic republic']\n",
      "['philippines', 'diplomatic relation', 'united kingdom']\n",
      "['turkey', 'diplomatic relation', 'ethiopia']\n",
      "['helsenhorn', 'country', 'switzerland']\n",
      "['yury vlasov', 'country of citizenship', 'russia']\n",
      "['karl egli', 'occupation', 'writer']\n",
      "['a nightmare on elm street 0', 'genre', 'horror film']\n",
      "['shadow star', 'country of origin', 'japan']\n",
      "['valentin petrovich vologdin', 'country of citizenship', 'soviet union']\n",
      "['mikhail bakhtin', 'languages spoken, written, or signed', 'russian']\n",
      "['army archerd', 'educated at', '\"university of california, los angeles\"']\n",
      "['adolf tolkachev', 'cause of death', 'execution by firing squad']\n",
      "['maya hakvoort', 'country of citizenship', 'kingdom of the netherlands']\n",
      "['nicholas roerich', 'occupation', 'explorer']\n",
      "['christina pickles', 'country of citizenship', 'united kingdom']\n",
      "['konrad meyer-hetling', 'member of political party', 'nazi party']\n",
      "[\"valentine's day\", 'cast member', 'shirley maclaine']\n",
      "['jenny longuet', 'place of birth', 'paris']\n",
      "['kim simmonds', 'occupation', 'pianist']\n",
      "['hiro yamamoto', 'occupation', 'musician']\n",
      "['edythe baker', 'place of death', 'orange county']\n",
      "['otto wagner', 'occupation', 'politician']\n",
      "['christina milian', 'record label', 'cash money records']\n",
      "['claus-ulrich wiesner', 'country of citizenship', 'germany']\n",
      "['barbara dickson', 'instrument', 'piano']\n",
      "['the bourne supremacy', 'cast member', 'chris cooper']\n",
      "['friedrich endemann', 'occupation', 'legal historian']\n",
      "['inga nielsen', 'instrument', 'voice']\n",
      "['zero effect', 'cast member', \"ryan o'neal\"]\n",
      "['joe budden', 'occupation', 'musician']\n",
      "['nikolai rubinstein', 'place of burial', 'novodevichy cemetery']\n",
      "['miriam staudte', 'country of citizenship', 'germany']\n",
      "['eberhard langer', 'place of birth', 'chemnitz']\n",
      "['shankar panikkar', 'occupation', 'television actor']\n",
      "['wenche foss', 'instrument', 'voice']\n",
      "['albrecht beutelspacher', 'educated at', 'university of tubingen']\n",
      "['charles oatley', 'member of', 'royal society']\n",
      "['andre michelin', 'educated at', 'ecole centrale paris']\n",
      "['cellular', 'cast member', 'dean devlin']\n",
      "['esztergom', 'country', 'hungary']\n",
      "['adriana basile', 'occupation', 'actor']\n",
      "['empire distribution', 'genre', 'pop music']\n",
      "['john fox burgoyne', 'occupation', 'military personnel']\n",
      "['jeff bucknum', 'country of citizenship', 'united states of america']\n",
      "['haim saban', 'occupation', 'investor']\n",
      "['ari libsker', 'languages spoken, written, or signed', 'hebrew']\n",
      "['malcolm turnbull', 'occupation', 'politician']\n",
      "['heinrich decimator', 'occupation', 'theologian']\n",
      "['roger penrose', 'occupation', 'philosopher']\n",
      "['viktor tarasov', 'country of citizenship', 'belarus']\n",
      "['matilde munoz sampedro', 'place of birth', 'madrid']\n",
      "['robin walker', 'languages spoken, written, or signed', 'english']\n",
      "['hermann oncken', 'member of', 'royal prussian academy of sciences']\n",
      "['siti nurhaliza', 'occupation', 'singer']\n",
      "['eva larue', 'occupation', 'model']\n",
      "['simon banffay', 'languages spoken, written, or signed', 'hungarian']\n",
      "['thomas e. starzl', 'employer', 'university of colorado']\n",
      "['bill maddox', 'instrument', 'drum kit']\n",
      "['robert michael white', 'place of death', 'orlando 0']\n",
      "['nik gowing', 'employer', 'british broadcasting corporation']\n",
      "['slawomir rynkiewicz', 'occupation', 'actor']\n",
      "['mac mcneilly', 'occupation', 'musician']\n",
      "['zhang yimou', 'occupation', 'screenwriter']\n",
      "['carl djerassi', 'cause of death', 'cancer']\n",
      "['joachim mrugowsky', 'member of', 'sturmabteilung']\n",
      "['nick raskulinecz', 'occupation', 'composer']\n",
      "['robert winston', 'occupation', 'scientist']\n",
      "['gergely csiky', 'member of', 'kisfaludy society']\n",
      "['uruguay', 'member of', 'interpol']\n",
      "['jeanne crain', 'member of political party', 'republican party']\n",
      "['alfred gurtler', 'employer', 'university of graz']\n",
      "['miep gies', 'occupation', 'resistance fighter']\n",
      "['frederic bancroft', 'country of citizenship', 'united states of america']\n",
      "['elisabeth elliot', 'occupation', 'orator']\n",
      "['friedrich ulmer', 'occupation', 'university teacher']\n",
      "['yelena senichkina', 'country of citizenship', 'russia']\n",
      "['james clark', 'educated at', 'charterhouse school']\n",
      "['eugen zabel', 'occupation', 'translator']\n",
      "[\"a. a. novosel'skii\", 'member of political party', 'communist party of the soviet union']\n",
      "['gary mark smith', 'educated at', 'kansas state university']\n",
      "['tanaka giichi', 'occupation', 'military personnel']\n",
      "['pata', 'occupation', 'guitarist']\n",
      "['alicia keys', 'ethnic group', 'multiracial american']\n",
      "['caleb carr', 'occupation', 'historian']\n",
      "['brittany snow', 'languages spoken, written, or signed', 'english']\n",
      "['cyrano de bergerac 0', 'cast member', 'gerard depardieu']\n",
      "['marcel duhamel', 'occupation', 'film actor']\n",
      "['anatoly karpov', 'sport', 'athletics']\n",
      "['luigi facta', 'occupation', 'journalist']\n",
      "['hans-jurgen warnecke', 'country of citizenship', 'germany']\n",
      "['johnny hallyday', 'occupation', 'recording artist']\n",
      "['martine ouellet', 'place of birth', 'longueuil']\n",
      "['charles pierre lefebvre de laboulaye', 'country of citizenship', 'france']\n",
      "['curtis jones', 'occupation', 'record producer']\n",
      "['alfred ittner', 'member of political party', 'nazi party']\n",
      "['czech republic', 'diplomatic relation', 'kosovo']\n",
      "['frederick douglass', 'cause of death', 'myocardial infarction']\n",
      "['arturo toscanini', 'occupation', 'politician']\n",
      "['albania', 'member of', 'multilateral investment guarantee agency']\n",
      "['jawaharlal nehru', 'child', 'indira gandhi']\n",
      "['jay thomas', 'genre', 'jazz']\n",
      "['the condemned', 'cast member', 'vinnie jones']\n",
      "['franz fischler', 'occupation', 'politician']\n",
      "['sevastopol', 'located in the administrative terroritorial entity', 'republic of crimea']\n",
      "['jan van weyde', 'languages spoken, written, or signed', 'german']\n",
      "['mary, queen of hungary', 'languages spoken, written, or signed', 'hungarian']\n",
      "['piz blas', 'located in the administrative terroritorial entity', 'ticino']\n",
      "['henryk gorecki', 'cause of death', 'disease']\n",
      "['birmensdorf', 'shares border with', 'urdorf']\n",
      "['hailee steinfeld', 'occupation', 'actor']\n",
      "['aleksandr ivanovich babukhin', 'field of work', 'physiology']\n",
      "['dominion of pakistan', 'official language', 'urdu']\n",
      "['elizabeth mcgovern', 'country of citizenship', 'united states of america']\n",
      "['erich brandenburg', 'place of death', 'leipzig']\n",
      "['aleksandra bakhturina', 'occupation', 'scientist']\n",
      "['fountain pumping station schonau', 'located in the administrative terroritorial entity', 'bern-mittelland administrative district']\n",
      "[\"l. n. men'shikov\", 'place of birth', 'saint petersburg']\n",
      "['republic of the congo', 'member of', 'international development association']\n",
      "['stepanakert', 'country', 'artsakh']\n",
      "['eric \"bobo\" correa', 'genre', 'hip hop music']\n",
      "['l.a. confidential', 'cast member', 'russell crowe']\n",
      "['butch otter', 'member of political party', 'republican party']\n",
      "['zelda fitzgerald', 'occupation', 'writer']\n",
      "['mick macneil', 'occupation', 'musician']\n",
      "['blue weaver', 'occupation', 'musician']\n",
      "['aleksandr zapadov', 'member of political party', 'communist party of the soviet union']\n",
      "['stanislao cannizzaro', 'languages spoken, written, or signed', 'italian']\n",
      "['george roy hill', 'languages spoken, written, or signed', 'english']\n",
      "['william pope.l', 'educated at', 'montclair state university']\n",
      "['ludvig holberg', 'occupation', 'autobiographer']\n",
      "['pan yue', 'occupation', 'journalist']\n",
      "['banana yoshimoto', 'place of birth', 'bunkyo-ku']\n",
      "['lillian hall-davis', 'cause of death', 'exsanguination']\n",
      "['jessica simpson', 'occupation', 'film actor']\n",
      "['banesh hoffmann', 'educated at', 'princeton university']\n",
      "['moulay hafid elalamy', 'member of political party', 'national rally of independents']\n",
      "['siegfried radel', 'occupation', 'politician']\n",
      "['kathy tyers', 'place of birth', 'long beach']\n",
      "['isaac rice', 'occupation', 'inventor']\n",
      "['valentinian i', 'occupation', 'politician']\n",
      "['jerome-adolphe blanqui', 'place of birth', 'nice']\n",
      "['jean-baptiste labat', 'occupation', 'explorer']\n",
      "['oblokul toshev', 'place of death', 'dushanbe']\n",
      "['shlomo perlstein', 'member of political party', 'general zionists']\n",
      "['cherie currie', 'occupation', 'wood carver']\n",
      "['armide mourning the departure of arnaud', 'country', 'france']\n",
      "['egypt', 'member of', 'african development bank']\n",
      "['john l. hennessy', 'occupation', 'university teacher']\n",
      "['42nd street', 'cast member', 'louise beavers']\n",
      "['paul j. mcauley', 'country of citizenship', 'united kingdom']\n",
      "['hendrik willem van loon', 'employer', 'cornell university']\n",
      "['ellinor holland', 'country of citizenship', 'germany']\n",
      "['prince albert of prussia', 'sibling', 'alexandra feodorovna']\n",
      "['susan kilrain', 'occupation', 'test pilot']\n",
      "['the boat is full', 'cast member', 'tina engel']\n",
      "['ludwig marcuse', 'member of', 'deutsche akademie fur sprache und dichtung']\n",
      "['link davis', 'instrument', 'voice']\n",
      "['amy leverenz', 'instrument', 'voice']\n",
      "['joanna pacitti', 'genre', 'rock music']\n",
      "['karl ebb', 'place of death', 'helsinki']\n",
      "['charles munchen', 'occupation', 'lawyer']\n",
      "['hugo zuckermann', 'occupation', 'poet']\n",
      "['alyaksandr abramovich', 'occupation', 'agronomist']\n",
      "['john l. moore', 'employer', 'city university of new york']\n",
      "['gracas foster', 'country of citizenship', 'brazil']\n",
      "['joannes susenbrotus', 'place of death', 'ravensburg']\n",
      "['ernesto rossi', 'occupation', 'economist']\n",
      "['sean kinney', 'genre', 'alternative rock']\n",
      "['gordon brown', 'ethnic group', 'scottish people']\n",
      "['thomas hawksley', 'member of', 'royal society']\n",
      "['shakira', 'occupation', 'composer']\n",
      "['niederburen', 'located in the administrative terroritorial entity', 'wil constituency']\n",
      "['larry kohut', 'country of citizenship', 'united states of america']\n",
      "['ed zschau', 'country of citizenship', 'united states of america']\n",
      "['gerzensee', 'country', 'switzerland']\n",
      "['lionel wiener', 'languages spoken, written, or signed', 'french']\n",
      "['nasir gebelli', 'country of citizenship', 'united states of america']\n",
      "['dieter baumann', 'occupation', 'writer']\n",
      "['deathwish inc.', 'headquarters location', 'salem 0']\n",
      "['louis etienne arthur dubreuil, vicomte de la gueronniere', 'occupation', 'writer']\n",
      "['bhutan', 'diplomatic relation', 'nepal']\n",
      "['vojislav kostunica', 'occupation', 'jurist']\n",
      "['evelyn keyes', 'medical condition', \"alzheimer's disease\"]\n"
     ]
    }
   ],
   "source": [
    "for id in range(500):\n",
    "    print(mapTriple(data['train'][id], aliases_dict))"
   ]
  },
  {
   "cell_type": "code",
   "execution_count": 104,
   "id": "55b0059b",
   "metadata": {},
   "outputs": [
    {
     "data": {
      "text/plain": [
       "5780246"
      ]
     },
     "execution_count": 104,
     "metadata": {},
     "output_type": "execute_result"
    }
   ],
   "source": [
    "len(data['train'])"
   ]
  },
  {
   "cell_type": "code",
   "execution_count": 12,
   "id": "dec20bbe",
   "metadata": {},
   "outputs": [],
   "source": [
    "out_folder = '/scratche/home/apoorv/transformer-kgc/data/codex-l'\n",
    "splits = ['train', 'test', 'valid']\n",
    "\n",
    "count = 0\n",
    "for split in splits:\n",
    "    fname = os.path.join(out_folder, split + '.txt')\n",
    "    f = open(fname, 'w')\n",
    "    triples = data[split]\n",
    "    for t in triples:\n",
    "        \n",
    "        t = mapTriple(t, aliases_dict)\n",
    "        # only save those that DO NOT start with m. or g.\n",
    "        # we can do that since aim is KGQA not KGC\n",
    "        head, relation, tail = t\n",
    "        input = 'predict tail: {0} | {1} |'.format(head, relation)\n",
    "        output = '{}'.format(tail)\n",
    "        f.write(input + '\\t' + output + '\\n')\n",
    "        \n",
    "        input = 'predict head: {0} | {1} |'.format(tail, relation)\n",
    "        output = '{}'.format(head)\n",
    "        f.write(input + '\\t' + output + '\\n')\n",
    "    f.close()"
   ]
  },
  {
   "cell_type": "code",
   "execution_count": 107,
   "id": "9c498634",
   "metadata": {},
   "outputs": [
    {
     "data": {
      "text/plain": [
       "1019066"
      ]
     },
     "execution_count": 107,
     "metadata": {},
     "output_type": "execute_result"
    }
   ],
   "source": [
    "count"
   ]
  },
  {
   "cell_type": "code",
   "execution_count": 13,
   "id": "91b1d75f",
   "metadata": {},
   "outputs": [
    {
     "data": {
      "text/plain": [
       "77951"
      ]
     },
     "execution_count": 13,
     "metadata": {},
     "output_type": "execute_result"
    }
   ],
   "source": [
    "entity_names = set()\n",
    "for key, value in aliases_dict.items():\n",
    "    if key.startswith('Q'):\n",
    "        entity_names.add(value)\n",
    "len(entity_names)"
   ]
  },
  {
   "cell_type": "code",
   "execution_count": 14,
   "id": "483eab98",
   "metadata": {},
   "outputs": [],
   "source": [
    "# create entity_strings.txt which is needed in evaluation code\n",
    "strings_file_name = 'entity_strings.txt'\n",
    "f = open(os.path.join(out_folder, strings_file_name), 'w')\n",
    "ents_uniq = entity_names\n",
    "for e in ents_uniq:\n",
    "    f.write(e + '\\n')\n",
    "f.close()"
   ]
  },
  {
   "cell_type": "code",
   "execution_count": 99,
   "id": "92b98056",
   "metadata": {},
   "outputs": [],
   "source": [
    "# webqsp qa \n",
    "# def readQALines(fname):\n",
    "#     f = open(fname)\n",
    "#     questions = []\n",
    "#     for line in f:\n",
    "#         line = line.strip().split('\\t')\n",
    "#         q = line[0]\n",
    "#         lhs = q.split('[')[0]\n",
    "#         rhs = q.split(']')[1]\n",
    "#         only_question = lhs + 'NE' + rhs\n",
    "#         only_question = normalizeEntity(only_question)\n",
    "# #         q = q.replace('[', '')\n",
    "# #         q = q.replace(']', '')\n",
    "# #         q = normalizeEntity(q)\n",
    "#         questions.append(only_question)\n",
    "#     return questions\n",
    "        \n",
    "# def writeLines(lines, fname):\n",
    "#     f = open(fname, 'w')\n",
    "#     for line in lines:\n",
    "#         f.write(line + '\\n')\n"
   ]
  },
  {
   "cell_type": "code",
   "execution_count": 122,
   "id": "7c0446cc",
   "metadata": {},
   "outputs": [],
   "source": []
  },
  {
   "cell_type": "code",
   "execution_count": 103,
   "id": "b9f40016",
   "metadata": {},
   "outputs": [
    {
     "data": {
      "text/plain": [
       "'what character did natalie portman play in star wars NE'"
      ]
     },
     "execution_count": 103,
     "metadata": {},
     "output_type": "execute_result"
    }
   ],
   "source": []
  },
  {
   "cell_type": "code",
   "execution_count": 81,
   "id": "7cd8116f",
   "metadata": {},
   "outputs": [],
   "source": [
    "# fname = 'data/MetaQA/full_qa.txt'\n",
    "# questions = readQALines(fname)\n",
    "# questions = list(set(questions))"
   ]
  },
  {
   "cell_type": "code",
   "execution_count": 82,
   "id": "31ccafbc",
   "metadata": {},
   "outputs": [],
   "source": [
    "# fname = 'data/MetaQA/only_questions_text.txt'\n",
    "# writeLines(questions, fname)"
   ]
  },
  {
   "cell_type": "code",
   "execution_count": 138,
   "id": "8a8e6782",
   "metadata": {},
   "outputs": [],
   "source": [
    "vocab_size = 30000\n",
    "sp = spm.SentencePieceTrainer.train(input='data/fbwq_half/train.txt', \n",
    "                                    model_prefix='fbwq_with_pad', vocab_size=vocab_size, \n",
    "                                    pad_id=3,\n",
    "#                                     character_coverage=1.0,\n",
    "#                                user_defined_symbols=['predict',\n",
    "#                                                     'head',\n",
    "#                                                     'tail',\n",
    "#                                                     '|'],\n",
    "#                                     normalization_rule_name='identity',\n",
    "                              )"
   ]
  },
  {
   "cell_type": "code",
   "execution_count": 139,
   "id": "c2256ddf",
   "metadata": {},
   "outputs": [],
   "source": [
    "# sp = spm.SentencePieceProcessor(model_file='data/sentencepiece/metaqa_with_pad.model')\n",
    "sp = spm.SentencePieceProcessor(model_file='fbwq_with_pad.model')"
   ]
  },
  {
   "cell_type": "code",
   "execution_count": 38,
   "id": "8e3aa571",
   "metadata": {},
   "outputs": [
    {
     "data": {
      "text/plain": [
       "0"
      ]
     },
     "execution_count": 38,
     "metadata": {},
     "output_type": "execute_result"
    }
   ],
   "source": [
    "# sp['Obama']"
   ]
  },
  {
   "cell_type": "code",
   "execution_count": 151,
   "id": "ba0b22e2",
   "metadata": {},
   "outputs": [
    {
     "data": {
      "text/plain": [
       "'how old'"
      ]
     },
     "execution_count": 151,
     "metadata": {},
     "output_type": "execute_result"
    }
   ],
   "source": [
    "sp.decode(sp.encode('how old'))"
   ]
  },
  {
   "cell_type": "code",
   "execution_count": 192,
   "id": "2c83c7a2",
   "metadata": {},
   "outputs": [
    {
     "data": {
      "text/plain": [
       "[5, 0, 12497, 0]"
      ]
     },
     "execution_count": 192,
     "metadata": {},
     "output_type": "execute_result"
    }
   ],
   "source": [
    "sp.encode('<pad>')"
   ]
  },
  {
   "cell_type": "code",
   "execution_count": 195,
   "id": "dc8aa35e",
   "metadata": {},
   "outputs": [
    {
     "data": {
      "text/plain": [
       "2"
      ]
     },
     "execution_count": 195,
     "metadata": {},
     "output_type": "execute_result"
    }
   ],
   "source": [
    "sp['</s>']"
   ]
  },
  {
   "cell_type": "code",
   "execution_count": 193,
   "id": "0b28dd64",
   "metadata": {},
   "outputs": [
    {
     "data": {
      "text/plain": [
       "'<pad>'"
      ]
     },
     "execution_count": 193,
     "metadata": {},
     "output_type": "execute_result"
    }
   ],
   "source": [
    "sp.id_to_piece(3)"
   ]
  },
  {
   "cell_type": "code",
   "execution_count": 176,
   "id": "30733281",
   "metadata": {},
   "outputs": [
    {
     "name": "stderr",
     "output_type": "stream",
     "text": [
      "100%|██████████| 1712213/1712213 [00:18<00:00, 91029.72it/s] \n"
     ]
    },
    {
     "data": {
      "text/plain": [
       "0"
      ]
     },
     "execution_count": 176,
     "metadata": {},
     "output_type": "execute_result"
    }
   ],
   "source": [
    "lengths = []\n",
    "count = 0\n",
    "for e in tqdm(ents_uniq):\n",
    "    encoded = sp.encode(e)\n",
    "    l = len(encoded)\n",
    "    if l > 500:\n",
    "        print(e,l)\n",
    "        l = 20\n",
    "        count += 1\n",
    "    lengths.append(l)\n",
    "count"
   ]
  },
  {
   "cell_type": "code",
   "execution_count": 177,
   "id": "8055bc10",
   "metadata": {
    "scrolled": false
   },
   "outputs": [
    {
     "data": {
      "text/plain": [
       "Text(0.5, 0, 'Tokenized lengths')"
      ]
     },
     "execution_count": 177,
     "metadata": {},
     "output_type": "execute_result"
    },
    {
     "data": {
      "image/png": "[encoded data removed]",
      "text/plain": [
       "<Figure size 432x288 with 1 Axes>"
      ]
     },
     "metadata": {
      "needs_background": "light"
     },
     "output_type": "display_data"
    }
   ],
   "source": [
    "import matplotlib.pyplot as plt \n",
    "\n",
    "import numpy as np \n",
    "\n",
    "%matplotlib inline\n",
    "\n",
    "# x = np.random.normal(size = 1000) \n",
    "x = lengths\n",
    "plt.hist(x, bins=30) \n",
    "\n",
    "plt.ylabel('Num entities');\n",
    "plt.xlabel('Tokenized lengths')"
   ]
  },
  {
   "cell_type": "code",
   "execution_count": 190,
   "id": "afd66461",
   "metadata": {},
   "outputs": [
    {
     "name": "stderr",
     "output_type": "stream",
     "text": [
      "100%|██████████| 1068/1068 [00:00<00:00, 41292.34it/s]"
     ]
    },
    {
     "name": "stdout",
     "output_type": "stream",
     "text": [
      "astronomical objects discovered\n",
      "astronomical objects discovered reverse\n",
      "sewage treatment plant\n",
      "sewage treatment plant reverse\n",
      "infidelity perpetrator reverse\n",
      "substance abuse reverse\n",
      "lifetime batting statistics reverse\n",
      "sponsored by reverse\n",
      "substance abuse problems reverse\n",
      "appears in these fictional universes reverse\n",
      "jurisdiction of office reverse\n",
      "body this is a component of reverse\n",
      "politicians in this party reverse\n",
      "websites owned reverse\n",
      "tropical cyclone season reverse\n",
      "olympics hosted reverse\n",
      "types of places of worship reverse\n",
      "athletic performances reverse\n",
      "mode of transportation reverse\n",
      "appeared in tv episodes reverse\n",
      "episodes appeared in reverse\n"
     ]
    },
    {
     "name": "stderr",
     "output_type": "stream",
     "text": [
      "\n"
     ]
    },
    {
     "data": {
      "text/plain": [
       "21"
      ]
     },
     "execution_count": 190,
     "metadata": {},
     "output_type": "execute_result"
    }
   ],
   "source": [
    "lengths = []\n",
    "count = 0\n",
    "for e in tqdm(relations):\n",
    "    encoded = sp.encode(relation_map[e])\n",
    "    l = len(encoded)\n",
    "    if l > 10:\n",
    "        print(relation_map[e])\n",
    "        count +=1\n",
    "    lengths.append(l)\n",
    "count"
   ]
  },
  {
   "cell_type": "code",
   "execution_count": 186,
   "id": "b5462fd9",
   "metadata": {},
   "outputs": [
    {
     "data": {
      "text/plain": [
       "Text(0.5, 0, 'Tokenized lengths')"
      ]
     },
     "execution_count": 186,
     "metadata": {},
     "output_type": "execute_result"
    },
    {
     "data": {
      "image/png": "[encoded data removed]",
      "text/plain": [
       "<Figure size 432x288 with 1 Axes>"
      ]
     },
     "metadata": {
      "needs_background": "light"
     },
     "output_type": "display_data"
    }
   ],
   "source": [
    "import matplotlib.pyplot as plt \n",
    "\n",
    "import numpy as np \n",
    "\n",
    "%matplotlib inline\n",
    "\n",
    "# x = np.random.normal(size = 1000) \n",
    "x = lengths\n",
    "plt.hist(x, bins=30) \n",
    "\n",
    "plt.ylabel('Num entities');\n",
    "plt.xlabel('Tokenized lengths')"
   ]
  },
  {
   "cell_type": "code",
   "execution_count": 191,
   "id": "51a339bd",
   "metadata": {},
   "outputs": [
    {
     "data": {
      "text/plain": [
       "[167, 10, 96]"
      ]
     },
     "execution_count": 191,
     "metadata": {},
     "output_type": "execute_result"
    }
   ],
   "source": [
    "sp.encode('plays for')"
   ]
  },
  {
   "cell_type": "code",
   "execution_count": 104,
   "id": "be1d15cf",
   "metadata": {},
   "outputs": [
    {
     "data": {
      "text/plain": [
       "1880592"
      ]
     },
     "execution_count": 104,
     "metadata": {},
     "output_type": "execute_result"
    }
   ],
   "source": [
    "len(uniq_ent_map)"
   ]
  },
  {
   "cell_type": "code",
   "execution_count": 143,
   "id": "023dc021",
   "metadata": {},
   "outputs": [],
   "source": [
    "def replaceEntities(line, aliases_dict):\n",
    "    line = line.strip().split('\\t')\n",
    "    q = line[0]\n",
    "    # sometimes no answer\n",
    "    if len(line) > 1:\n",
    "        answers= line[1].split('|')\n",
    "    else:\n",
    "        answers = []    \n",
    "    lhs = q.split('[')[0]\n",
    "    rhs = q.split(']')[1]\n",
    "    head_id = q.split('[')[1].split(']')[0]\n",
    "    if head_id in aliases_dict:\n",
    "        head_text = aliases_dict[head_id]\n",
    "    else:\n",
    "        head_text = head_id\n",
    "        print(head_text + ' not found')\n",
    "    answers_text = []\n",
    "    for a in answers:\n",
    "        if a in aliases_dict:\n",
    "            answers_text.append(aliases_dict[a])\n",
    "        else:\n",
    "            answers_text.append(a)\n",
    "    answers_string = '|'.join(answers_text)\n",
    "    \n",
    "    out = '{lhs}[{head}]{rhs}\\t{ans}'.format(\n",
    "        lhs=lhs,\n",
    "        rhs=rhs,\n",
    "        head = head_text,\n",
    "        ans = answers_string\n",
    "    )\n",
    "    return out\n",
    "        \n",
    "def readLines(fname):\n",
    "    f = open(fname)\n",
    "    lines = []\n",
    "    for line in f:\n",
    "        lines.append(line.rstrip())\n",
    "    f.close()\n",
    "    return lines\n",
    "\n",
    "def writeLines(lines, fname):\n",
    "    f = open(fname, 'w')\n",
    "    for line in lines:\n",
    "        f.write(line + '\\n')\n",
    "    f.close()"
   ]
  },
  {
   "cell_type": "code",
   "execution_count": 137,
   "id": "f67a0b09",
   "metadata": {},
   "outputs": [],
   "source": [
    "# need to make qa data as well, since entity aliases need to be used\n",
    "# and not just entity ids as answers\n",
    "fname = '/scratche/home/apoorv/EmbedKGQA/data/QA_data/WebQuestionsSP/qa_test_webqsp_fixed.txt'\n",
    "questions = readLines(fname)\n"
   ]
  },
  {
   "cell_type": "code",
   "execution_count": 138,
   "id": "53a73429",
   "metadata": {},
   "outputs": [
    {
     "data": {
      "text/plain": [
       "'what did james k polk do before he was president [m.042f1]\\tm.02_bcst|m.04x_n9q|m.0cgqx'"
      ]
     },
     "execution_count": 138,
     "metadata": {},
     "output_type": "execute_result"
    }
   ],
   "source": [
    "questions[1]"
   ]
  },
  {
   "cell_type": "code",
   "execution_count": 144,
   "id": "62983ae2",
   "metadata": {},
   "outputs": [
    {
     "name": "stdout",
     "output_type": "stream",
     "text": [
      "m.02vkmj9 not found\n"
     ]
    }
   ],
   "source": [
    "lines_with_entities = [replaceEntities(q, uniq_ent_map) for q in questions]"
   ]
  },
  {
   "cell_type": "code",
   "execution_count": 145,
   "id": "dd205992",
   "metadata": {},
   "outputs": [
    {
     "data": {
      "text/plain": [
       "1639"
      ]
     },
     "execution_count": 145,
     "metadata": {},
     "output_type": "execute_result"
    }
   ],
   "source": [
    "len(lines_with_entities)"
   ]
  },
  {
   "cell_type": "code",
   "execution_count": 146,
   "id": "1372b3d0",
   "metadata": {},
   "outputs": [
    {
     "data": {
      "text/plain": [
       "['what does jamaican people speak [Jamaica 1]\\tJamaican English|Jamaican Creole English Langua|Jamaican English',\n",
       " 'what did james k polk do before he was president [James K. Polk]\\tUnited States Representative|Governor of Tennessee|Speaker of the United States H',\n",
       " 'who plays ken barlow in coronation street [Coronation Street]\\tWilliam Roache',\n",
       " 'where is jamarcus russell from [JaMarcus Russell]\\tMobile 0',\n",
       " 'where was george washington carver from [George Washington Carver]\\tDiamond 8',\n",
       " 'what else did ben franklin invent [Benjamin Franklin]\\tLightning rod|Bifocals|Glass harmonica|Franklin stove',\n",
       " 'who was richard nixon married to [Richard Nixon]\\tPat Nixon',\n",
       " 'who is governor of ohio 2011 [Ohio 2]\\tJohn Kasich|Return J. Meigs, Jr.|Ted Strickland',\n",
       " 'who was vice president after kennedy died [John F. Kennedy 0]\\tLyndon B. Johnson 1',\n",
       " 'where is the fukushima daiichi nuclear plant located [Fukushima Daiichi Nuclear Powe]\\tJapan 1|Okuma']"
      ]
     },
     "execution_count": 146,
     "metadata": {},
     "output_type": "execute_result"
    }
   ],
   "source": [
    "lines_with_entities[:10]"
   ]
  },
  {
   "cell_type": "code",
   "execution_count": 148,
   "id": "dc01e9dd",
   "metadata": {},
   "outputs": [],
   "source": [
    "fname = 'data/fbwq_half/qa_valid_1hop.txt'\n",
    "writeLines(lines_with_entities, fname)"
   ]
  },
  {
   "cell_type": "code",
   "execution_count": null,
   "id": "a3bed453",
   "metadata": {},
   "outputs": [],
   "source": []
  }
 ],
 "metadata": {
  "kernelspec": {
   "display_name": "Python 3",
   "language": "python",
   "name": "python3"
  },
  "language_info": {
   "codemirror_mode": {
    "name": "ipython",
    "version": 3
   },
   "file_extension": ".py",
   "mimetype": "text/x-python",
   "name": "python",
   "nbconvert_exporter": "python",
   "pygments_lexer": "ipython3",
   "version": "3.8.8"
  }
 },
 "nbformat": 4,
 "nbformat_minor": 5
}
