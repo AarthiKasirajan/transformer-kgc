{
 "cells": [
  {
   "cell_type": "code",
   "execution_count": 8,
   "id": "5478f690",
   "metadata": {},
   "outputs": [],
   "source": [
    "import os\n",
    "from tqdm.notebook import tqdm\n",
    "from typing import Dict\n",
    "from collections import defaultdict\n",
    "import numpy as np\n",
    "import pickle\n",
    "\n",
    "def softmax(x):\n",
    "    \"\"\"Compute softmax values for each sets of scores in x.\"\"\"\n",
    "    return np.exp(x) / np.sum(np.exp(x), axis=0)\n",
    "\n",
    "def numLines(fname):\n",
    "    with open(fname) as f:\n",
    "        for i, l in enumerate(f):\n",
    "            pass\n",
    "    return i + 1\n",
    "def loadData(filename, max_points):\n",
    "    file_len = numLines(filename)\n",
    "    f = open(filename, 'r')\n",
    "    inputs = []\n",
    "    outputs = []\n",
    "    for i in tqdm(range(file_len)):\n",
    "        if i == max_points:\n",
    "            break\n",
    "        line = f.readline()\n",
    "        if line[-1] == '\\n':\n",
    "            line = line[:-1]\n",
    "        line = line.split('\\t')\n",
    "        inputs.append(line[0])\n",
    "        outputs.append(line[1])\n",
    "    data = {'inputs': inputs, 'outputs': outputs}\n",
    "    return data\n",
    "        \n",
    "def loadTriples(filename):\n",
    "    file_len = numLines(filename)\n",
    "    f = open(filename, 'r')\n",
    "    triples = []\n",
    "    for i in tqdm(range(file_len)):\n",
    "        line = f.readline()\n",
    "        if line[-1] == '\\n':\n",
    "            line = line[:-1]\n",
    "        line = line.split('\\t')\n",
    "        if line[0].startswith('predict tail:'):\n",
    "            tail = line[1]\n",
    "            line[0] = line[0].replace('predict tail: ', '')\n",
    "            x = line[0].split('|')\n",
    "            head = x[0].strip()\n",
    "            relation = x[1].strip()\n",
    "            triples.append((head, relation, tail))\n",
    "    return triples\n",
    "\n",
    "def load_entity_strings(filename):\n",
    "    with open(filename) as f:\n",
    "        lines = f.read().splitlines()\n",
    "    return lines\n",
    "\n",
    "def get_entity_wd_id_dict(filename):\n",
    "    out = {}\n",
    "    f = open(filename, 'r')\n",
    "    for line in f:\n",
    "        if line[-1] == '\\n':\n",
    "            line = line[:-1]\n",
    "        line = line.split('\\t')\n",
    "        out[line[1]] = line[0]\n",
    "    return out\n",
    "    \n",
    "\n",
    "def create_filter_dict(data) -> Dict[str, int]:\n",
    "    filter_dict = defaultdict(list)\n",
    "    for input, output in zip(data[\"inputs\"], data[\"outputs\"]):\n",
    "        filter_dict[input].append(output)\n",
    "    return filter_dict\n",
    "\n",
    "def getAllFilteringEntities(input, filter_dicts):\n",
    "    entities = []\n",
    "    splits = ['train', 'test', 'valid']\n",
    "    for s in splits:\n",
    "        entities.extend(filter_dicts[s][input])\n",
    "    return list(set(entities))\n",
    "\n",
    "def wikidata_link_from_id(id):\n",
    "    uri = 'https://www.wikidata.org/wiki/' + id\n",
    "    return uri"
   ]
  },
  {
   "cell_type": "code",
   "execution_count": 9,
   "id": "2fa7d38a",
   "metadata": {},
   "outputs": [],
   "source": [
    "dataset_name = 'wikidata5m'\n",
    "entity_strings = load_entity_strings(os.path.join(\"data\", dataset_name, \"entity_strings.txt\"))"
   ]
  },
  {
   "cell_type": "code",
   "execution_count": 10,
   "id": "c43221b6",
   "metadata": {},
   "outputs": [
    {
     "data": {
      "application/vnd.jupyter.widget-view+json": {
       "model_id": "b84f070bac154d728bff3407b17109bb",
       "version_major": 2,
       "version_minor": 0
      },
      "text/plain": [
       "HBox(children=(FloatProgress(value=0.0, max=42687362.0), HTML(value='')))"
      ]
     },
     "metadata": {},
     "output_type": "display_data"
    },
    {
     "name": "stdout",
     "output_type": "stream",
     "text": [
      "\n"
     ]
    },
    {
     "data": {
      "application/vnd.jupyter.widget-view+json": {
       "model_id": "ef61894bb6564cb694a66086279fdf09",
       "version_major": 2,
       "version_minor": 0
      },
      "text/plain": [
       "HBox(children=(FloatProgress(value=0.0, max=10714.0), HTML(value='')))"
      ]
     },
     "metadata": {},
     "output_type": "display_data"
    },
    {
     "name": "stdout",
     "output_type": "stream",
     "text": [
      "\n"
     ]
    },
    {
     "data": {
      "application/vnd.jupyter.widget-view+json": {
       "model_id": "5a8b0404dabc4777b50a140636d9c26c",
       "version_major": 2,
       "version_minor": 0
      },
      "text/plain": [
       "HBox(children=(FloatProgress(value=0.0, max=10642.0), HTML(value='')))"
      ]
     },
     "metadata": {},
     "output_type": "display_data"
    },
    {
     "name": "stdout",
     "output_type": "stream",
     "text": [
      "\n"
     ]
    }
   ],
   "source": [
    "data = {}\n",
    "splits = ['train', 'valid', 'test']\n",
    "dataset_name = 'wikidata5m'\n",
    "for split in splits:\n",
    "    data[split] = loadTriples(os.path.join('data', dataset_name, split + '.txt'))"
   ]
  },
  {
   "cell_type": "code",
   "execution_count": 28,
   "id": "8a75cb6a",
   "metadata": {},
   "outputs": [],
   "source": [
    "triples_set = set()\n",
    "for split in splits:\n",
    "    triples_set = triples_set.union(set(data[split]))"
   ]
  },
  {
   "cell_type": "code",
   "execution_count": 29,
   "id": "2e9421f3",
   "metadata": {},
   "outputs": [
    {
     "data": {
      "text/plain": [
       "21354279"
      ]
     },
     "execution_count": 29,
     "metadata": {},
     "output_type": "execute_result"
    }
   ],
   "source": [
    "len(triples_set)"
   ]
  },
  {
   "cell_type": "code",
   "execution_count": 16,
   "id": "a22c2ddc",
   "metadata": {},
   "outputs": [],
   "source": [
    "fname = 'scores/scores_full_100notrie_test.pickle'\n",
    "# fname = 'scores_500_base_trie.pickle'\n",
    "scores_data = pickle.load(open(fname, 'rb'))"
   ]
  },
  {
   "cell_type": "code",
   "execution_count": 20,
   "id": "c7f6f744",
   "metadata": {},
   "outputs": [],
   "source": [
    "dataset_name = 'wikidata5m'\n",
    "entity_strings = load_entity_strings(os.path.join(\"data\", dataset_name, \"entity_strings.txt\"))\n",
    "entity_strings_set = set(entity_strings)"
   ]
  },
  {
   "cell_type": "code",
   "execution_count": 21,
   "id": "4e4dc73b",
   "metadata": {},
   "outputs": [
    {
     "data": {
      "application/vnd.jupyter.widget-view+json": {
       "model_id": "fe5a362de6094459b4b6bc3dc27d9ba9",
       "version_major": 2,
       "version_minor": 0
      },
      "text/plain": [
       "HBox(children=(FloatProgress(value=1.0, bar_style='info', layout=Layout(width='20px'), max=1.0), HTML(value=''…"
      ]
     },
     "metadata": {},
     "output_type": "display_data"
    },
    {
     "name": "stdout",
     "output_type": "stream",
     "text": [
      "\n"
     ]
    }
   ],
   "source": [
    "predictions_scores_dicts = []\n",
    "for string_arr, score_arr in tqdm(zip(scores_data['prediction_strings'], scores_data['scores'])):\n",
    "    ps_pairs = [(p,s) for p,s in zip(string_arr, score_arr)]\n",
    "    ps_pairs = list(set(ps_pairs)) # while sampling, duplicates are created\n",
    "    # remove predictions that are not entities\n",
    "    ps_dict_only_entities = defaultdict(list)\n",
    "    for ps in ps_pairs:\n",
    "        if ps[0] in entity_strings_set:\n",
    "            ps_dict_only_entities[ps[0]] = ps[1]\n",
    "    predictions_scores_dicts.append(ps_dict_only_entities)"
   ]
  },
  {
   "cell_type": "code",
   "execution_count": 22,
   "id": "c16b3c33",
   "metadata": {},
   "outputs": [
    {
     "data": {
      "text/plain": [
       "defaultdict(list,\n",
       "            {'scotchland': -6.76756,\n",
       "             'canada': -3.7832804,\n",
       "             'iso 3166-1:au': -3.0367002,\n",
       "             'united states of america': -0.6516895,\n",
       "             'united kingdom of great britain and ireland': -4.322443,\n",
       "             'mainland sweden': -7.850136,\n",
       "             'new zealand': -3.74119,\n",
       "             'jamaica': -5.9805155})"
      ]
     },
     "execution_count": 22,
     "metadata": {},
     "output_type": "execute_result"
    }
   ],
   "source": [
    "predictions_scores_dicts[0]"
   ]
  },
  {
   "cell_type": "code",
   "execution_count": 62,
   "id": "8a5919dd",
   "metadata": {},
   "outputs": [],
   "source": [
    "def getEntRel(model_input):\n",
    "    x = model_input[14:]\n",
    "    x = x.split('|')\n",
    "    ent = x[0].strip()\n",
    "    rel = x[1].strip()\n",
    "    return ent, rel\n",
    "\n",
    "def isCorrect(pred, model_input):\n",
    "    global triples_set\n",
    "    ent, rel = getEntRel(model_input)\n",
    "    if 'predict head:' in model_input:\n",
    "        tail = ent\n",
    "        head = pred\n",
    "    else:\n",
    "        head = ent\n",
    "        tail = pred\n",
    "    triple = (head, rel, tail)\n",
    "    if triple in triples_set:\n",
    "        return True\n",
    "    else:\n",
    "        return False\n",
    "    \n",
    "def getPrecision(id, threshold):\n",
    "    global predictions_scores_dicts\n",
    "    global scores_data\n",
    "    scores_dict = predictions_scores_dicts[id]\n",
    "    model_input = scores_data['input_strings'][id]\n",
    "    total = 0\n",
    "    correct = 0\n",
    "    for k, v in scores_dict.items():\n",
    "        if v > threshold:\n",
    "            total += 1\n",
    "            if isCorrect(k, model_input):\n",
    "                correct += 1\n",
    "    if total > 0:\n",
    "        precision = correct/total\n",
    "    else:\n",
    "#         print('All scores below threshold!')\n",
    "        precision = -1\n",
    "    return precision"
   ]
  },
  {
   "cell_type": "code",
   "execution_count": 31,
   "id": "597213b4",
   "metadata": {},
   "outputs": [
    {
     "data": {
      "text/plain": [
       "dict_keys(['prediction_strings', 'scores', 'target_strings', 'input_strings'])"
      ]
     },
     "execution_count": 31,
     "metadata": {},
     "output_type": "execute_result"
    }
   ],
   "source": [
    "scores_data.keys()"
   ]
  },
  {
   "cell_type": "code",
   "execution_count": 41,
   "id": "5f612e4d",
   "metadata": {},
   "outputs": [],
   "source": [
    "all_scores = []\n",
    "for x in scores_data['scores']:\n",
    "    all_scores.extend(x)"
   ]
  },
  {
   "cell_type": "code",
   "execution_count": 43,
   "id": "76cdc941",
   "metadata": {},
   "outputs": [
    {
     "data": {
      "text/plain": [
       "(-67.31118, 0.0)"
      ]
     },
     "execution_count": 43,
     "metadata": {},
     "output_type": "execute_result"
    }
   ],
   "source": [
    "min_score = min(all_scores)\n",
    "max_score = max(all_scores)\n",
    "min_score, max_score"
   ]
  },
  {
   "cell_type": "code",
   "execution_count": 81,
   "id": "25f71575",
   "metadata": {},
   "outputs": [],
   "source": [
    "def aggregatePrecision(threshold):\n",
    "    global scores_data\n",
    "    total_points_with_precision = 0\n",
    "    total_precision = 0\n",
    "    num_points = len(scores_data['input_strings'])\n",
    "    for id in tqdm(range(num_points)):\n",
    "        precision = getPrecision(id, threshold)\n",
    "        if precision != -1:\n",
    "            total_precision += precision\n",
    "            total_points_with_precision += 1\n",
    "#     print(total_points_with_precision/num_points)\n",
    "    return total_precision/total_points_with_precision"
   ]
  },
  {
   "cell_type": "code",
   "execution_count": 82,
   "id": "83d086d7",
   "metadata": {},
   "outputs": [
    {
     "data": {
      "application/vnd.jupyter.widget-view+json": {
       "model_id": "a22ada5bc65041c9b296ae3e7458ada3",
       "version_major": 2,
       "version_minor": 0
      },
      "text/plain": [
       "HBox(children=(FloatProgress(value=0.0, max=10642.0), HTML(value='')))"
      ]
     },
     "metadata": {},
     "output_type": "display_data"
    },
    {
     "name": "stdout",
     "output_type": "stream",
     "text": [
      "\n"
     ]
    },
    {
     "data": {
      "text/plain": [
       "0.3204409907476535"
      ]
     },
     "execution_count": 82,
     "metadata": {},
     "output_type": "execute_result"
    }
   ],
   "source": [
    "score = aggregatePrecision(-10)\n",
    "score"
   ]
  },
  {
   "cell_type": "code",
   "execution_count": 85,
   "id": "1c381855",
   "metadata": {},
   "outputs": [
    {
     "data": {
      "application/vnd.jupyter.widget-view+json": {
       "model_id": "a17ab03b5d17442e92b5147b02649a33",
       "version_major": 2,
       "version_minor": 0
      },
      "text/plain": [
       "HBox(children=(FloatProgress(value=0.0, max=10642.0), HTML(value='')))"
      ]
     },
     "metadata": {},
     "output_type": "display_data"
    },
    {
     "name": "stdout",
     "output_type": "stream",
     "text": [
      "\n",
      "0.30660748826216827 -60\n"
     ]
    },
    {
     "data": {
      "application/vnd.jupyter.widget-view+json": {
       "model_id": "b6f9fe8d746845a4926b77ca087c80dc",
       "version_major": 2,
       "version_minor": 0
      },
      "text/plain": [
       "HBox(children=(FloatProgress(value=0.0, max=10642.0), HTML(value='')))"
      ]
     },
     "metadata": {},
     "output_type": "display_data"
    },
    {
     "name": "stdout",
     "output_type": "stream",
     "text": [
      "\n",
      "0.30660748826216827 -30.0\n"
     ]
    },
    {
     "data": {
      "application/vnd.jupyter.widget-view+json": {
       "model_id": "45e12d89f2df465da2ec715da469fc30",
       "version_major": 2,
       "version_minor": 0
      },
      "text/plain": [
       "HBox(children=(FloatProgress(value=0.0, max=10642.0), HTML(value='')))"
      ]
     },
     "metadata": {},
     "output_type": "display_data"
    },
    {
     "name": "stdout",
     "output_type": "stream",
     "text": [
      "\n",
      "0.30687960964553784 -15.0\n"
     ]
    },
    {
     "data": {
      "application/vnd.jupyter.widget-view+json": {
       "model_id": "016235c1f77d4d1ab00cadaddae44206",
       "version_major": 2,
       "version_minor": 0
      },
      "text/plain": [
       "HBox(children=(FloatProgress(value=0.0, max=10642.0), HTML(value='')))"
      ]
     },
     "metadata": {},
     "output_type": "display_data"
    },
    {
     "name": "stdout",
     "output_type": "stream",
     "text": [
      "\n",
      "0.32082500748564885 -7.5\n"
     ]
    },
    {
     "data": {
      "application/vnd.jupyter.widget-view+json": {
       "model_id": "78c0bee9ae1b44639dbcd9e5b83b37d1",
       "version_major": 2,
       "version_minor": 0
      },
      "text/plain": [
       "HBox(children=(FloatProgress(value=0.0, max=10642.0), HTML(value='')))"
      ]
     },
     "metadata": {},
     "output_type": "display_data"
    },
    {
     "name": "stdout",
     "output_type": "stream",
     "text": [
      "\n",
      "0.4138154190553183 -3.75\n"
     ]
    },
    {
     "data": {
      "application/vnd.jupyter.widget-view+json": {
       "model_id": "25fd6cd104b746adbb767b41200d9f99",
       "version_major": 2,
       "version_minor": 0
      },
      "text/plain": [
       "HBox(children=(FloatProgress(value=0.0, max=10642.0), HTML(value='')))"
      ]
     },
     "metadata": {},
     "output_type": "display_data"
    },
    {
     "name": "stdout",
     "output_type": "stream",
     "text": [
      "\n",
      "0.644084052663702 -1.875\n"
     ]
    },
    {
     "data": {
      "application/vnd.jupyter.widget-view+json": {
       "model_id": "5b74b452b41d4c52850f01b6101a441c",
       "version_major": 2,
       "version_minor": 0
      },
      "text/plain": [
       "HBox(children=(FloatProgress(value=0.0, max=10642.0), HTML(value='')))"
      ]
     },
     "metadata": {},
     "output_type": "display_data"
    },
    {
     "name": "stdout",
     "output_type": "stream",
     "text": [
      "\n",
      "0.8249361080686382 -0.9375\n"
     ]
    },
    {
     "data": {
      "application/vnd.jupyter.widget-view+json": {
       "model_id": "55e7798b139d4a199634db6ced0accb3",
       "version_major": 2,
       "version_minor": 0
      },
      "text/plain": [
       "HBox(children=(FloatProgress(value=0.0, max=10642.0), HTML(value='')))"
      ]
     },
     "metadata": {},
     "output_type": "display_data"
    },
    {
     "name": "stdout",
     "output_type": "stream",
     "text": [
      "\n",
      "0.9130434782608695 -0.46875\n"
     ]
    },
    {
     "data": {
      "application/vnd.jupyter.widget-view+json": {
       "model_id": "090688008cbf45899ac581ea5d1102db",
       "version_major": 2,
       "version_minor": 0
      },
      "text/plain": [
       "HBox(children=(FloatProgress(value=0.0, max=10642.0), HTML(value='')))"
      ]
     },
     "metadata": {},
     "output_type": "display_data"
    },
    {
     "name": "stdout",
     "output_type": "stream",
     "text": [
      "\n",
      "0.9572072072072072 -0.234375\n"
     ]
    },
    {
     "data": {
      "application/vnd.jupyter.widget-view+json": {
       "model_id": "bebe871ca6c147aea9916c4e27756e3c",
       "version_major": 2,
       "version_minor": 0
      },
      "text/plain": [
       "HBox(children=(FloatProgress(value=0.0, max=10642.0), HTML(value='')))"
      ]
     },
     "metadata": {},
     "output_type": "display_data"
    },
    {
     "name": "stdout",
     "output_type": "stream",
     "text": [
      "\n",
      "0.975609756097561 -0.1171875\n"
     ]
    }
   ],
   "source": [
    "initial = -60\n",
    "X = []\n",
    "Y = []\n",
    "for i in range(10):\n",
    "    score = aggregatePrecision(initial)\n",
    "    X.append(initial)\n",
    "    Y.append(score)\n",
    "    print(score, initial)\n",
    "    initial = initial/2"
   ]
  },
  {
   "cell_type": "code",
   "execution_count": 50,
   "id": "4f298fc6",
   "metadata": {},
   "outputs": [
    {
     "data": {
      "text/plain": [
       "'spore: creepy & cute | game platform |'"
      ]
     },
     "execution_count": 50,
     "metadata": {},
     "output_type": "execute_result"
    }
   ],
   "source": [
    "x = 'predict tail: spore: creepy & cute | game platform |'\n",
    "x[14:]"
   ]
  },
  {
   "cell_type": "code",
   "execution_count": 89,
   "id": "99fd4a7f",
   "metadata": {},
   "outputs": [
    {
     "name": "stdout",
     "output_type": "stream",
     "text": [
      "-60\n",
      "-30.0\n",
      "-15.0\n",
      "-7.5\n",
      "-3.75\n",
      "-1.875\n",
      "-0.938\n",
      "-0.469\n",
      "-0.234\n",
      "-0.117\n"
     ]
    }
   ],
   "source": [
    "for x in X:\n",
    "    print(round(x,3))"
   ]
  },
  {
   "cell_type": "code",
   "execution_count": null,
   "id": "4a3bc228",
   "metadata": {},
   "outputs": [],
   "source": []
  }
 ],
 "metadata": {
  "kernelspec": {
   "display_name": "Python 3",
   "language": "python",
   "name": "python3"
  },
  "language_info": {
   "codemirror_mode": {
    "name": "ipython",
    "version": 3
   },
   "file_extension": ".py",
   "mimetype": "text/x-python",
   "name": "python",
   "nbconvert_exporter": "python",
   "pygments_lexer": "ipython3",
   "version": "3.8.8"
  }
 },
 "nbformat": 4,
 "nbformat_minor": 5
}
