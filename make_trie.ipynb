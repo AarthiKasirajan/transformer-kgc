{
 "cells": [
  {
   "cell_type": "code",
   "execution_count": 51,
   "id": "b1b1f293",
   "metadata": {},
   "outputs": [],
   "source": [
    "from trie import Trie\n",
    "sequences = ['english', 'english language', 'french']\n",
    "t = Trie(sequences)"
   ]
  },
  {
   "cell_type": "code",
   "execution_count": 52,
   "id": "857446f1",
   "metadata": {},
   "outputs": [],
   "source": [
    "import os\n",
    "def load_entity_strings(filename):\n",
    "    with open(filename) as f:\n",
    "        lines = f.read().splitlines()\n",
    "    return lines"
   ]
  },
  {
   "cell_type": "code",
   "execution_count": 53,
   "id": "cbd7d372",
   "metadata": {},
   "outputs": [],
   "source": [
    "# dataset_name = 'wikidata5m'\n",
    "dataset_name = 'yago3-10_2'\n",
    "entity_strings = load_entity_strings(os.path.join(\"data\", dataset_name, \"entity_strings.txt\"))\n",
    "# entity_strings_set = set(entity_strings)"
   ]
  },
  {
   "cell_type": "code",
   "execution_count": 54,
   "id": "6b1bb7b2",
   "metadata": {},
   "outputs": [
    {
     "data": {
      "text/plain": [
       "123182"
      ]
     },
     "execution_count": 54,
     "metadata": {},
     "output_type": "execute_result"
    }
   ],
   "source": [
    "len(entity_strings)"
   ]
  },
  {
   "cell_type": "code",
   "execution_count": 55,
   "id": "26a2c628",
   "metadata": {},
   "outputs": [],
   "source": [
    "from sentencepiece_tokenizer import SentencePieceTokenizer"
   ]
  },
  {
   "cell_type": "code",
   "execution_count": 56,
   "id": "f0c189ed",
   "metadata": {},
   "outputs": [],
   "source": [
    "tokenizer = SentencePieceTokenizer()"
   ]
  },
  {
   "cell_type": "code",
   "execution_count": 57,
   "id": "ce98fe89",
   "metadata": {},
   "outputs": [],
   "source": [
    "import sentencepiece as spm\n",
    "# prefix='wd5m_with_pad'\n",
    "prefix='yago_with_pad2'\n",
    "path = os.path.join('data/sentencepiece', prefix + '.model')\n",
    "sp = spm.SentencePieceProcessor(model_file=path)"
   ]
  },
  {
   "cell_type": "code",
   "execution_count": 58,
   "id": "610d8f22",
   "metadata": {},
   "outputs": [
    {
     "name": "stderr",
     "output_type": "stream",
     "text": [
      "100%|██████████| 123182/123182 [00:00<00:00, 148397.06it/s]\n"
     ]
    }
   ],
   "source": [
    "from tqdm import tqdm\n",
    "max_len = 75\n",
    "entities_tokenized = []\n",
    "eos_token = 2\n",
    "for e in tqdm(entity_strings):\n",
    "    x = sp.encode(e)\n",
    "    x = x[:max_len]\n",
    "    x.append(eos_token)\n",
    "    entities_tokenized.append(x)"
   ]
  },
  {
   "cell_type": "code",
   "execution_count": 59,
   "id": "1af70731",
   "metadata": {},
   "outputs": [
    {
     "data": {
      "text/plain": [
       "123182"
      ]
     },
     "execution_count": 59,
     "metadata": {},
     "output_type": "execute_result"
    }
   ],
   "source": [
    "len(entities_tokenized)"
   ]
  },
  {
   "cell_type": "code",
   "execution_count": 60,
   "id": "88f65f04",
   "metadata": {},
   "outputs": [],
   "source": [
    "entity_trie = Trie(entities_tokenized)"
   ]
  },
  {
   "cell_type": "code",
   "execution_count": 61,
   "id": "aa2e1827",
   "metadata": {},
   "outputs": [],
   "source": [
    "import pickle"
   ]
  },
  {
   "cell_type": "code",
   "execution_count": 62,
   "id": "56be62a9",
   "metadata": {},
   "outputs": [],
   "source": [
    "trie_dict = entity_trie.trie_dict"
   ]
  },
  {
   "cell_type": "code",
   "execution_count": 63,
   "id": "9f88fe17",
   "metadata": {},
   "outputs": [],
   "source": [
    "# fname = 'wd5m_entities_trie.pkl'\n",
    "fname = 'yago2_entities_trie.pkl'\n",
    "pickle.dump(trie_dict, open(fname, 'wb'))"
   ]
  },
  {
   "cell_type": "code",
   "execution_count": 64,
   "id": "2fa86d79",
   "metadata": {},
   "outputs": [],
   "source": [
    "x = entity_trie.get([28])"
   ]
  },
  {
   "cell_type": "code",
   "execution_count": 66,
   "id": "f090803d",
   "metadata": {},
   "outputs": [
    {
     "data": {
      "text/plain": [
       "[]"
      ]
     },
     "execution_count": 66,
     "metadata": {},
     "output_type": "execute_result"
    }
   ],
   "source": [
    "x"
   ]
  },
  {
   "cell_type": "code",
   "execution_count": 70,
   "id": "2f299c61",
   "metadata": {},
   "outputs": [
    {
     "data": {
      "text/plain": [
       "[809,\n",
       " 44,\n",
       " 1180,\n",
       " 14594,\n",
       " 3069,\n",
       " 86,\n",
       " 88,\n",
       " 931,\n",
       " 1669,\n",
       " 4808,\n",
       " 1693,\n",
       " 16487,\n",
       " 9311,\n",
       " 379,\n",
       " 5398,\n",
       " 12916,\n",
       " 5086,\n",
       " 12018,\n",
       " 3247,\n",
       " 1055,\n",
       " 6554,\n",
       " 8700,\n",
       " 9943,\n",
       " 7539,\n",
       " 13784,\n",
       " 16238,\n",
       " 29699,\n",
       " 13,\n",
       " 10008,\n",
       " 6101,\n",
       " 6263,\n",
       " 21,\n",
       " 4607,\n",
       " 25984,\n",
       " 395,\n",
       " 5087,\n",
       " 12,\n",
       " 12167,\n",
       " 346,\n",
       " 4547,\n",
       " 4813,\n",
       " 399,\n",
       " 11427,\n",
       " 222,\n",
       " 7852,\n",
       " 16135,\n",
       " 1071,\n",
       " 61,\n",
       " 11564,\n",
       " 6326,\n",
       " 27,\n",
       " 5180,\n",
       " 12465,\n",
       " 16781,\n",
       " 8453,\n",
       " 681,\n",
       " 553,\n",
       " 117,\n",
       " 3727,\n",
       " 11111,\n",
       " 4600,\n",
       " 19133,\n",
       " 20703,\n",
       " 12641,\n",
       " 4516,\n",
       " 25118,\n",
       " 24984,\n",
       " 9908,\n",
       " 1611,\n",
       " 23320,\n",
       " 16107,\n",
       " 24733,\n",
       " 270,\n",
       " 9925,\n",
       " 1593,\n",
       " 20229,\n",
       " 345,\n",
       " 210,\n",
       " 394,\n",
       " 1132,\n",
       " 1366,\n",
       " 422,\n",
       " 13932,\n",
       " 26785,\n",
       " 781,\n",
       " 71,\n",
       " 4888,\n",
       " 572,\n",
       " 20670,\n",
       " 200,\n",
       " 25120,\n",
       " 687,\n",
       " 11933,\n",
       " 8326,\n",
       " 20632,\n",
       " 2391,\n",
       " 7786,\n",
       " 1039,\n",
       " 10588,\n",
       " 24877,\n",
       " 128,\n",
       " 1037,\n",
       " 407,\n",
       " 16583,\n",
       " 363,\n",
       " 5854,\n",
       " 2521,\n",
       " 15248,\n",
       " 7095,\n",
       " 24685,\n",
       " 25,\n",
       " 25146,\n",
       " 8501,\n",
       " 198,\n",
       " 1447,\n",
       " 3130,\n",
       " 1431,\n",
       " 21111,\n",
       " 4,\n",
       " 13198,\n",
       " 338,\n",
       " 7344,\n",
       " 377,\n",
       " 202,\n",
       " 26348,\n",
       " 14181,\n",
       " 7790,\n",
       " 29690,\n",
       " 4404,\n",
       " 1204,\n",
       " 3620,\n",
       " 2986,\n",
       " 4391,\n",
       " 1666,\n",
       " 8046]"
      ]
     },
     "execution_count": 70,
     "metadata": {},
     "output_type": "execute_result"
    }
   ],
   "source": [
    "entity_trie.get([100])"
   ]
  },
  {
   "cell_type": "code",
   "execution_count": null,
   "id": "f895db83",
   "metadata": {},
   "outputs": [],
   "source": []
  }
 ],
 "metadata": {
  "kernelspec": {
   "display_name": "Python 3",
   "language": "python",
   "name": "python3"
  },
  "language_info": {
   "codemirror_mode": {
    "name": "ipython",
    "version": 3
   },
   "file_extension": ".py",
   "mimetype": "text/x-python",
   "name": "python",
   "nbconvert_exporter": "python",
   "pygments_lexer": "ipython3",
   "version": "3.8.8"
  }
 },
 "nbformat": 4,
 "nbformat_minor": 5
}
