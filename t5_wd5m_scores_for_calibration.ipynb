{
 "cells": [
  {
   "cell_type": "code",
   "execution_count": 53,
   "id": "328e0432",
   "metadata": {},
   "outputs": [],
   "source": [
    "from tqdm.notebook import tqdm\n",
    "import pickle\n",
    "import os\n",
    "os.environ[\"CUDA_DEVICE_ORDER\"]=\"PCI_BUS_ID\"   # see issue #152\n",
    "os.environ[\"CUDA_VISIBLE_DEVICES\"]=\"1\"\n",
    "from utils_accelerate import *"
   ]
  },
  {
   "cell_type": "code",
   "execution_count": 52,
   "id": "7c141cda",
   "metadata": {},
   "outputs": [],
   "source": [
    "def readLines(fname):\n",
    "    lines = []\n",
    "    f = open(fname)\n",
    "    for line in f:\n",
    "        lines.append(line.rstrip())\n",
    "    f.close()\n",
    "    return lines\n",
    "\n",
    "def readTriples(fname):\n",
    "    lines = readLines(fname)\n",
    "    triples = []\n",
    "    for line in lines:\n",
    "        triples.append(line.split('\\t'))\n",
    "    return triples\n",
    "\n",
    "def tripleToText(t, aliases_dict):\n",
    "    try:\n",
    "        out = [aliases_dict[x] for x in t]\n",
    "    except:\n",
    "        print('Error for ', t)\n",
    "        out = t\n",
    "    return out\n",
    "\n",
    "def writeLines(lines, fname):\n",
    "    f = open(fname, 'w')\n",
    "    for line in lines:\n",
    "        f.write(line + '\\n')\n",
    "    f.close()\n",
    "    return\n",
    "\n",
    "def writeTriples(triples, fname):\n",
    "    f = open(fname, 'w')\n",
    "    for t in triples:\n",
    "        line = '\\t'.join(t)\n",
    "        f.write(line + '\\n')\n",
    "    f.close()\n",
    "    return"
   ]
  },
  {
   "cell_type": "code",
   "execution_count": 4,
   "id": "69a23f5b",
   "metadata": {},
   "outputs": [
    {
     "name": "stdout",
     "output_type": "stream",
     "text": [
      "Model args\n",
      "Namespace(batch_size=100, dataset='wikidata5m', epochs=15, learning_rate=None, load_checkpoint='wd5m-sentencepiece-rp/75000.pt', loss_steps=250, max_checkpoints=5, model_size='t5-small', num_workers=3, optimizer='adafactor', relation_prediction=1, resume=None, save_prefix='wd5m-sentencepiece-rp', save_steps=5000, start_steps=0, tokenizer='sentencepiece')\n",
      "Vocab size is 30000\n"
     ]
    },
    {
     "name": "stderr",
     "output_type": "stream",
     "text": [
      "100%|██████████████████████████████████████████████████████| 10714/10714 [00:00<00:00, 507702.61it/s]\n"
     ]
    }
   ],
   "source": [
    "ckpt = 'wd5m-sentencepiece-rp/530000.pt'\n",
    "model, optimizer, _, _ = load_accelerator_model('models/{}'.format(ckpt))"
   ]
  },
  {
   "cell_type": "code",
   "execution_count": 50,
   "id": "f565015e",
   "metadata": {},
   "outputs": [
    {
     "data": {
      "text/plain": [
       "1"
      ]
     },
     "execution_count": 50,
     "metadata": {},
     "output_type": "execute_result"
    }
   ],
   "source": [
    "model.cuda()\n",
    "1"
   ]
  },
  {
   "cell_type": "code",
   "execution_count": 8,
   "id": "a0bbdace",
   "metadata": {},
   "outputs": [
    {
     "name": "stdout",
     "output_type": "stream",
     "text": [
      "Vocab size is 30000\n"
     ]
    },
    {
     "name": "stderr",
     "output_type": "stream",
     "text": [
      "100%|██████████████████████████████████████████████████████| 10714/10714 [00:00<00:00, 686240.50it/s]\n"
     ]
    }
   ],
   "source": [
    "dataset = T5_Dataset('valid', dataset_name='wikidata5m', tokenizer_type='sentencepiece')"
   ]
  },
  {
   "cell_type": "code",
   "execution_count": 54,
   "id": "b0d4b27d",
   "metadata": {},
   "outputs": [
    {
     "data": {
      "application/vnd.jupyter.widget-view+json": {
       "model_id": "c1826baf2d034e51adec5fe6e94d6692",
       "version_major": 2,
       "version_minor": 0
      },
      "text/plain": [
       "  0%|          | 0/4819507 [00:00<?, ?it/s]"
      ]
     },
     "metadata": {},
     "output_type": "display_data"
    },
    {
     "name": "stdout",
     "output_type": "stream",
     "text": [
      "['Q11159396']\n"
     ]
    }
   ],
   "source": [
    "fname = '/scratche/home/apoorv/transformer-kgc/data/wikidata5m/aliases.txt'\n",
    "lines = readLines(fname)\n",
    "aliases_dict = {}\n",
    "for line in tqdm(lines):\n",
    "    line = line.split('\\t')\n",
    "    try:\n",
    "        aliases_dict[line[0]] = line[1]\n",
    "    except:\n",
    "        print(line)"
   ]
  },
  {
   "cell_type": "code",
   "execution_count": 55,
   "id": "b07cc458",
   "metadata": {},
   "outputs": [],
   "source": [
    "def getTripleScore(model, triple, aliases_dict, direction='tail'):\n",
    "    t = [aliases_dict[x] for x in triple]\n",
    "    input_text = 'predict tail: {0} | {1} |'.format(t[0], t[1])\n",
    "    target_text = t[2]\n",
    "    model.eval()\n",
    "    inputs_tokenized = dataset.tokenizer([input_text], padding=True, truncation=True, return_tensors=\"pt\")\n",
    "    input_ids = inputs_tokenized.input_ids\n",
    "    target_tokenized = dataset.tokenizer([target_text], padding=True, truncation=True, return_tensors=\"pt\")\n",
    "    target_ids = target_tokenized.input_ids\n",
    "    outputs = model(input_ids = input_ids.cuda(),\n",
    "               labels = target_ids.cuda())\n",
    "    logits = torch.log_softmax(outputs.logits, dim=2).squeeze()\n",
    "    score = 0\n",
    "    for i, x in enumerate(target_ids.squeeze()):\n",
    "        s = logits[i][x]\n",
    "        score += s.item()\n",
    "    return score"
   ]
  },
  {
   "cell_type": "code",
   "execution_count": 56,
   "id": "729ac15f",
   "metadata": {},
   "outputs": [],
   "source": [
    "fname = '/scratche/home/apoorv/repos/probe_kge/data/wikidata5m/valid.txt'\n",
    "valid = readTriples(fname)\n",
    "fname = '/scratche/home/apoorv/repos/probe_kge/data/wikidata5m/test.txt'\n",
    "test = readTriples(fname)"
   ]
  },
  {
   "cell_type": "code",
   "execution_count": 57,
   "id": "51740150",
   "metadata": {},
   "outputs": [],
   "source": [
    "fname = '/scratche/home/apoorv/repos/probe_kge/wd5m_valid_neg.txt'\n",
    "valid_neg = readTriples(fname)\n",
    "fname = '/scratche/home/apoorv/repos/probe_kge/wd5m_test_neg.txt'\n",
    "test_neg = readTriples(fname)"
   ]
  },
  {
   "cell_type": "code",
   "execution_count": 72,
   "id": "b510e572",
   "metadata": {},
   "outputs": [
    {
     "data": {
      "application/vnd.jupyter.widget-view+json": {
       "model_id": "5fdc6d8fb6e04e79b80ee23b07b017fb",
       "version_major": 2,
       "version_minor": 0
      },
      "text/plain": [
       "  0%|          | 0/9789 [00:00<?, ?it/s]"
      ]
     },
     "metadata": {},
     "output_type": "display_data"
    }
   ],
   "source": [
    "triples_to_score = test_neg\n",
    "scores_list = []\n",
    "for t in tqdm(triples_to_score):\n",
    "    score = getTripleScore(model, t, aliases_dict)\n",
    "    item = {}\n",
    "    item['triple'] = t\n",
    "    item['score'] = score\n",
    "    scores_list.append(item)"
   ]
  },
  {
   "cell_type": "code",
   "execution_count": 73,
   "id": "272f1b26",
   "metadata": {},
   "outputs": [],
   "source": [
    "import pickle\n",
    "fname = 'wd5m_t5_test_neg_scores.pickle'\n",
    "pickle.dump(scores_list, open(fname, 'wb'))"
   ]
  },
  {
   "cell_type": "code",
   "execution_count": 74,
   "id": "4d311b0b",
   "metadata": {},
   "outputs": [
    {
     "data": {
      "text/plain": [
       "[{'triple': ['Q268615', 'P27', 'Q851'], 'score': -1.576493263244629},\n",
       " {'triple': ['Q49452', 'P27', 'Q30'], 'score': -4.784881591796875},\n",
       " {'triple': ['Q1452648', 'P509', 'Q11081'], 'score': -7.18287992477417},\n",
       " {'triple': ['Q19199', 'P106', 'Q177220'], 'score': -2.7694578170776367},\n",
       " {'triple': ['Q104049', 'P1412', 'Q9288'], 'score': -6.375690460205078},\n",
       " {'triple': ['Q187884', 'P27', 'Q29999'], 'score': -1.4096927642822266},\n",
       " {'triple': ['Q436693', 'P20', 'Q60'], 'score': -3.654574394226074},\n",
       " {'triple': ['Q315391', 'P20', 'Q220'], 'score': -5.577649116516113},\n",
       " {'triple': ['Q47878', 'P27', 'Q183'], 'score': -7.386842727661133},\n",
       " {'triple': ['Q168821', 'P495', 'Q40'], 'score': -5.70074462890625}]"
      ]
     },
     "execution_count": 74,
     "metadata": {},
     "output_type": "execute_result"
    }
   ],
   "source": [
    "scores_list[:10]"
   ]
  },
  {
   "cell_type": "code",
   "execution_count": 32,
   "id": "abc9fefa",
   "metadata": {},
   "outputs": [],
   "source": [
    "input_text = 'predict tail: barack obama | coo |'\n",
    "target_text = 'united states of america'\n",
    "model.eval()\n",
    "inputs_tokenized = dataset.tokenizer([input_text], padding=True, truncation=True, return_tensors=\"pt\")\n",
    "input_ids = inputs_tokenized.input_ids\n",
    "target_tokenized = dataset.tokenizer([target_text], padding=True, truncation=True, return_tensors=\"pt\")\n",
    "target_ids = target_tokenized.input_ids"
   ]
  },
  {
   "cell_type": "code",
   "execution_count": 33,
   "id": "3f116a3d",
   "metadata": {},
   "outputs": [],
   "source": [
    "outputs = model(input_ids = input_ids.cuda(),\n",
    "               labels = target_ids.cuda())"
   ]
  },
  {
   "cell_type": "code",
   "execution_count": 43,
   "id": "4f9d06e1",
   "metadata": {},
   "outputs": [],
   "source": [
    "logits = torch.log_softmax(outputs.logits, dim=2).squeeze()"
   ]
  },
  {
   "cell_type": "code",
   "execution_count": 45,
   "id": "e8ec58be",
   "metadata": {},
   "outputs": [
    {
     "name": "stdout",
     "output_type": "stream",
     "text": [
      "tensor([ -0.0375, -10.0608, -14.5330, -12.3434, -13.9325], device='cuda:0',\n",
      "       grad_fn=<IndexBackward>)\n"
     ]
    }
   ],
   "source": [
    "score = 0\n",
    "for i, x in enumerate(target_ids):\n",
    "    s = logits[i][x]\n",
    "    print(s)"
   ]
  },
  {
   "cell_type": "code",
   "execution_count": 48,
   "id": "8025a5d4",
   "metadata": {},
   "outputs": [
    {
     "data": {
      "text/plain": [
       "-0.05280494689941406"
      ]
     },
     "execution_count": 48,
     "metadata": {},
     "output_type": "execute_result"
    }
   ],
   "source": [
    "score = 0\n",
    "for i, x in enumerate(target_ids.squeeze()):\n",
    "    s = logits[i][x]\n",
    "    score += s.item()\n",
    "score"
   ]
  },
  {
   "cell_type": "code",
   "execution_count": 15,
   "id": "adc4ca33",
   "metadata": {},
   "outputs": [],
   "source": [
    "output_ids = model.generate(input_ids = input_ids.cuda(),\n",
    "                           eos_token_id = dataset.tokenizer.eos_token_id,)"
   ]
  },
  {
   "cell_type": "code",
   "execution_count": 16,
   "id": "cc232a88",
   "metadata": {},
   "outputs": [],
   "source": [
    "predicted_text = dataset.tokenizer.batch_decode(output_ids, skip_special_tokens=True)"
   ]
  },
  {
   "cell_type": "code",
   "execution_count": 17,
   "id": "f03f807c",
   "metadata": {},
   "outputs": [
    {
     "data": {
      "text/plain": [
       "['united states of america']"
      ]
     },
     "execution_count": 17,
     "metadata": {},
     "output_type": "execute_result"
    }
   ],
   "source": [
    "predicted_text"
   ]
  },
  {
   "cell_type": "code",
   "execution_count": null,
   "id": "e9b810be",
   "metadata": {},
   "outputs": [],
   "source": []
  }
 ],
 "metadata": {
  "kernelspec": {
   "display_name": "Python 3 (ipykernel)",
   "language": "python",
   "name": "python3"
  },
  "language_info": {
   "codemirror_mode": {
    "name": "ipython",
    "version": 3
   },
   "file_extension": ".py",
   "mimetype": "text/x-python",
   "name": "python",
   "nbconvert_exporter": "python",
   "pygments_lexer": "ipython3",
   "version": "3.8.8"
  }
 },
 "nbformat": 4,
 "nbformat_minor": 5
}
