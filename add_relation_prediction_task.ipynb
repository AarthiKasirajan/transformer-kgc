{
 "cells": [
  {
   "cell_type": "code",
   "execution_count": 3,
   "id": "b2eed209",
   "metadata": {},
   "outputs": [],
   "source": [
    "import pickle\n",
    "from tqdm import tqdm"
   ]
  },
  {
   "cell_type": "code",
   "execution_count": 31,
   "id": "05271672",
   "metadata": {},
   "outputs": [
    {
     "name": "stderr",
     "output_type": "stream",
     "text": [
      "371168it [00:00, 1554023.71it/s]\n"
     ]
    }
   ],
   "source": [
    "folder = 'data/codex-m/'\n",
    "fname = folder + 'train.txt'\n",
    "train = []\n",
    "f = open(fname)\n",
    "for line in tqdm(f):\n",
    "    if line[-1] == '\\n':\n",
    "        line = line[:-1]\n",
    "    train.append(line)\n",
    "f.close()"
   ]
  },
  {
   "cell_type": "code",
   "execution_count": 32,
   "id": "236157c7",
   "metadata": {},
   "outputs": [
    {
     "data": {
      "text/plain": [
       "371168"
      ]
     },
     "execution_count": 32,
     "metadata": {},
     "output_type": "execute_result"
    }
   ],
   "source": [
    "len(train)"
   ]
  },
  {
   "cell_type": "code",
   "execution_count": 33,
   "id": "ae6a6b7f",
   "metadata": {},
   "outputs": [],
   "source": [
    "def getTriples(lines):\n",
    "    triples = []\n",
    "    for line in tqdm(lines):\n",
    "        if not line.startswith('predict tail:'):\n",
    "            continue\n",
    "        line = line.split('\\t')\n",
    "        tail = line[1]\n",
    "        line = line[0].replace('predict tail: ', '')\n",
    "        head = line.split(' | ')[0]\n",
    "        relation = line.split(' | ')[1].replace(' |', '')\n",
    "        triples.append([head, relation, tail])\n",
    "    return triples"
   ]
  },
  {
   "cell_type": "code",
   "execution_count": 34,
   "id": "3b9e636e",
   "metadata": {},
   "outputs": [
    {
     "name": "stderr",
     "output_type": "stream",
     "text": [
      "100%|██████████| 371168/371168 [00:00<00:00, 518598.05it/s]\n"
     ]
    }
   ],
   "source": [
    "train_triples = getTriples(train)"
   ]
  },
  {
   "cell_type": "code",
   "execution_count": 35,
   "id": "ff0960fb",
   "metadata": {},
   "outputs": [
    {
     "data": {
      "text/plain": [
       "[['a few good men', 'cast member', 'jack nicholson'],\n",
       " ['senegal', 'member of', 'unesco'],\n",
       " ['anthony edwards', 'occupation', 'actor'],\n",
       " ['roy mayorga', 'occupation', 'guitarist'],\n",
       " ['franz werfel', 'country of citizenship', 'republic of german-austria']]"
      ]
     },
     "execution_count": 35,
     "metadata": {},
     "output_type": "execute_result"
    }
   ],
   "source": [
    "train_triples[:5]"
   ]
  },
  {
   "cell_type": "code",
   "execution_count": 36,
   "id": "445f5ffc",
   "metadata": {},
   "outputs": [],
   "source": [
    "def getRelationPredictionLines(triples):\n",
    "    lines = []\n",
    "    for t in tqdm(triples):\n",
    "        line = 'predict relation: {0} | {2} |\\t{1}'.format(t[0], t[1], t[2])\n",
    "        lines.append(line)\n",
    "    return lines"
   ]
  },
  {
   "cell_type": "code",
   "execution_count": 37,
   "id": "117965af",
   "metadata": {},
   "outputs": [
    {
     "name": "stderr",
     "output_type": "stream",
     "text": [
      "100%|██████████| 185584/185584 [00:00<00:00, 808445.64it/s]\n"
     ]
    }
   ],
   "source": [
    "rel_pred_lines = getRelationPredictionLines(train_triples)"
   ]
  },
  {
   "cell_type": "code",
   "execution_count": 38,
   "id": "c5adfeea",
   "metadata": {},
   "outputs": [
    {
     "data": {
      "text/plain": [
       "['predict tail: a few good men | cast member |\\tjack nicholson',\n",
       " 'predict head: jack nicholson | cast member |\\ta few good men']"
      ]
     },
     "execution_count": 38,
     "metadata": {},
     "output_type": "execute_result"
    }
   ],
   "source": [
    "train[:2]"
   ]
  },
  {
   "cell_type": "code",
   "execution_count": 39,
   "id": "5d03e560",
   "metadata": {},
   "outputs": [
    {
     "data": {
      "text/plain": [
       "'predict relation: a few good men | jack nicholson |\\tcast member'"
      ]
     },
     "execution_count": 39,
     "metadata": {},
     "output_type": "execute_result"
    }
   ],
   "source": [
    "rel_pred_lines[0]"
   ]
  },
  {
   "cell_type": "code",
   "execution_count": 40,
   "id": "f8c882a0",
   "metadata": {},
   "outputs": [],
   "source": [
    "all_lines = train + rel_pred_lines\n",
    "fname = folder + 'train_with_rp.txt'\n",
    "f = open(fname, 'w')\n",
    "for line in all_lines:\n",
    "    f.write(line + '\\n')\n",
    "f.close()"
   ]
  },
  {
   "cell_type": "code",
   "execution_count": null,
   "id": "778ee1f2",
   "metadata": {},
   "outputs": [],
   "source": []
  }
 ],
 "metadata": {
  "kernelspec": {
   "display_name": "Python 3",
   "language": "python",
   "name": "python3"
  },
  "language_info": {
   "codemirror_mode": {
    "name": "ipython",
    "version": 3
   },
   "file_extension": ".py",
   "mimetype": "text/x-python",
   "name": "python",
   "nbconvert_exporter": "python",
   "pygments_lexer": "ipython3",
   "version": "3.8.8"
  }
 },
 "nbformat": 4,
 "nbformat_minor": 5
}
