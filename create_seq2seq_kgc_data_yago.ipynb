{
 "cells": [
  {
   "cell_type": "code",
   "execution_count": 59,
   "id": "6294b12f",
   "metadata": {},
   "outputs": [],
   "source": [
    "import os\n",
    "import pickle\n",
    "from tqdm import tqdm\n",
    "import sentencepiece as spm"
   ]
  },
  {
   "cell_type": "code",
   "execution_count": 60,
   "id": "66554ebd",
   "metadata": {},
   "outputs": [
    {
     "name": "stdout",
     "output_type": "stream",
     "text": [
      "dataset.yaml\t  test.txt\t\t   valid.del\r\n",
      "entity_ids.del\t  test_without_unseen.del  valid.txt\r\n",
      "full.txt\t  train.del\t\t   valid_without_unseen.del\r\n",
      "relation_ids.del  train_sample.del\r\n",
      "test.del\t  train.txt\r\n"
     ]
    }
   ],
   "source": [
    "source_folder = '/scratche/home/apoorv/repos/probe_kge/data/yago3-10'\n",
    "! ls {source_folder}"
   ]
  },
  {
   "cell_type": "code",
   "execution_count": 69,
   "id": "7d72b5aa",
   "metadata": {},
   "outputs": [],
   "source": [
    "fname = 'entity_ids.del'\n",
    "entities = []\n",
    "for line in open(os.path.join(source_folder, fname)):\n",
    "    line = line.strip().split('\\t')\n",
    "    entities.append(line[1])\n",
    "    \n",
    "fname = 'relation_ids.del'\n",
    "relations = []\n",
    "for line in open(os.path.join(source_folder, fname)):\n",
    "    line = line.strip().split('\\t')\n",
    "    relations.append(line[1])"
   ]
  },
  {
   "cell_type": "code",
   "execution_count": 62,
   "id": "59e18046",
   "metadata": {},
   "outputs": [],
   "source": [
    "def readTriples(fname):\n",
    "    f = open(fname)\n",
    "    triples = []\n",
    "    for line in f:\n",
    "        if line[-1] == '\\n':\n",
    "            line = line[:-1]\n",
    "        triples.append(line.split('\\t'))\n",
    "    f.close()\n",
    "    return triples"
   ]
  },
  {
   "cell_type": "code",
   "execution_count": 63,
   "id": "aa327398",
   "metadata": {},
   "outputs": [],
   "source": [
    "data = {}\n",
    "splits = ['train', 'test', 'valid']\n",
    "for split in splits:\n",
    "    fname = os.path.join(source_folder, split + '.txt')\n",
    "    data[split] = readTriples(fname)"
   ]
  },
  {
   "cell_type": "code",
   "execution_count": 64,
   "id": "da7e6850",
   "metadata": {},
   "outputs": [
    {
     "data": {
      "text/plain": [
       "['Toni_Kuivasto', 'isAffiliatedTo', 'Helsingin_Jalkapalloklubi']"
      ]
     },
     "execution_count": 64,
     "metadata": {},
     "output_type": "execute_result"
    }
   ],
   "source": [
    "data['train'][2]"
   ]
  },
  {
   "cell_type": "code",
   "execution_count": 68,
   "id": "410ead09",
   "metadata": {},
   "outputs": [],
   "source": [
    "from unidecode import unidecode\n",
    "\n",
    "def normalizeRelation(rel):\n",
    "    out = \"\"\n",
    "    for c in rel:\n",
    "        if c.isupper():\n",
    "            out += ' ' + c.lower()\n",
    "        else:\n",
    "            out += c\n",
    "    return out\n",
    "\n",
    "def normalizeEntity(ent):\n",
    "    ent = ent.replace('_', ' ')\n",
    "    ent = unidecode(ent)\n",
    "    return ent"
   ]
  },
  {
   "cell_type": "code",
   "execution_count": 70,
   "id": "361312d7",
   "metadata": {},
   "outputs": [],
   "source": [
    "relation_map = {}\n",
    "for rel in relations:\n",
    "    rel_processed = normalizeRelation(rel)\n",
    "    relation_map[rel] = rel_processed"
   ]
  },
  {
   "cell_type": "code",
   "execution_count": 73,
   "id": "a54a2a13",
   "metadata": {},
   "outputs": [],
   "source": [
    "entity_map = {}\n",
    "for ent in entities:\n",
    "    ent_processed = normalizeEntity(ent)\n",
    "    entity_map[ent] = ent_processed"
   ]
  },
  {
   "cell_type": "code",
   "execution_count": 80,
   "id": "03affe38",
   "metadata": {},
   "outputs": [],
   "source": [
    "def getUniqueMap(init_map):\n",
    "    out_map = {}\n",
    "    values = set()\n",
    "    for key, value in init_map.items():\n",
    "        if value not in values:\n",
    "            out_map[key] = value\n",
    "            values.add(value)\n",
    "        else:\n",
    "            id_to_append = 0\n",
    "            new_value = value + ' ' + str(id_to_append)\n",
    "            while(new_value in values):\n",
    "                id_to_append += 1\n",
    "                new_value = value + ' ' + str(id_to_append)\n",
    "            out_map[key] = new_value\n",
    "            values.add(new_value)\n",
    "    assert len(init_map) == len(set(out_map.values()))\n",
    "    return out_map\n",
    "\n",
    "def mapTriple(triple, ent_map, rel_map):\n",
    "    new_triple = [ent_map[t[0]], rel_map[t[1]], ent_map[t[2]]]\n",
    "    return new_triple"
   ]
  },
  {
   "cell_type": "code",
   "execution_count": 76,
   "id": "720a2a53",
   "metadata": {},
   "outputs": [],
   "source": [
    "uniq_ent_map = getUniqueMap(entity_map)"
   ]
  },
  {
   "cell_type": "code",
   "execution_count": 82,
   "id": "1e84e918",
   "metadata": {},
   "outputs": [
    {
     "data": {
      "text/plain": [
       "['Juan Pablo Raponi', 'plays for', 'Club Atletico River Plate']"
      ]
     },
     "execution_count": 82,
     "metadata": {},
     "output_type": "execute_result"
    }
   ],
   "source": [
    "mapTriple(data['train'][0], uniq_ent_map, relation_map)"
   ]
  },
  {
   "cell_type": "code",
   "execution_count": 83,
   "id": "dec20bbe",
   "metadata": {},
   "outputs": [],
   "source": [
    "out_folder = '/scratche/home/apoorv/transformer-kgc/data/yago3-10'\n",
    "splits = ['train', 'test', 'valid']\n",
    "for split in splits:\n",
    "    fname = os.path.join(out_folder, split + '2.txt')\n",
    "    f = open(fname, 'w')\n",
    "    triples = data[split]\n",
    "    for t in triples:\n",
    "        t = mapTriple(t, uniq_ent_map, relation_map)\n",
    "        head, relation, tail = t\n",
    "        input = 'predict tail: {0} | {1} |'.format(head, relation)\n",
    "        output = '{}'.format(tail)\n",
    "        f.write(input + '\\t' + output + '\\n')\n",
    "        \n",
    "        input = 'predict head: {0} | {1} |'.format(tail, relation)\n",
    "        output = '{}'.format(head)\n",
    "        f.write(input + '\\t' + output + '\\n')\n",
    "    f.close()"
   ]
  },
  {
   "cell_type": "code",
   "execution_count": 84,
   "id": "483eab98",
   "metadata": {},
   "outputs": [],
   "source": [
    "# create entity_strings.txt which is needed in evaluation code\n",
    "strings_file_name = 'entity_strings2.txt'\n",
    "f = open(os.path.join(out_folder, strings_file_name), 'w')\n",
    "ents_uniq = set(uniq_ent_map.values())\n",
    "for e in ents_uniq:\n",
    "    f.write(e + '\\n')\n",
    "f.close()"
   ]
  },
  {
   "cell_type": "code",
   "execution_count": 85,
   "id": "8a8e6782",
   "metadata": {},
   "outputs": [],
   "source": [
    "vocab_size = 30000\n",
    "sp = spm.SentencePieceTrainer.train(input='data/yago3-10/full2.txt', \n",
    "                                    model_prefix='yago_with_pad2', vocab_size=vocab_size, \n",
    "                                    pad_id=3,\n",
    "#                                     character_coverage=1.0,\n",
    "#                                user_defined_symbols=['<pad>'],\n",
    "#                                     normalization_rule_name='identity',\n",
    "                              )"
   ]
  },
  {
   "cell_type": "code",
   "execution_count": 87,
   "id": "c2256ddf",
   "metadata": {},
   "outputs": [],
   "source": [
    "sp = spm.SentencePieceProcessor(model_file='data/sentencepiece/yago_with_pad2.model')"
   ]
  },
  {
   "cell_type": "code",
   "execution_count": 88,
   "id": "8e3aa571",
   "metadata": {},
   "outputs": [
    {
     "data": {
      "text/plain": [
       "3"
      ]
     },
     "execution_count": 88,
     "metadata": {},
     "output_type": "execute_result"
    }
   ],
   "source": [
    "sp['<pad>']"
   ]
  },
  {
   "cell_type": "code",
   "execution_count": 90,
   "id": "ba0b22e2",
   "metadata": {},
   "outputs": [
    {
     "data": {
      "text/plain": [
       "['Chatou',\n",
       " 'France',\n",
       " 'Boo_Young-tae',\n",
       " 'Yangju_Citizen_FC',\n",
       " 'Toni_Kuivasto',\n",
       " 'Helsingin_Jalkapalloklubi',\n",
       " 'Josh_Smith_(soccer)',\n",
       " 'Trinity_University_(Texas)',\n",
       " 'Albrecht_Dürer',\n",
       " 'Nuremberg']"
      ]
     },
     "execution_count": 90,
     "metadata": {},
     "output_type": "execute_result"
    }
   ],
   "source": [
    "entities[:10]"
   ]
  },
  {
   "cell_type": "code",
   "execution_count": 92,
   "id": "30733281",
   "metadata": {},
   "outputs": [],
   "source": [
    "lengths = []\n",
    "for e in ents_uniq:\n",
    "    encoded = sp.encode(e)\n",
    "    lengths.append(len(encoded))"
   ]
  },
  {
   "cell_type": "code",
   "execution_count": 93,
   "id": "8055bc10",
   "metadata": {},
   "outputs": [
    {
     "data": {
      "text/plain": [
       "Text(0.5, 0, 'Tokenized lengths')"
      ]
     },
     "execution_count": 93,
     "metadata": {},
     "output_type": "execute_result"
    },
    {
     "data": {
      "image/png": "[encoded data removed]",
      "text/plain": [
       "<Figure size 432x288 with 1 Axes>"
      ]
     },
     "metadata": {
      "needs_background": "light"
     },
     "output_type": "display_data"
    }
   ],
   "source": [
    "import matplotlib.pyplot as plt \n",
    "\n",
    "import numpy as np \n",
    "\n",
    "%matplotlib inline\n",
    "\n",
    "# x = np.random.normal(size = 1000) \n",
    "x = lengths\n",
    "plt.hist(x, bins=30) \n",
    "\n",
    "plt.ylabel('Num entities');\n",
    "plt.xlabel('Tokenized lengths')"
   ]
  },
  {
   "cell_type": "code",
   "execution_count": 94,
   "id": "51a339bd",
   "metadata": {},
   "outputs": [
    {
     "data": {
      "text/plain": [
       "[19, 13, 18]"
      ]
     },
     "execution_count": 94,
     "metadata": {},
     "output_type": "execute_result"
    }
   ],
   "source": [
    "sp.encode('plays for')"
   ]
  },
  {
   "cell_type": "code",
   "execution_count": 35,
   "id": "be1d15cf",
   "metadata": {},
   "outputs": [
    {
     "name": "stdout",
     "output_type": "stream",
     "text": [
      "University_of_Illinois_at_Urbana-Champaign University_of_Illinois_at_Urbana-Champaign\n",
      "Hoang_Anh_Gia_Lai_F.C. Hoang_Anh_Gia_Lai_F.C.\n",
      "Zurich Zurich\n",
      "Toshirō_Mifune Toshiro_Mifune\n",
      "Karl_Weierstrass Karl_Weierstrass\n",
      "László_Bálint Laszlo_Balint\n",
      "Sergio_Araujo Sergio_Araujo\n",
      "Carlos_Tevez Carlos_Tevez\n",
      "Polish-Lithuanian_Commonwealth Polish-Lithuanian_Commonwealth\n",
      "Przemysl_II Przemysl_II\n",
      "Christian_Groß Christian_Gross\n",
      "Izmir Izmir\n",
      "Münster Munster\n",
      "Dalibor_Stevanovič Dalibor_Stevanovic\n",
      "Jürgen_Gjasula Jurgen_Gjasula\n",
      "Sócrates Socrates\n",
      "Zlatko_Dedič Zlatko_Dedic\n",
      "Antônio_Bezerra_Brandão Antonio_Bezerra_Brandao\n",
      "Aleksander_Kwasniewski Aleksander_Kwasniewski\n",
      "Sani_Bečirović Sani_Becirovic\n",
      "Izmit Izmit\n",
      "Ryukyu_Islands Ryukyu_Islands\n",
      "Stanisław_Ulam Stanislaw_Ulam\n",
      "Pantheon-Assas_University Pantheon-Assas_University\n",
      "Quang_Binh_Province Quang_Binh_Province\n",
      "Mures_County Mures_County\n",
      "Braila Braila\n",
      "San_Sebastian San_Sebastian\n",
      "Ploiesti Ploiesti\n",
      "Beja Beja\n",
      "Zé_Antônio Ze_Antonio\n",
      "San_Miguel_de_Tucumán San_Miguel_de_Tucuman\n",
      "Foça Foca\n",
      "Denmark-Norway Denmark-Norway\n",
      "Gmina_Rogóźno Gmina_Rogozno\n",
      "Habo_Municipality Habo_Municipality\n",
      "Gilgit-Baltistan Gilgit-Baltistan\n"
     ]
    }
   ],
   "source": [
    "from unidecode import unidecode\n",
    "entities_ud = []\n",
    "entities_ud_set = set()\n",
    "for e in entities:\n",
    "    ud_e = unidecode(e)\n",
    "    entities_ud.append(ud_e)\n",
    "    if ud_e in entities_ud_set:\n",
    "        print(e, ud_e)\n",
    "    else:\n",
    "        entities_ud_set.add(ud_e)"
   ]
  },
  {
   "cell_type": "code",
   "execution_count": 28,
   "id": "f67a0b09",
   "metadata": {},
   "outputs": [
    {
     "data": {
      "text/plain": [
       "(123182, 123182)"
      ]
     },
     "execution_count": 28,
     "metadata": {},
     "output_type": "execute_result"
    }
   ],
   "source": [
    "len(entities), len(set(entities))"
   ]
  },
  {
   "cell_type": "code",
   "execution_count": 33,
   "id": "62983ae2",
   "metadata": {},
   "outputs": [
    {
     "data": {
      "text/plain": [
       "(123182, 123145)"
      ]
     },
     "execution_count": 33,
     "metadata": {},
     "output_type": "execute_result"
    }
   ],
   "source": [
    "len(entities_ud), len(set(entities_ud))"
   ]
  },
  {
   "cell_type": "code",
   "execution_count": null,
   "id": "dd205992",
   "metadata": {},
   "outputs": [],
   "source": []
  }
 ],
 "metadata": {
  "kernelspec": {
   "display_name": "Python 3",
   "language": "python",
   "name": "python3"
  },
  "language_info": {
   "codemirror_mode": {
    "name": "ipython",
    "version": 3
   },
   "file_extension": ".py",
   "mimetype": "text/x-python",
   "name": "python",
   "nbconvert_exporter": "python",
   "pygments_lexer": "ipython3",
   "version": "3.8.8"
  }
 },
 "nbformat": 4,
 "nbformat_minor": 5
}
