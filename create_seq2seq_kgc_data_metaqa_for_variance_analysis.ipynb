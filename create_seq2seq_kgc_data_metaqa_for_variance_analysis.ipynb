{
 "cells": [
  {
   "cell_type": "code",
   "execution_count": 1,
   "id": "6294b12f",
   "metadata": {},
   "outputs": [],
   "source": [
    "import os\n",
    "import pickle\n",
    "from tqdm import tqdm\n",
    "import sentencepiece as spm"
   ]
  },
  {
   "cell_type": "code",
   "execution_count": 2,
   "id": "66554ebd",
   "metadata": {},
   "outputs": [
    {
     "name": "stdout",
     "output_type": "stream",
     "text": [
      "entities.dict  relations.dict  test.txt  train.txt  valid.txt\r\n"
     ]
    }
   ],
   "source": [
    "source_folder = '/scratche/home/apoorv/EmbedKGQA/data/MetaQA'\n",
    "! ls {source_folder}"
   ]
  },
  {
   "cell_type": "code",
   "execution_count": 3,
   "id": "7d72b5aa",
   "metadata": {},
   "outputs": [],
   "source": [
    "fname = 'entities.dict'\n",
    "entities = []\n",
    "for line in open(os.path.join(source_folder, fname)):\n",
    "    line = line.strip().split('\\t')\n",
    "    entities.append(line[0])\n",
    "    \n",
    "fname = 'relations.dict'\n",
    "relations = []\n",
    "for line in open(os.path.join(source_folder, fname)):\n",
    "    line = line.strip().split('\\t')\n",
    "    relations.append(line[0])"
   ]
  },
  {
   "cell_type": "code",
   "execution_count": 4,
   "id": "59e18046",
   "metadata": {},
   "outputs": [],
   "source": [
    "def readTriples(fname):\n",
    "    f = open(fname)\n",
    "    triples = []\n",
    "    for line in f:\n",
    "        if line[-1] == '\\n':\n",
    "            line = line[:-1]\n",
    "        triples.append(line.split('\\t'))\n",
    "    f.close()\n",
    "    return triples"
   ]
  },
  {
   "cell_type": "code",
   "execution_count": 5,
   "id": "aa327398",
   "metadata": {},
   "outputs": [],
   "source": [
    "data = {}\n",
    "splits = ['train', 'test', 'valid']\n",
    "for split in splits:\n",
    "    fname = os.path.join(source_folder, split + '.txt')\n",
    "    data[split] = readTriples(fname)"
   ]
  },
  {
   "cell_type": "code",
   "execution_count": 6,
   "id": "da7e6850",
   "metadata": {},
   "outputs": [
    {
     "data": {
      "text/plain": [
       "['Memory', 'starred_actors', 'Billy Zane']"
      ]
     },
     "execution_count": 6,
     "metadata": {},
     "output_type": "execute_result"
    }
   ],
   "source": [
    "data['train'][2]"
   ]
  },
  {
   "cell_type": "code",
   "execution_count": 7,
   "id": "410ead09",
   "metadata": {},
   "outputs": [],
   "source": [
    "from unidecode import unidecode\n",
    "\n",
    "def normalizeRelation(rel):\n",
    "    rel = rel.replace('_', ' ')\n",
    "    return rel\n",
    "\n",
    "def normalizeEntity(ent):\n",
    "    ent = unidecode(ent)\n",
    "    return ent"
   ]
  },
  {
   "cell_type": "code",
   "execution_count": 8,
   "id": "361312d7",
   "metadata": {},
   "outputs": [],
   "source": [
    "relation_map = {}\n",
    "for rel in relations:\n",
    "    rel_processed = normalizeRelation(rel)\n",
    "    relation_map[rel] = rel_processed"
   ]
  },
  {
   "cell_type": "code",
   "execution_count": 9,
   "id": "a54a2a13",
   "metadata": {},
   "outputs": [],
   "source": [
    "entity_map = {}\n",
    "for ent in entities:\n",
    "    ent_processed = normalizeEntity(ent)\n",
    "    entity_map[ent] = ent_processed"
   ]
  },
  {
   "cell_type": "code",
   "execution_count": 10,
   "id": "96540678",
   "metadata": {},
   "outputs": [
    {
     "data": {
      "text/plain": [
       "(18, 18)"
      ]
     },
     "execution_count": 10,
     "metadata": {},
     "output_type": "execute_result"
    }
   ],
   "source": [
    "len(relation_map), len(set(relation_map.values()))"
   ]
  },
  {
   "cell_type": "code",
   "execution_count": 11,
   "id": "3340cb0a",
   "metadata": {},
   "outputs": [
    {
     "data": {
      "text/plain": [
       "(43234, 43232)"
      ]
     },
     "execution_count": 11,
     "metadata": {},
     "output_type": "execute_result"
    }
   ],
   "source": [
    "len(entity_map), len(set(entity_map.values()))"
   ]
  },
  {
   "cell_type": "code",
   "execution_count": 12,
   "id": "03affe38",
   "metadata": {},
   "outputs": [],
   "source": [
    "def getUniqueMap(init_map):\n",
    "    out_map = {}\n",
    "    values = set()\n",
    "    for key, value in init_map.items():\n",
    "        if value not in values:\n",
    "            out_map[key] = value\n",
    "            values.add(value)\n",
    "        else:\n",
    "            id_to_append = 0\n",
    "            new_value = value + ' ' + str(id_to_append)\n",
    "            while(new_value in values):\n",
    "                id_to_append += 1\n",
    "                new_value = value + ' ' + str(id_to_append)\n",
    "            out_map[key] = new_value\n",
    "            values.add(new_value)\n",
    "    assert len(init_map) == len(set(out_map.values()))\n",
    "    return out_map\n",
    "\n",
    "def mapTriple(triple, ent_map, rel_map):\n",
    "    t = triple\n",
    "    new_triple = [ent_map[t[0]], rel_map[t[1]], ent_map[t[2]]]\n",
    "    return new_triple"
   ]
  },
  {
   "cell_type": "code",
   "execution_count": 13,
   "id": "720a2a53",
   "metadata": {},
   "outputs": [],
   "source": [
    "uniq_ent_map = getUniqueMap(entity_map)"
   ]
  },
  {
   "cell_type": "code",
   "execution_count": 14,
   "id": "1e84e918",
   "metadata": {},
   "outputs": [
    {
     "data": {
      "text/plain": [
       "['The Prowler', 'starred actors', 'Evelyn Keyes']"
      ]
     },
     "execution_count": 14,
     "metadata": {},
     "output_type": "execute_result"
    }
   ],
   "source": [
    "mapTriple(data['train'][0], uniq_ent_map, relation_map)"
   ]
  },
  {
   "cell_type": "code",
   "execution_count": 20,
   "id": "b158c4fb",
   "metadata": {},
   "outputs": [
    {
     "data": {
      "text/plain": [
       "141689"
      ]
     },
     "execution_count": 20,
     "metadata": {},
     "output_type": "execute_result"
    }
   ],
   "source": [
    "all_data = data['train'] + data['valid'] + data['test']\n",
    "len(all_data)"
   ]
  },
  {
   "cell_type": "code",
   "execution_count": 28,
   "id": "20b0f81f",
   "metadata": {},
   "outputs": [],
   "source": [
    "import random\n",
    "reduced_data = {}\n",
    "splits = ['train', 'test', 'valid']\n",
    "# always 50% split\n",
    "num_train = len(all_data) // 2\n",
    "num_valid = 5000\n",
    "random.shuffle(all_data)\n",
    "reduced_data['valid'] = all_data[:num_valid]\n",
    "reduced_data['test'] = reduced_data['valid']\n",
    "reduced_data['train'] = all_data[num_valid: num_valid + num_train]"
   ]
  },
  {
   "cell_type": "code",
   "execution_count": 34,
   "id": "5ac8d4ff",
   "metadata": {},
   "outputs": [
    {
     "data": {
      "text/plain": [
       "43234"
      ]
     },
     "execution_count": 34,
     "metadata": {},
     "output_type": "execute_result"
    }
   ],
   "source": [
    "def getEnts(triples):\n",
    "    ents = set()\n",
    "    for t in triples:\n",
    "        ents.add(t[0])\n",
    "        ents.add(t[2])\n",
    "    return ents\n",
    "\n",
    "all_ents = getEnts(all_data)\n",
    "len(all_ents)"
   ]
  },
  {
   "cell_type": "code",
   "execution_count": 60,
   "id": "9d927bc6",
   "metadata": {},
   "outputs": [],
   "source": [
    "# make reduced data BUT\n",
    "# include all entities in train\n",
    "reduced_train = set()\n",
    "ents_added = set()\n",
    "id = 0\n",
    "random.shuffle(all_data)\n",
    "while(len(ents_added) < len(all_ents)):\n",
    "    t = all_data[id]\n",
    "    head = t[0]\n",
    "    tail = t[2]\n",
    "    if head not in ents_added or tail not in ents_added:\n",
    "        reduced_train.add((t[0], t[1], t[2]))\n",
    "        ents_added.add(head)\n",
    "        ents_added.add(tail)\n",
    "    id += 1"
   ]
  },
  {
   "cell_type": "code",
   "execution_count": 61,
   "id": "c1b76cfe",
   "metadata": {},
   "outputs": [],
   "source": [
    "import random\n",
    "reduced_data = {}\n",
    "splits = ['train', 'test', 'valid']\n",
    "# always 50% split\n",
    "num_train = len(all_data) // 2\n",
    "num_valid = 5000\n",
    "random.shuffle(all_data)\n",
    "reduced_data['valid'] = []\n",
    "for t in all_data[:num_valid]:\n",
    "    t_tuple = (t[0], t[1], t[2])\n",
    "    if t_tuple not in reduced_train:\n",
    "        reduced_data['valid'].append(t)\n",
    "reduced_data['test'] = reduced_data['valid']\n",
    "reduced_data['train'] = []\n",
    "\n",
    "for t in reduced_train:\n",
    "    t = [t[0], t[1], t[2]]\n",
    "    reduced_data['train'].append(t)\n",
    "\n",
    "for t in all_data[num_valid:]:\n",
    "    t_tuple = (t[0], t[1], t[2])\n",
    "    if t_tuple not in reduced_train:\n",
    "        reduced_data['train'].append(t)\n",
    "    if len(reduced_data['train']) == num_train:\n",
    "        break"
   ]
  },
  {
   "cell_type": "code",
   "execution_count": 62,
   "id": "5d57afe5",
   "metadata": {},
   "outputs": [
    {
     "data": {
      "text/plain": [
       "(70844, 3638, 3638)"
      ]
     },
     "execution_count": 62,
     "metadata": {},
     "output_type": "execute_result"
    }
   ],
   "source": [
    "len(reduced_data['train']), len(reduced_data['valid']), len(reduced_data['test'])"
   ]
  },
  {
   "cell_type": "code",
   "execution_count": 63,
   "id": "7504c633",
   "metadata": {},
   "outputs": [
    {
     "data": {
      "text/plain": [
       "43234"
      ]
     },
     "execution_count": 63,
     "metadata": {},
     "output_type": "execute_result"
    }
   ],
   "source": [
    "len(getEnts(reduced_data['train']))"
   ]
  },
  {
   "cell_type": "code",
   "execution_count": 64,
   "id": "dec20bbe",
   "metadata": {},
   "outputs": [],
   "source": [
    "out_folder = '/scratche/home/apoorv/transformer-kgc/data/MetaQA_half_allents3'\n",
    "splits = ['train', 'test', 'valid']\n",
    "for split in splits:\n",
    "    fname = os.path.join(out_folder, split + '.txt')\n",
    "    f = open(fname, 'w')\n",
    "    triples = reduced_data[split]\n",
    "    for t in triples:\n",
    "        t = mapTriple(t, uniq_ent_map, relation_map)\n",
    "        head, relation, tail = t\n",
    "        input = 'predict tail: {0} | {1} |'.format(head, relation)\n",
    "        output = '{}'.format(tail)\n",
    "        f.write(input + '\\t' + output + '\\n')\n",
    "        \n",
    "        input = 'predict head: {0} | {1} |'.format(tail, relation)\n",
    "        output = '{}'.format(head)\n",
    "        f.write(input + '\\t' + output + '\\n')\n",
    "    f.close()"
   ]
  },
  {
   "cell_type": "code",
   "execution_count": 65,
   "id": "483eab98",
   "metadata": {},
   "outputs": [],
   "source": [
    "# create entity_strings.txt which is needed in evaluation code\n",
    "strings_file_name = 'entity_strings.txt'\n",
    "f = open(os.path.join(out_folder, strings_file_name), 'w')\n",
    "ents_uniq = set(uniq_ent_map.values())\n",
    "for e in ents_uniq:\n",
    "    f.write(e + '\\n')\n",
    "f.close()"
   ]
  },
  {
   "cell_type": "code",
   "execution_count": 17,
   "id": "561b82f9",
   "metadata": {},
   "outputs": [],
   "source": [
    "def readQALines(fname):\n",
    "    f = open(fname)\n",
    "    questions = []\n",
    "    for line in f:\n",
    "        line = line.strip().split('\\t')\n",
    "        q = line[0]\n",
    "        q = q.replace('[', '')\n",
    "        q = q.replace(']', '')\n",
    "        q = normalizeEntity(q)\n",
    "        questions.append(q)\n",
    "    return questions\n",
    "        \n",
    "def writeLines(lines, fname):\n",
    "    f = open(fname, 'w')\n",
    "    for line in lines:\n",
    "        f.write(line + '\\n')\n"
   ]
  },
  {
   "cell_type": "code",
   "execution_count": 18,
   "id": "0eeccae2",
   "metadata": {},
   "outputs": [],
   "source": [
    "fname = 'data/MetaQA/full_qa.txt'\n",
    "questions = readQALines(fname)"
   ]
  },
  {
   "cell_type": "code",
   "execution_count": 19,
   "id": "ad94ee58",
   "metadata": {},
   "outputs": [],
   "source": [
    "fname = 'data/MetaQA/full_q_only.txt'\n",
    "writeLines(questions, fname)"
   ]
  },
  {
   "cell_type": "code",
   "execution_count": null,
   "id": "8a8e6782",
   "metadata": {},
   "outputs": [],
   "source": [
    "vocab_size = 20000\n",
    "sp = spm.SentencePieceTrainer.train(input='data/MetaQA/full_for_sp_train.txt', \n",
    "                                    model_prefix='metaqa_with_pad', vocab_size=vocab_size, \n",
    "                                    pad_id=3,\n",
    "#                                     character_coverage=1.0,\n",
    "#                                user_defined_symbols=['<pad>'],\n",
    "#                                     normalization_rule_name='identity',\n",
    "                              )"
   ]
  },
  {
   "cell_type": "code",
   "execution_count": 66,
   "id": "c2256ddf",
   "metadata": {},
   "outputs": [],
   "source": [
    "sp = spm.SentencePieceProcessor(model_file='data/sentencepiece/metaqa_with_pad.model')"
   ]
  },
  {
   "cell_type": "code",
   "execution_count": 67,
   "id": "8e3aa571",
   "metadata": {},
   "outputs": [
    {
     "data": {
      "text/plain": [
       "5"
      ]
     },
     "execution_count": 67,
     "metadata": {},
     "output_type": "execute_result"
    }
   ],
   "source": [
    "sp['|']"
   ]
  },
  {
   "cell_type": "code",
   "execution_count": 77,
   "id": "6fd5923c",
   "metadata": {},
   "outputs": [
    {
     "data": {
      "text/plain": [
       "7"
      ]
     },
     "execution_count": 77,
     "metadata": {},
     "output_type": "execute_result"
    }
   ],
   "source": [
    "sp[':']"
   ]
  },
  {
   "cell_type": "code",
   "execution_count": 72,
   "id": "ba0b22e2",
   "metadata": {},
   "outputs": [
    {
     "data": {
      "text/plain": [
       "[6, 4, 8, 7, 478, 2835, 2143, 40, 4434, 27, 4, 5, 4, 732, 3868, 4, 5]"
      ]
     },
     "execution_count": 72,
     "metadata": {},
     "output_type": "execute_result"
    }
   ],
   "source": [
    "sp.encode('predict tail: Wolfgang Widerhofer | noop |')"
   ]
  },
  {
   "cell_type": "code",
   "execution_count": 70,
   "id": "30733281",
   "metadata": {},
   "outputs": [],
   "source": [
    "lengths = []\n",
    "for e in ents_uniq:\n",
    "    encoded = sp.encode(e)\n",
    "    lengths.append(len(encoded))"
   ]
  },
  {
   "cell_type": "code",
   "execution_count": 71,
   "id": "8055bc10",
   "metadata": {},
   "outputs": [
    {
     "data": {
      "text/plain": [
       "Text(0.5, 0, 'Tokenized lengths')"
      ]
     },
     "execution_count": 71,
     "metadata": {},
     "output_type": "execute_result"
    },
    {
     "data": {
      "image/png": "[encoded data removed]",
      "text/plain": [
       "<Figure size 432x288 with 1 Axes>"
      ]
     },
     "metadata": {
      "needs_background": "light"
     },
     "output_type": "display_data"
    }
   ],
   "source": [
    "import matplotlib.pyplot as plt \n",
    "\n",
    "import numpy as np \n",
    "\n",
    "%matplotlib inline\n",
    "\n",
    "# x = np.random.normal(size = 1000) \n",
    "x = lengths\n",
    "plt.hist(x, bins=30) \n",
    "\n",
    "plt.ylabel('Num entities');\n",
    "plt.xlabel('Tokenized lengths')"
   ]
  },
  {
   "cell_type": "code",
   "execution_count": 78,
   "id": "51a339bd",
   "metadata": {},
   "outputs": [
    {
     "data": {
      "text/plain": [
       "[4, 732, 3868]"
      ]
     },
     "execution_count": 78,
     "metadata": {},
     "output_type": "execute_result"
    }
   ],
   "source": [
    "sp.encode('noop')"
   ]
  },
  {
   "cell_type": "code",
   "execution_count": 35,
   "id": "be1d15cf",
   "metadata": {},
   "outputs": [
    {
     "name": "stdout",
     "output_type": "stream",
     "text": [
      "University_of_Illinois_at_Urbana-Champaign University_of_Illinois_at_Urbana-Champaign\n",
      "Hoang_Anh_Gia_Lai_F.C. Hoang_Anh_Gia_Lai_F.C.\n",
      "Zurich Zurich\n",
      "Toshirō_Mifune Toshiro_Mifune\n",
      "Karl_Weierstrass Karl_Weierstrass\n",
      "László_Bálint Laszlo_Balint\n",
      "Sergio_Araujo Sergio_Araujo\n",
      "Carlos_Tevez Carlos_Tevez\n",
      "Polish-Lithuanian_Commonwealth Polish-Lithuanian_Commonwealth\n",
      "Przemysl_II Przemysl_II\n",
      "Christian_Groß Christian_Gross\n",
      "Izmir Izmir\n",
      "Münster Munster\n",
      "Dalibor_Stevanovič Dalibor_Stevanovic\n",
      "Jürgen_Gjasula Jurgen_Gjasula\n",
      "Sócrates Socrates\n",
      "Zlatko_Dedič Zlatko_Dedic\n",
      "Antônio_Bezerra_Brandão Antonio_Bezerra_Brandao\n",
      "Aleksander_Kwasniewski Aleksander_Kwasniewski\n",
      "Sani_Bečirović Sani_Becirovic\n",
      "Izmit Izmit\n",
      "Ryukyu_Islands Ryukyu_Islands\n",
      "Stanisław_Ulam Stanislaw_Ulam\n",
      "Pantheon-Assas_University Pantheon-Assas_University\n",
      "Quang_Binh_Province Quang_Binh_Province\n",
      "Mures_County Mures_County\n",
      "Braila Braila\n",
      "San_Sebastian San_Sebastian\n",
      "Ploiesti Ploiesti\n",
      "Beja Beja\n",
      "Zé_Antônio Ze_Antonio\n",
      "San_Miguel_de_Tucumán San_Miguel_de_Tucuman\n",
      "Foça Foca\n",
      "Denmark-Norway Denmark-Norway\n",
      "Gmina_Rogóźno Gmina_Rogozno\n",
      "Habo_Municipality Habo_Municipality\n",
      "Gilgit-Baltistan Gilgit-Baltistan\n"
     ]
    }
   ],
   "source": [
    "from unidecode import unidecode\n",
    "entities_ud = []\n",
    "entities_ud_set = set()\n",
    "for e in entities:\n",
    "    ud_e = unidecode(e)\n",
    "    entities_ud.append(ud_e)\n",
    "    if ud_e in entities_ud_set:\n",
    "        print(e, ud_e)\n",
    "    else:\n",
    "        entities_ud_set.add(ud_e)"
   ]
  },
  {
   "cell_type": "code",
   "execution_count": 28,
   "id": "f67a0b09",
   "metadata": {},
   "outputs": [
    {
     "data": {
      "text/plain": [
       "(123182, 123182)"
      ]
     },
     "execution_count": 28,
     "metadata": {},
     "output_type": "execute_result"
    }
   ],
   "source": [
    "len(entities), len(set(entities))"
   ]
  },
  {
   "cell_type": "code",
   "execution_count": 33,
   "id": "62983ae2",
   "metadata": {},
   "outputs": [
    {
     "data": {
      "text/plain": [
       "(123182, 123145)"
      ]
     },
     "execution_count": 33,
     "metadata": {},
     "output_type": "execute_result"
    }
   ],
   "source": [
    "len(entities_ud), len(set(entities_ud))"
   ]
  },
  {
   "cell_type": "code",
   "execution_count": null,
   "id": "dd205992",
   "metadata": {},
   "outputs": [],
   "source": []
  }
 ],
 "metadata": {
  "kernelspec": {
   "display_name": "Python 3 (ipykernel)",
   "language": "python",
   "name": "python3"
  },
  "language_info": {
   "codemirror_mode": {
    "name": "ipython",
    "version": 3
   },
   "file_extension": ".py",
   "mimetype": "text/x-python",
   "name": "python",
   "nbconvert_exporter": "python",
   "pygments_lexer": "ipython3",
   "version": "3.8.11"
  }
 },
 "nbformat": 4,
 "nbformat_minor": 5
}
